{
 "cells": [
  {
   "cell_type": "markdown",
   "metadata": {},
   "source": [
    "# Sparkify Project Workspace\n",
    "This workspace contains a tiny subset (128MB) of the full dataset available (12GB). Feel free to use this workspace to build your project, or to explore a smaller subset with Spark before deploying your cluster on the cloud. Instructions for setting up your Spark cluster is included in the last lesson of the Extracurricular Spark Course content.\n",
    "\n",
    "You can follow the steps below to guide your data analysis and model building portion of this project."
   ]
  },
  {
   "cell_type": "code",
   "execution_count": 1,
   "metadata": {},
   "outputs": [],
   "source": [
    "# import libraries\n",
    "import datetime\n",
    "import pandas as pd\n",
    "import seaborn as sns\n",
    "import matplotlib.pyplot as plt\n",
    "\n",
    "%matplotlib inline\n",
    "\n",
    "from pyspark.sql import SparkSession, Window\n",
    "from pyspark.sql.functions import udf, isnull, col, rand\n",
    "\n",
    "from pyspark.ml.classification import LogisticRegression, RandomForestClassifier, DecisionTreeClassifier\n",
    "from pyspark.ml.feature import VectorAssembler, Normalizer\n",
    "from pyspark.ml.tuning import ParamGridBuilder, CrossValidator\n",
    "from pyspark.ml.evaluation import BinaryClassificationEvaluator"
   ]
  },
  {
   "cell_type": "code",
   "execution_count": 2,
   "metadata": {},
   "outputs": [],
   "source": [
    "# create a Spark session\n",
    "spark = SparkSession.builder.appName('Capstone Project').getOrCreate()"
   ]
  },
  {
   "cell_type": "markdown",
   "metadata": {},
   "source": [
    "# Load and Clean Dataset\n",
    "In this workspace, the mini-dataset file is `mini_sparkify_event_data.json`. Load and clean the dataset, checking for invalid or missing data - for example, records without userids or sessionids. "
   ]
  },
  {
   "cell_type": "code",
   "execution_count": 3,
   "metadata": {},
   "outputs": [
    {
     "name": "stdout",
     "output_type": "stream",
     "text": [
      "+--------------+---------+---------+------+-------------+--------+---------+-----+---------------+------+--------+-------------+---------+---------+------+-------------+--------------------+------+\n",
      "|        artist|     auth|firstName|gender|itemInSession|lastName|   length|level|       location|method|    page| registration|sessionId|     song|status|           ts|           userAgent|userId|\n",
      "+--------------+---------+---------+------+-------------+--------+---------+-----+---------------+------+--------+-------------+---------+---------+------+-------------+--------------------+------+\n",
      "|Martha Tilston|Logged In|    Colin|     M|           50| Freeman|277.89016| paid|Bakersfield, CA|   PUT|NextSong|1538173362000|       29|Rockpools|   200|1538352117000|Mozilla/5.0 (Wind...|    30|\n",
      "+--------------+---------+---------+------+-------------+--------+---------+-----+---------------+------+--------+-------------+---------+---------+------+-------------+--------------------+------+\n",
      "only showing top 1 row\n",
      "\n"
     ]
    }
   ],
   "source": [
    "df = spark.read.json('mini_sparkify_event_data.json')\n",
    "df.createOrReplaceTempView(\"spark_table\")\n",
    "df.show(1)"
   ]
  },
  {
   "cell_type": "code",
   "execution_count": 4,
   "metadata": {},
   "outputs": [
    {
     "name": "stdout",
     "output_type": "stream",
     "text": [
      "(286500, 18)\n"
     ]
    }
   ],
   "source": [
    "print((df.count(), len(df.columns)))"
   ]
  },
  {
   "cell_type": "code",
   "execution_count": 5,
   "metadata": {},
   "outputs": [
    {
     "name": "stdout",
     "output_type": "stream",
     "text": [
      "root\n",
      " |-- artist: string (nullable = true)\n",
      " |-- auth: string (nullable = true)\n",
      " |-- firstName: string (nullable = true)\n",
      " |-- gender: string (nullable = true)\n",
      " |-- itemInSession: long (nullable = true)\n",
      " |-- lastName: string (nullable = true)\n",
      " |-- length: double (nullable = true)\n",
      " |-- level: string (nullable = true)\n",
      " |-- location: string (nullable = true)\n",
      " |-- method: string (nullable = true)\n",
      " |-- page: string (nullable = true)\n",
      " |-- registration: long (nullable = true)\n",
      " |-- sessionId: long (nullable = true)\n",
      " |-- song: string (nullable = true)\n",
      " |-- status: long (nullable = true)\n",
      " |-- ts: long (nullable = true)\n",
      " |-- userAgent: string (nullable = true)\n",
      " |-- userId: string (nullable = true)\n",
      "\n"
     ]
    }
   ],
   "source": [
    "df.printSchema()"
   ]
  },
  {
   "cell_type": "code",
   "execution_count": 6,
   "metadata": {},
   "outputs": [
    {
     "data": {
      "text/plain": [
       "artist           58392\n",
       "auth                 0\n",
       "firstName         8346\n",
       "gender            8346\n",
       "itemInSession        0\n",
       "lastName          8346\n",
       "length           58392\n",
       "level                0\n",
       "location          8346\n",
       "method               0\n",
       "page                 0\n",
       "registration      8346\n",
       "sessionId            0\n",
       "song             58392\n",
       "status               0\n",
       "ts                   0\n",
       "userAgent         8346\n",
       "userId               0\n",
       "dtype: int64"
      ]
     },
     "execution_count": 6,
     "metadata": {},
     "output_type": "execute_result"
    }
   ],
   "source": [
    "# check if any of the fields have nulls\n",
    "null_list = df.toPandas().isnull().sum()\n",
    "null_list"
   ]
  },
  {
   "cell_type": "markdown",
   "metadata": {},
   "source": [
    "Looks like there are a number of fields which has nulls. I will check on the percantage of these nulls in each of these fields and remove those which has more than 5% of nulls. "
   ]
  },
  {
   "cell_type": "code",
   "execution_count": 7,
   "metadata": {},
   "outputs": [
    {
     "data": {
      "text/plain": [
       "artist    20.381152\n",
       "length    20.381152\n",
       "song      20.381152\n",
       "dtype: float64"
      ]
     },
     "execution_count": 7,
     "metadata": {},
     "output_type": "execute_result"
    }
   ],
   "source": [
    "# List fields having more than 5% nulls\n",
    "null_pct = null_list / df.count() * 100\n",
    "null_pct.loc[null_pct > 5]"
   ]
  },
  {
   "cell_type": "code",
   "execution_count": 8,
   "metadata": {
    "scrolled": true
   },
   "outputs": [
    {
     "name": "stdout",
     "output_type": "stream",
     "text": [
      "+---------+---------+------+-------------+--------+-----+--------------------+------+---------------+-------------+---------+------+-------------+--------------------+------+\n",
      "|     auth|firstName|gender|itemInSession|lastName|level|            location|method|           page| registration|sessionId|status|           ts|           userAgent|userId|\n",
      "+---------+---------+------+-------------+--------+-----+--------------------+------+---------------+-------------+---------+------+-------------+--------------------+------+\n",
      "|Logged In|    Colin|     M|           50| Freeman| paid|     Bakersfield, CA|   PUT|       NextSong|1538173362000|       29|   200|1538352117000|Mozilla/5.0 (Wind...|    30|\n",
      "|Logged In|    Micah|     M|           79|    Long| free|Boston-Cambridge-...|   PUT|       NextSong|1538331630000|        8|   200|1538352180000|\"Mozilla/5.0 (Win...|     9|\n",
      "|Logged In|    Colin|     M|           51| Freeman| paid|     Bakersfield, CA|   PUT|       NextSong|1538173362000|       29|   200|1538352394000|Mozilla/5.0 (Wind...|    30|\n",
      "|Logged In|    Micah|     M|           80|    Long| free|Boston-Cambridge-...|   PUT|       NextSong|1538331630000|        8|   200|1538352416000|\"Mozilla/5.0 (Win...|     9|\n",
      "|Logged In|    Colin|     M|           52| Freeman| paid|     Bakersfield, CA|   PUT|       NextSong|1538173362000|       29|   200|1538352676000|Mozilla/5.0 (Wind...|    30|\n",
      "|Logged In|    Micah|     M|           81|    Long| free|Boston-Cambridge-...|   PUT|       NextSong|1538331630000|        8|   200|1538352678000|\"Mozilla/5.0 (Win...|     9|\n",
      "|Logged In|    Micah|     M|           82|    Long| free|Boston-Cambridge-...|   PUT|       NextSong|1538331630000|        8|   200|1538352886000|\"Mozilla/5.0 (Win...|     9|\n",
      "|Logged In|    Colin|     M|           53| Freeman| paid|     Bakersfield, CA|   PUT|       NextSong|1538173362000|       29|   200|1538352899000|Mozilla/5.0 (Wind...|    30|\n",
      "|Logged In|    Colin|     M|           54| Freeman| paid|     Bakersfield, CA|   PUT|Add to Playlist|1538173362000|       29|   200|1538352905000|Mozilla/5.0 (Wind...|    30|\n",
      "|Logged In|    Colin|     M|           55| Freeman| paid|     Bakersfield, CA|   PUT|       NextSong|1538173362000|       29|   200|1538353084000|Mozilla/5.0 (Wind...|    30|\n",
      "|Logged In|    Micah|     M|           83|    Long| free|Boston-Cambridge-...|   PUT|       NextSong|1538331630000|        8|   200|1538353146000|\"Mozilla/5.0 (Win...|     9|\n",
      "|Logged In|    Micah|     M|           84|    Long| free|Boston-Cambridge-...|   GET|    Roll Advert|1538331630000|        8|   200|1538353150000|\"Mozilla/5.0 (Win...|     9|\n",
      "|Logged In|    Colin|     M|           56| Freeman| paid|     Bakersfield, CA|   PUT|       NextSong|1538173362000|       29|   200|1538353218000|Mozilla/5.0 (Wind...|    30|\n",
      "|Logged In|    Micah|     M|           85|    Long| free|Boston-Cambridge-...|   PUT|       NextSong|1538331630000|        8|   200|1538353375000|\"Mozilla/5.0 (Win...|     9|\n",
      "|Logged In|    Micah|     M|           86|    Long| free|Boston-Cambridge-...|   PUT|      Thumbs Up|1538331630000|        8|   307|1538353376000|\"Mozilla/5.0 (Win...|     9|\n",
      "|Logged In|    Colin|     M|           57| Freeman| paid|     Bakersfield, CA|   PUT|       NextSong|1538173362000|       29|   200|1538353441000|Mozilla/5.0 (Wind...|    30|\n",
      "|Logged In|    Micah|     M|           87|    Long| free|Boston-Cambridge-...|   PUT|       NextSong|1538331630000|        8|   200|1538353576000|\"Mozilla/5.0 (Win...|     9|\n",
      "|Logged In|  Ashlynn|     F|            0|Williams| free|     Tallahassee, FL|   PUT|       NextSong|1537365219000|      217|   200|1538353668000|\"Mozilla/5.0 (Mac...|    74|\n",
      "|Logged In|    Colin|     M|           58| Freeman| paid|     Bakersfield, CA|   PUT|       NextSong|1538173362000|       29|   200|1538353687000|Mozilla/5.0 (Wind...|    30|\n",
      "|Logged In|    Micah|     M|           88|    Long| free|Boston-Cambridge-...|   PUT|       NextSong|1538331630000|        8|   200|1538353744000|\"Mozilla/5.0 (Win...|     9|\n",
      "+---------+---------+------+-------------+--------+-----+--------------------+------+---------------+-------------+---------+------+-------------+--------------------+------+\n",
      "only showing top 20 rows\n",
      "\n"
     ]
    }
   ],
   "source": [
    "# remove the fields artist, length & song\n",
    "df = df.drop(*['artist', 'length', 'song'])\n",
    "df.show()"
   ]
  },
  {
   "cell_type": "code",
   "execution_count": 9,
   "metadata": {},
   "outputs": [],
   "source": [
    "#refresh the view\n",
    "df.createOrReplaceTempView(\"spark_table\")"
   ]
  },
  {
   "cell_type": "code",
   "execution_count": 10,
   "metadata": {},
   "outputs": [
    {
     "name": "stdout",
     "output_type": "stream",
     "text": [
      "+-------+-----------------+\n",
      "|summary|           userId|\n",
      "+-------+-----------------+\n",
      "|  count|           286500|\n",
      "|   mean|59682.02278593872|\n",
      "| stddev|109091.9499991047|\n",
      "|    min|                 |\n",
      "|    max|               99|\n",
      "+-------+-----------------+\n",
      "\n"
     ]
    }
   ],
   "source": [
    "# Check for missing values in userId\n",
    "df.describe('userId').show()"
   ]
  },
  {
   "cell_type": "markdown",
   "metadata": {},
   "source": [
    "It looks like there are missing values in userId. Lets check the count of missing values and remove these records from the data set."
   ]
  },
  {
   "cell_type": "code",
   "execution_count": 11,
   "metadata": {},
   "outputs": [
    {
     "name": "stdout",
     "output_type": "stream",
     "text": [
      "+--------+\n",
      "|count(1)|\n",
      "+--------+\n",
      "|    8346|\n",
      "+--------+\n",
      "\n"
     ]
    }
   ],
   "source": [
    "spark.sql(\"Select count(1) from spark_table where userId = ''\").show()"
   ]
  },
  {
   "cell_type": "code",
   "execution_count": 12,
   "metadata": {},
   "outputs": [],
   "source": [
    "# Remove these 8,346 records from the data set\n",
    "df = df.filter(df['userId']!='')"
   ]
  },
  {
   "cell_type": "code",
   "execution_count": 13,
   "metadata": {},
   "outputs": [
    {
     "name": "stdout",
     "output_type": "stream",
     "text": [
      "+--------+\n",
      "|count(1)|\n",
      "+--------+\n",
      "|       0|\n",
      "+--------+\n",
      "\n"
     ]
    }
   ],
   "source": [
    "# check to confirm is there are any more missing values in user id\n",
    "df.createOrReplaceTempView(\"spark_table\")\n",
    "spark.sql(\"Select count(1) from spark_table where (userId = '' or userId is null)\").show()"
   ]
  },
  {
   "cell_type": "code",
   "execution_count": 14,
   "metadata": {},
   "outputs": [
    {
     "name": "stdout",
     "output_type": "stream",
     "text": [
      "+-------------------+\n",
      "|Distinct_User_Count|\n",
      "+-------------------+\n",
      "|                225|\n",
      "+-------------------+\n",
      "\n"
     ]
    }
   ],
   "source": [
    "# Check for distinct users in the data set\n",
    "spark.sql(\"select count(distinct userId) as Distinct_User_Count from spark_table\").show()"
   ]
  },
  {
   "cell_type": "code",
   "execution_count": 15,
   "metadata": {},
   "outputs": [
    {
     "name": "stdout",
     "output_type": "stream",
     "text": [
      "+---------+---------+------+-------------+--------+-----+---------------+------+--------+-------------+---------+------+-------------+--------------------+------+\n",
      "|     auth|firstName|gender|itemInSession|lastName|level|       location|method|    page| registration|sessionId|status|           ts|           userAgent|userId|\n",
      "+---------+---------+------+-------------+--------+-----+---------------+------+--------+-------------+---------+------+-------------+--------------------+------+\n",
      "|Logged In|    Colin|     M|           50| Freeman| paid|Bakersfield, CA|   PUT|NextSong|1538173362000|       29|   200|1538352117000|Mozilla/5.0 (Wind...|    30|\n",
      "+---------+---------+------+-------------+--------+-----+---------------+------+--------+-------------+---------+------+-------------+--------------------+------+\n",
      "only showing top 1 row\n",
      "\n"
     ]
    }
   ],
   "source": [
    "# check the cleaned data set\n",
    "df.show(1)"
   ]
  },
  {
   "cell_type": "markdown",
   "metadata": {},
   "source": [
    "# Exploratory Data Analysis\n",
    "When you're working with the full dataset, perform EDA by loading a small subset of the data and doing basic manipulations within Spark. In this workspace, you are already provided a small subset of data you can explore."
   ]
  },
  {
   "cell_type": "markdown",
   "metadata": {},
   "source": [
    "### Define Churn\n",
    "\n",
    "Once you've done some preliminary analysis, create a column `Churn` to use as the label for your model. I suggest using the `Cancellation Confirmation` events to define your churn, which happen for both paid and free users. As a bonus task, you can also look into the `Downgrade` events.\n",
    "\n",
    "### Explore Data\n",
    "Once you've defined churn, perform some exploratory data analysis to observe the behavior for users who stayed vs users who churned. You can start by exploring aggregates on these two groups of users, observing how much of a specific action they experienced per a certain time unit or number of songs played."
   ]
  },
  {
   "cell_type": "code",
   "execution_count": 16,
   "metadata": {},
   "outputs": [],
   "source": [
    "#Create a view to perform SQL operations\n",
    "df.createOrReplaceTempView(\"spark_table_clean\")"
   ]
  },
  {
   "cell_type": "code",
   "execution_count": 17,
   "metadata": {},
   "outputs": [
    {
     "name": "stdout",
     "output_type": "stream",
     "text": [
      "+-------------------------+\n",
      "|page                     |\n",
      "+-------------------------+\n",
      "|Cancel                   |\n",
      "|Submit Downgrade         |\n",
      "|Thumbs Down              |\n",
      "|Home                     |\n",
      "|Downgrade                |\n",
      "|Roll Advert              |\n",
      "|Logout                   |\n",
      "|Save Settings            |\n",
      "|Cancellation Confirmation|\n",
      "|About                    |\n",
      "|Settings                 |\n",
      "|Add to Playlist          |\n",
      "|Add Friend               |\n",
      "|NextSong                 |\n",
      "|Thumbs Up                |\n",
      "|Help                     |\n",
      "|Upgrade                  |\n",
      "|Error                    |\n",
      "|Submit Upgrade           |\n",
      "+-------------------------+\n",
      "\n"
     ]
    }
   ],
   "source": [
    "# check on the unique events performed by a user\n",
    "spark.sql(\"Select page from spark_table_clean group by page\").show(truncate=False)"
   ]
  },
  {
   "cell_type": "markdown",
   "metadata": {},
   "source": [
    "There are total of 19 distinct events. Lets look at how each / majority of these play a role if any in determining whether a user cancels his membership / not."
   ]
  },
  {
   "cell_type": "code",
   "execution_count": 18,
   "metadata": {},
   "outputs": [
    {
     "name": "stdout",
     "output_type": "stream",
     "text": [
      "+------------+\n",
      "|Num_of_users|\n",
      "+------------+\n",
      "|         225|\n",
      "+------------+\n",
      "\n"
     ]
    }
   ],
   "source": [
    "# check number of distinct users in this data set\n",
    "user_count = spark.sql(\"Select count(distinct userId) as Num_of_users from spark_table\")\n",
    "user_count.show()"
   ]
  },
  {
   "cell_type": "code",
   "execution_count": 19,
   "metadata": {},
   "outputs": [
    {
     "data": {
      "text/plain": [
       "52"
      ]
     },
     "execution_count": 19,
     "metadata": {},
     "output_type": "execute_result"
    }
   ],
   "source": [
    "# get list of users who have cancelled \n",
    "cancel_user_list = spark.sql(\"select distinct userId from spark_table \\\n",
    "                        where page = 'Cancellation Confirmation'\")\n",
    "cancel_user_list.count()"
   ]
  },
  {
   "cell_type": "code",
   "execution_count": 20,
   "metadata": {},
   "outputs": [
    {
     "data": {
      "text/plain": [
       "173"
      ]
     },
     "execution_count": 20,
     "metadata": {},
     "output_type": "execute_result"
    }
   ],
   "source": [
    "# get list of users who have stayed with sparkify\n",
    "stayed_user_list = spark.sql(\"select distinct userId from spark_table \\\n",
    "                        where userId not in (Select distinct userId from \\\n",
    "                        spark_table where page = 'Cancellation Confirmation')\")\n",
    "stayed_user_list.count()"
   ]
  },
  {
   "cell_type": "code",
   "execution_count": 21,
   "metadata": {},
   "outputs": [],
   "source": [
    "# create views for stayed and cancelled user list\n",
    "cancel_user_list.createOrReplaceTempView('cancel_list')\n",
    "stayed_user_list.createOrReplaceTempView('stayed_list')"
   ]
  },
  {
   "cell_type": "code",
   "execution_count": 22,
   "metadata": {},
   "outputs": [],
   "source": [
    "# 'gender' values for Stayed and cancelled users\n",
    "gender_count_cancel = spark.sql(\"Select gender,count(distinct main.userId) as Count from spark_table_clean \\\n",
    "                        main inner join cancel_list cl on main.userId = cl.userId group by main.gender\")"
   ]
  },
  {
   "cell_type": "code",
   "execution_count": 23,
   "metadata": {},
   "outputs": [
    {
     "data": {
      "image/png": "[encoded data removed]",
      "text/plain": [
       "<matplotlib.figure.Figure at 0x7f77d1bbe6d8>"
      ]
     },
     "metadata": {
      "needs_background": "light"
     },
     "output_type": "display_data"
    }
   ],
   "source": [
    "plt.title('Cancelled Users')\n",
    "sns.barplot(x='gender',y='Count',data=gender_count_cancel.toPandas());"
   ]
  },
  {
   "cell_type": "code",
   "execution_count": 24,
   "metadata": {},
   "outputs": [],
   "source": [
    "# 'gender' values for Stayed and cancelled users\n",
    "gender_count_stayed = spark.sql(\"Select gender,count(distinct main.userId) as Count from spark_table_clean \\\n",
    "                        main inner join stayed_list st on main.userId = st.userId group by main.gender\")"
   ]
  },
  {
   "cell_type": "code",
   "execution_count": 25,
   "metadata": {},
   "outputs": [
    {
     "data": {
      "image/png": "[encoded data removed]",
      "text/plain": [
       "<matplotlib.figure.Figure at 0x7f77d08ff5f8>"
      ]
     },
     "metadata": {
      "needs_background": "light"
     },
     "output_type": "display_data"
    }
   ],
   "source": [
    "plt.title('Stayed Users')\n",
    "sns.barplot(x='gender',y='Count',data=gender_count_stayed.toPandas());"
   ]
  },
  {
   "cell_type": "markdown",
   "metadata": {},
   "source": [
    "From the charts above, it looks like Male users have more cancellation compared to females. This could be attributed to the fact that the there are more male users compared to female users. Lets check the other fields in the data set."
   ]
  },
  {
   "cell_type": "code",
   "execution_count": 26,
   "metadata": {},
   "outputs": [],
   "source": [
    "# view how the field 'level' is distributed for stayed and cancelled users\n",
    "level_count_cancel = spark.sql(\"Select level,count(distinct main.userId) as Count from spark_table_clean \\\n",
    "                        main inner join cancel_list cl on main.userId = cl.userId and page = 'Cancellation Confirmation' \\\n",
    "                        group by main.level\")"
   ]
  },
  {
   "cell_type": "code",
   "execution_count": 27,
   "metadata": {},
   "outputs": [
    {
     "data": {
      "image/png": "[encoded data removed]",
      "text/plain": [
       "<matplotlib.figure.Figure at 0x7f77d16e6748>"
      ]
     },
     "metadata": {
      "needs_background": "light"
     },
     "output_type": "display_data"
    }
   ],
   "source": [
    "plt.title('Cancelled Users')\n",
    "sns.barplot(x='level',y='Count',data=level_count_cancel.toPandas());"
   ]
  },
  {
   "cell_type": "code",
   "execution_count": 28,
   "metadata": {},
   "outputs": [],
   "source": [
    "level_count_stayed = spark.sql(\"Select level,count(distinct main.userId) as Count from spark_table_clean \\\n",
    "                        main inner join stayed_list st on main.userId = st.userId \\\n",
    "                        inner join (Select userId,max(ts) max_ts from spark_table_clean group by userId) usr \\\n",
    "                        on main.userId = usr.userId and main.ts = usr.max_ts group by main.level\")"
   ]
  },
  {
   "cell_type": "code",
   "execution_count": 29,
   "metadata": {},
   "outputs": [
    {
     "data": {
      "image/png": "[encoded data removed]",
      "text/plain": [
       "<matplotlib.figure.Figure at 0x7f77d2989a58>"
      ]
     },
     "metadata": {
      "needs_background": "light"
     },
     "output_type": "display_data"
    }
   ],
   "source": [
    "plt.title('Stayed Users')\n",
    "sns.barplot(x='level',y='Count',data=level_count_stayed.toPandas());"
   ]
  },
  {
   "cell_type": "markdown",
   "metadata": {},
   "source": [
    "From the Cancelled users chart, its obvious that paid users have more cancellations, but when you look at stayed users chart, again users who have stayed are those with paid subscription."
   ]
  },
  {
   "cell_type": "code",
   "execution_count": 30,
   "metadata": {},
   "outputs": [],
   "source": [
    "# Pages visisted by users who stayed vs who cancelled\n",
    "page_count_cancel = spark.sql(\"Select page,count(1) as Count from spark_table_clean \\\n",
    "                        main inner join cancel_list cl on main.userId = cl.userId group by main.page\")"
   ]
  },
  {
   "cell_type": "code",
   "execution_count": 31,
   "metadata": {
    "scrolled": true
   },
   "outputs": [
    {
     "data": {
      "text/plain": [
       "(array([ 0,  1,  2,  3,  4,  5,  6,  7,  8,  9, 10, 11, 12, 13, 14, 15, 16,\n",
       "        17, 18]), <a list of 19 Text xticklabel objects>)"
      ]
     },
     "execution_count": 31,
     "metadata": {},
     "output_type": "execute_result"
    },
    {
     "data": {
      "image/png": "[encoded data removed]",
      "text/plain": [
       "<matplotlib.figure.Figure at 0x7f77d32a3d30>"
      ]
     },
     "metadata": {
      "needs_background": "light"
     },
     "output_type": "display_data"
    }
   ],
   "source": [
    "sns.barplot(x='page',y='Count',data=page_count_cancel.toPandas()).set_title(\"Cancelled Users\");\n",
    "plt.xticks(rotation = 90)"
   ]
  },
  {
   "cell_type": "code",
   "execution_count": 32,
   "metadata": {},
   "outputs": [
    {
     "name": "stdout",
     "output_type": "stream",
     "text": [
      "+-------------------------+-----+\n",
      "|page                     |Count|\n",
      "+-------------------------+-----+\n",
      "|Cancel                   |52   |\n",
      "|Submit Downgrade         |9    |\n",
      "|Thumbs Down              |496  |\n",
      "|Home                     |1672 |\n",
      "|Downgrade                |337  |\n",
      "|Roll Advert              |967  |\n",
      "|Logout                   |553  |\n",
      "|Save Settings            |58   |\n",
      "|Cancellation Confirmation|52   |\n",
      "|About                    |56   |\n",
      "|Settings                 |270  |\n",
      "|Add to Playlist          |1038 |\n",
      "|Add Friend               |636  |\n",
      "|NextSong                 |36394|\n",
      "|Thumbs Up                |1859 |\n",
      "|Help                     |239  |\n",
      "|Upgrade                  |112  |\n",
      "|Error                    |32   |\n",
      "|Submit Upgrade           |32   |\n",
      "+-------------------------+-----+\n",
      "\n"
     ]
    }
   ],
   "source": [
    "page_count_cancel.show(truncate=False)"
   ]
  },
  {
   "cell_type": "code",
   "execution_count": 33,
   "metadata": {},
   "outputs": [],
   "source": [
    "page_count_stayed = spark.sql(\"Select page,count(1) as Count from spark_table_clean \\\n",
    "                        main inner join stayed_list st on main.userId = st.userId group by main.page\")"
   ]
  },
  {
   "cell_type": "code",
   "execution_count": 34,
   "metadata": {
    "scrolled": true
   },
   "outputs": [
    {
     "data": {
      "text/plain": [
       "(array([ 0,  1,  2,  3,  4,  5,  6,  7,  8,  9, 10, 11, 12, 13, 14, 15, 16]),\n",
       " <a list of 17 Text xticklabel objects>)"
      ]
     },
     "execution_count": 34,
     "metadata": {},
     "output_type": "execute_result"
    },
    {
     "data": {
      "image/png": "[encoded data removed]",
      "text/plain": [
       "<matplotlib.figure.Figure at 0x7f77d0daf668>"
      ]
     },
     "metadata": {
      "needs_background": "light"
     },
     "output_type": "display_data"
    }
   ],
   "source": [
    "sns.barplot(x='page',y='Count',data=page_count_stayed.toPandas()).set_title(\"Stayed Users\");\n",
    "plt.xticks(rotation = 90)"
   ]
  },
  {
   "cell_type": "code",
   "execution_count": 35,
   "metadata": {},
   "outputs": [
    {
     "name": "stdout",
     "output_type": "stream",
     "text": [
      "+----------------+------+\n",
      "|page            |Count |\n",
      "+----------------+------+\n",
      "|Submit Downgrade|54    |\n",
      "|Thumbs Down     |2050  |\n",
      "|Home            |8410  |\n",
      "|Downgrade       |1718  |\n",
      "|Roll Advert     |2966  |\n",
      "|Logout          |2673  |\n",
      "|Save Settings   |252   |\n",
      "|About           |439   |\n",
      "|Settings        |1244  |\n",
      "|Add to Playlist |5488  |\n",
      "|Add Friend      |3641  |\n",
      "|NextSong        |191714|\n",
      "|Thumbs Up       |10692 |\n",
      "|Help            |1215  |\n",
      "|Upgrade         |387   |\n",
      "|Error           |220   |\n",
      "|Submit Upgrade  |127   |\n",
      "+----------------+------+\n",
      "\n"
     ]
    }
   ],
   "source": [
    "page_count_stayed.show(truncate=False)"
   ]
  },
  {
   "cell_type": "markdown",
   "metadata": {},
   "source": [
    "From the chart and the data above, it looks like Users who have cancelled and stayed , both visited NextSong and Home page more often than others suggesting they were looking to explore more songs. Also events like Downgrade, Thumbs Down can be related to users who are not happy and events like Add Friend, Upgrade can be linked to users who prefer to stay."
   ]
  },
  {
   "cell_type": "code",
   "execution_count": 36,
   "metadata": {},
   "outputs": [],
   "source": [
    "# Explore on the Date and Time aspect of the users\n",
    "get_hour = udf(lambda x: datetime.datetime.fromtimestamp(x / 1000.0). strftime(\"%H\"))\n",
    "get_day = udf(lambda x: datetime.datetime.fromtimestamp(x / 1000.0). strftime(\"%d\"))\n",
    "get_weekday = udf(lambda x: datetime.datetime.fromtimestamp(x / 1000.0). strftime(\"%A\"))\n"
   ]
  },
  {
   "cell_type": "code",
   "execution_count": 37,
   "metadata": {},
   "outputs": [],
   "source": [
    "df = df.withColumn(\"hour\", get_hour(df.ts)) \\\n",
    "        .withColumn(\"day\", get_day(df.ts)) \\\n",
    "        .withColumn(\"weekday\", get_weekday(df.ts)) \\\n",
    "        .drop(\"ts\")"
   ]
  },
  {
   "cell_type": "code",
   "execution_count": 38,
   "metadata": {},
   "outputs": [],
   "source": [
    "# Replace view\n",
    "df.createOrReplaceTempView(\"spark_table_clean\")"
   ]
  },
  {
   "cell_type": "code",
   "execution_count": 39,
   "metadata": {},
   "outputs": [],
   "source": [
    "# number of users active by the hour of the day\n",
    "users_cancel_by_hour = spark.sql(\"Select hour,count(1) as Count from spark_table_clean \\\n",
    "                        main inner join cancel_list cl on main.userId = cl.userId group by main.hour\")"
   ]
  },
  {
   "cell_type": "code",
   "execution_count": 40,
   "metadata": {
    "scrolled": true
   },
   "outputs": [
    {
     "data": {
      "image/png": "[encoded data removed]",
      "text/plain": [
       "<matplotlib.figure.Figure at 0x7f77d4080a90>"
      ]
     },
     "metadata": {
      "needs_background": "light"
     },
     "output_type": "display_data"
    }
   ],
   "source": [
    "sns.barplot(x='hour',y='Count',data=users_cancel_by_hour.toPandas()).set_title('Cancelled Users');"
   ]
  },
  {
   "cell_type": "code",
   "execution_count": 41,
   "metadata": {},
   "outputs": [],
   "source": [
    "users_stayed_by_hour = spark.sql(\"Select hour,count(1) as Count from spark_table_clean \\\n",
    "                        main inner join stayed_list st on main.userId = st.userId group by main.hour\")"
   ]
  },
  {
   "cell_type": "code",
   "execution_count": 42,
   "metadata": {},
   "outputs": [
    {
     "data": {
      "image/png": "[encoded data removed]",
      "text/plain": [
       "<matplotlib.figure.Figure at 0x7f77d5710550>"
      ]
     },
     "metadata": {
      "needs_background": "light"
     },
     "output_type": "display_data"
    }
   ],
   "source": [
    "sns.barplot(x='hour',y='Count',data=users_stayed_by_hour.toPandas()).set_title('Stayed Users');"
   ]
  },
  {
   "cell_type": "markdown",
   "metadata": {},
   "source": [
    "Users who have stayed seem to have very consistent interaction through out the duration of the day whereas interactions of users who have cancelled seem to be have a dip in the morning as compared to afternoon / evening."
   ]
  },
  {
   "cell_type": "code",
   "execution_count": 43,
   "metadata": {},
   "outputs": [],
   "source": [
    "# Users Behaviour by days of the month\n",
    "users_cancel_by_days = spark.sql(\"Select day,count(1) as Count from spark_table_clean \\\n",
    "                        main inner join cancel_list cl on main.userId = cl.userId group by main.day\")"
   ]
  },
  {
   "cell_type": "code",
   "execution_count": 44,
   "metadata": {
    "scrolled": true
   },
   "outputs": [
    {
     "data": {
      "image/png": "[encoded data removed]",
      "text/plain": [
       "<matplotlib.figure.Figure at 0x7f77d78723c8>"
      ]
     },
     "metadata": {
      "needs_background": "light"
     },
     "output_type": "display_data"
    }
   ],
   "source": [
    "plt.figure(figsize=(20,6))\n",
    "sns.barplot(x=\"day\",y=\"Count\", data=users_cancel_by_days.toPandas()).set_title('Cancelled Users');"
   ]
  },
  {
   "cell_type": "code",
   "execution_count": 45,
   "metadata": {},
   "outputs": [],
   "source": [
    "users_stayed_by_days = spark.sql(\"Select day,count(1) as Count from spark_table_clean \\\n",
    "                        main inner join stayed_list st on main.userId = st.userId group by main.day\")"
   ]
  },
  {
   "cell_type": "code",
   "execution_count": 46,
   "metadata": {},
   "outputs": [
    {
     "data": {
      "image/png": "[encoded data removed]",
      "text/plain": [
       "<matplotlib.figure.Figure at 0x7f77d8068128>"
      ]
     },
     "metadata": {
      "needs_background": "light"
     },
     "output_type": "display_data"
    }
   ],
   "source": [
    "plt.figure(figsize=(20,6))\n",
    "sns.barplot(x=\"day\",y=\"Count\", data=users_stayed_by_days.toPandas()).set_title('Stayed Users');"
   ]
  },
  {
   "cell_type": "markdown",
   "metadata": {},
   "source": [
    "Users who have stayed seem to have a fairly consistent interaction throughout the month, but the interaction of users who have cancelled seems to decrease in the second half of the month."
   ]
  },
  {
   "cell_type": "code",
   "execution_count": 47,
   "metadata": {},
   "outputs": [],
   "source": [
    "# User behaviour by weekdays\n",
    "users_cancel_by_weekday = spark.sql(\"Select weekday,count(1) as Count from spark_table_clean \\\n",
    "                        main inner join cancel_list cl on main.userId = cl.userId group by main.weekday\")"
   ]
  },
  {
   "cell_type": "code",
   "execution_count": 48,
   "metadata": {
    "scrolled": true
   },
   "outputs": [
    {
     "data": {
      "image/png": "[encoded data removed]",
      "text/plain": [
       "<matplotlib.figure.Figure at 0x7f77db2046d8>"
      ]
     },
     "metadata": {
      "needs_background": "light"
     },
     "output_type": "display_data"
    }
   ],
   "source": [
    "plt.figure(figsize=(10,5))\n",
    "sns.barplot( x=\"weekday\",y=\"Count\", data=users_cancel_by_weekday.toPandas()).set_title('Cancelled Users');"
   ]
  },
  {
   "cell_type": "code",
   "execution_count": 49,
   "metadata": {},
   "outputs": [],
   "source": [
    "users_stayed_by_weekday = spark.sql(\"Select weekday,count(1) as Count from spark_table_clean \\\n",
    "                        main inner join stayed_list st on main.userId = st.userId group by main.weekday\")"
   ]
  },
  {
   "cell_type": "code",
   "execution_count": 50,
   "metadata": {},
   "outputs": [
    {
     "data": {
      "image/png": "[encoded data removed]",
      "text/plain": [
       "<matplotlib.figure.Figure at 0x7f77d9edc400>"
      ]
     },
     "metadata": {
      "needs_background": "light"
     },
     "output_type": "display_data"
    }
   ],
   "source": [
    "plt.figure(figsize=(10,5))\n",
    "sns.barplot( x=\"weekday\",y=\"Count\", data=users_stayed_by_weekday.toPandas()).set_title('Stayed Users');"
   ]
  },
  {
   "cell_type": "markdown",
   "metadata": {},
   "source": [
    "Users interaction with the system seem to be consistent for both who have stayed as well as who have cancelled their service."
   ]
  },
  {
   "cell_type": "markdown",
   "metadata": {},
   "source": [
    "# Feature Engineering\n",
    "Once you've familiarized yourself with the data, build out the features you find promising to train your model on. To work with the full dataset, you can follow the following steps.\n",
    "- Write a script to extract the necessary features from the smaller subset of data\n",
    "- Ensure that your script is scalable, using the best practices discussed in Lesson 3\n",
    "- Try your script on the full data set, debugging your script if necessary\n",
    "\n",
    "If you are working in the classroom workspace, you can just extract features based on the small subset of data contained here. Be sure to transfer over this work to the larger dataset when you work on your Spark cluster."
   ]
  },
  {
   "cell_type": "code",
   "execution_count": 51,
   "metadata": {},
   "outputs": [
    {
     "name": "stdout",
     "output_type": "stream",
     "text": [
      "root\n",
      " |-- auth: string (nullable = true)\n",
      " |-- firstName: string (nullable = true)\n",
      " |-- gender: string (nullable = true)\n",
      " |-- itemInSession: long (nullable = true)\n",
      " |-- lastName: string (nullable = true)\n",
      " |-- level: string (nullable = true)\n",
      " |-- location: string (nullable = true)\n",
      " |-- method: string (nullable = true)\n",
      " |-- page: string (nullable = true)\n",
      " |-- registration: long (nullable = true)\n",
      " |-- sessionId: long (nullable = true)\n",
      " |-- status: long (nullable = true)\n",
      " |-- userAgent: string (nullable = true)\n",
      " |-- userId: string (nullable = true)\n",
      " |-- hour: string (nullable = true)\n",
      " |-- day: string (nullable = true)\n",
      " |-- weekday: string (nullable = true)\n",
      "\n"
     ]
    }
   ],
   "source": [
    "df.printSchema()"
   ]
  },
  {
   "cell_type": "code",
   "execution_count": 52,
   "metadata": {},
   "outputs": [],
   "source": [
    "# remove attributes that will not be used\n",
    "df = df.drop(*['auth','firstName','gender','itemInSession','lastName', \\\n",
    "              'location','method','registration','sessionId','status', \\\n",
    "              'userAgent'])"
   ]
  },
  {
   "cell_type": "code",
   "execution_count": 53,
   "metadata": {},
   "outputs": [
    {
     "name": "stdout",
     "output_type": "stream",
     "text": [
      "+-----+---------------+------+----+---+-------+\n",
      "|level|           page|userId|hour|day|weekday|\n",
      "+-----+---------------+------+----+---+-------+\n",
      "| paid|       NextSong|    30|  00| 01| Monday|\n",
      "| free|       NextSong|     9|  00| 01| Monday|\n",
      "| paid|       NextSong|    30|  00| 01| Monday|\n",
      "| free|       NextSong|     9|  00| 01| Monday|\n",
      "| paid|       NextSong|    30|  00| 01| Monday|\n",
      "| free|       NextSong|     9|  00| 01| Monday|\n",
      "| free|       NextSong|     9|  00| 01| Monday|\n",
      "| paid|       NextSong|    30|  00| 01| Monday|\n",
      "| paid|Add to Playlist|    30|  00| 01| Monday|\n",
      "| paid|       NextSong|    30|  00| 01| Monday|\n",
      "| free|       NextSong|     9|  00| 01| Monday|\n",
      "| free|    Roll Advert|     9|  00| 01| Monday|\n",
      "| paid|       NextSong|    30|  00| 01| Monday|\n",
      "| free|       NextSong|     9|  00| 01| Monday|\n",
      "| free|      Thumbs Up|     9|  00| 01| Monday|\n",
      "| paid|       NextSong|    30|  00| 01| Monday|\n",
      "| free|       NextSong|     9|  00| 01| Monday|\n",
      "| free|       NextSong|    74|  00| 01| Monday|\n",
      "| paid|       NextSong|    30|  00| 01| Monday|\n",
      "| free|       NextSong|     9|  00| 01| Monday|\n",
      "+-----+---------------+------+----+---+-------+\n",
      "only showing top 20 rows\n",
      "\n"
     ]
    }
   ],
   "source": [
    "df.show()"
   ]
  },
  {
   "cell_type": "code",
   "execution_count": 54,
   "metadata": {},
   "outputs": [],
   "source": [
    "df.createOrReplaceTempView('spark_table_feat')"
   ]
  },
  {
   "cell_type": "code",
   "execution_count": 55,
   "metadata": {},
   "outputs": [],
   "source": [
    "# Define feature (Categorical) based on Level (Paid Vs Free)\n",
    "df_feature = spark.sql(\"Select main.userId, freelvl.freelevel, paidlvl.paidlevel from \\\n",
    "            (select distinct userId from spark_table_feat) main left outer join \\\n",
    "            (Select userId, level as freelevel from spark_table_feat \\\n",
    "            where level = 'free' group by userId, level) freelvl on \\\n",
    "            main.userId = freelvl.userId Left outer join \\\n",
    "            (Select userId, level as paidlevel from spark_table_feat \\\n",
    "            where level = 'paid' group by userId, level) paidlvl \\\n",
    "            on main.userId = paidlvl.userId\")"
   ]
  },
  {
   "cell_type": "markdown",
   "metadata": {},
   "source": [
    "Define few Numerical Features"
   ]
  },
  {
   "cell_type": "code",
   "execution_count": 56,
   "metadata": {},
   "outputs": [],
   "source": [
    "# calculate frequency of user visits by AM/PM of the day\n",
    "hourfList = []\n",
    "hour_split = spark.sql(\"select userId,sum(case when hour between '00' and '11' Then 1 Else 0 End) as Day_AM_Count \\\n",
    "        ,sum(case when hour between '12' and '23' Then 1 Else 0 End) as Day_PM_Count \\\n",
    "        from spark_table_feat group by userId\")\n",
    "\n",
    "for c in hour_split.columns[1:]:\n",
    "    hour_dtl = hour_split.select([\"userId\",c])\n",
    "    hourfList.append(hour_dtl)"
   ]
  },
  {
   "cell_type": "code",
   "execution_count": 57,
   "metadata": {},
   "outputs": [],
   "source": [
    "# calculate frequency of user visits by First half / second half of month\n",
    "monthfList = []\n",
    "month_split = spark.sql(\"select userId,sum(case when day between '01' and '15' Then 1 Else 0 End) as FH_Mth_Count \\\n",
    "        ,sum(case when day > '15' Then 1 Else 0 End) as SH_Mth_Count \\\n",
    "        from spark_table_feat group by userId\")\n",
    "\n",
    "for c in month_split.columns[1:]:\n",
    "    month_dtl = month_split.select([\"userId\",c])\n",
    "    monthfList.append(month_dtl)"
   ]
  },
  {
   "cell_type": "code",
   "execution_count": 58,
   "metadata": {},
   "outputs": [],
   "source": [
    "# Calculate number of visits to each page by user\n",
    "# Restrict the events only to important page events\n",
    "df_page = spark.sql(\"Select userId, page, count(*) as Count from spark_table_feat \\\n",
    "            where page in ('Submit Downgrade','Thumbs Down','Cancellation Confirmation', \\\n",
    "            'Downgrade', 'Add Friend', 'Thumbs Up', 'NextSong','Upgrade', 'Submit Upgrade') group by userId, page\")\n",
    "\n",
    "df_page_list = df_page.groupby(\"userId\").pivot(\"page\").sum(\"Count\")\n",
    "page_split = df_page_list.select([col(c).alias(c.replace(' ', '_')) for c in df_page_list.columns])"
   ]
  },
  {
   "cell_type": "code",
   "execution_count": 59,
   "metadata": {},
   "outputs": [],
   "source": [
    "pagefList = []\n",
    "for c in page_split.columns[1:]:\n",
    "    each_page = page_split.select([\"userId\",c])\n",
    "    pagefList.append(each_page)"
   ]
  },
  {
   "cell_type": "code",
   "execution_count": 60,
   "metadata": {},
   "outputs": [],
   "source": [
    "# consolidate the numerical features\n",
    "numfeaturesList = []\n",
    "for f in [hourfList, monthfList, pagefList]:\n",
    "    numfeaturesList.extend(f)"
   ]
  },
  {
   "cell_type": "code",
   "execution_count": 61,
   "metadata": {},
   "outputs": [
    {
     "data": {
      "text/plain": [
       "[DataFrame[userId: string, Day_AM_Count: bigint],\n",
       " DataFrame[userId: string, Day_PM_Count: bigint],\n",
       " DataFrame[userId: string, FH_Mth_Count: bigint],\n",
       " DataFrame[userId: string, SH_Mth_Count: bigint],\n",
       " DataFrame[userId: string, Add_Friend: bigint],\n",
       " DataFrame[userId: string, Cancellation_Confirmation: bigint],\n",
       " DataFrame[userId: string, Downgrade: bigint],\n",
       " DataFrame[userId: string, NextSong: bigint],\n",
       " DataFrame[userId: string, Submit_Downgrade: bigint],\n",
       " DataFrame[userId: string, Submit_Upgrade: bigint],\n",
       " DataFrame[userId: string, Thumbs_Down: bigint],\n",
       " DataFrame[userId: string, Thumbs_Up: bigint],\n",
       " DataFrame[userId: string, Upgrade: bigint]]"
      ]
     },
     "execution_count": 61,
     "metadata": {},
     "output_type": "execute_result"
    }
   ],
   "source": [
    "numfeaturesList"
   ]
  },
  {
   "cell_type": "code",
   "execution_count": 62,
   "metadata": {},
   "outputs": [],
   "source": [
    "# Create a new dataframe with Categorical (Level) feature and numerical feature\n",
    "for f in numfeaturesList:\n",
    "    df_feature = df_feature.join(f, ['userId'], how='full')"
   ]
  },
  {
   "cell_type": "code",
   "execution_count": 63,
   "metadata": {},
   "outputs": [
    {
     "name": "stdout",
     "output_type": "stream",
     "text": [
      "+------+---------+---------+------------+------------+------------+------------+----------+-------------------------+---------+--------+----------------+--------------+-----------+---------+-------+\n",
      "|userId|freelevel|paidlevel|Day_AM_Count|Day_PM_Count|FH_Mth_Count|SH_Mth_Count|Add_Friend|Cancellation_Confirmation|Downgrade|NextSong|Submit_Downgrade|Submit_Upgrade|Thumbs_Down|Thumbs_Up|Upgrade|\n",
      "+------+---------+---------+------------+------------+------------+------------+----------+-------------------------+---------+--------+----------------+--------------+-----------+---------+-------+\n",
      "|100010|     free|     null|         166|         215|         233|         148|         4|                     null|     null|     275|            null|          null|          5|       17|      2|\n",
      "|200002|     free|     paid|         108|         366|         177|         297|         4|                     null|        5|     387|            null|             1|          6|       21|      2|\n",
      "|   125|     free|     null|          11|           0|          11|           0|      null|                        1|     null|       8|            null|          null|       null|     null|   null|\n",
      "|   124|     null|     paid|        1974|        2851|        2791|        2034|        74|                     null|       41|    4079|            null|          null|         41|      171|   null|\n",
      "|    51|     null|     paid|        1177|        1287|        2223|         241|        28|                        1|       23|    2111|            null|          null|         21|      100|   null|\n",
      "|     7|     free|     null|         109|          92|          52|         149|         1|                     null|     null|     150|            null|          null|          1|        7|      2|\n",
      "|    15|     null|     paid|         818|        1460|        1529|         749|        31|                     null|       28|    1914|            null|          null|         14|       81|   null|\n",
      "|    54|     free|     paid|        1407|        2030|        2648|         789|        33|                        1|       39|    2841|               1|             1|         29|      163|      1|\n",
      "|   155|     free|     paid|         691|         311|         474|         528|        11|                     null|       12|     820|            null|             1|          3|       58|      2|\n",
      "|100014|     null|     paid|          33|         277|          90|         220|         6|                        1|        3|     257|            null|          null|          3|       17|   null|\n",
      "|   132|     free|     paid|         889|        1415|        1549|         755|        41|                     null|       19|    1928|            null|             1|         17|       96|      1|\n",
      "|   154|     free|     null|           0|         118|          88|          30|         3|                     null|     null|      84|            null|          null|       null|       11|   null|\n",
      "|   101|     free|     paid|        1156|         993|        2005|         144|        29|                        1|       22|    1797|            null|             1|         16|       86|      1|\n",
      "|    11|     free|     paid|         317|         531|         335|         513|         6|                     null|        5|     647|               1|             2|          9|       40|      9|\n",
      "|   138|     free|     paid|        1219|        1250|         205|        2264|        41|                     null|       21|    2070|            null|             1|         24|       95|      1|\n",
      "|300017|     null|     paid|        1434|        2994|        2853|        1575|        63|                     null|       25|    3632|            null|          null|         28|      303|   null|\n",
      "|100021|     free|     null|         277|          42|         137|         182|         7|                        1|     null|     230|            null|          null|          5|       11|      2|\n",
      "|    29|     free|     paid|        1466|        2137|        2311|        1292|        47|                        1|       18|    3028|            null|             1|         22|      154|      5|\n",
      "|    69|     free|     paid|         579|         763|         510|         832|        12|                     null|        9|    1125|            null|             1|          9|       72|      1|\n",
      "|   112|     free|     null|          41|         251|         202|          90|         7|                     null|     null|     215|            null|          null|          3|        9|      2|\n",
      "+------+---------+---------+------------+------------+------------+------------+----------+-------------------------+---------+--------+----------------+--------------+-----------+---------+-------+\n",
      "only showing top 20 rows\n",
      "\n"
     ]
    }
   ],
   "source": [
    "df_feature.show()"
   ]
  },
  {
   "cell_type": "code",
   "execution_count": 64,
   "metadata": {},
   "outputs": [
    {
     "data": {
      "text/plain": [
       "userId                         0\n",
       "freelevel                     30\n",
       "paidlevel                     60\n",
       "Day_AM_Count                   0\n",
       "Day_PM_Count                   0\n",
       "FH_Mth_Count                   0\n",
       "SH_Mth_Count                   0\n",
       "Add_Friend                    19\n",
       "Cancellation_Confirmation    173\n",
       "Downgrade                     71\n",
       "NextSong                       0\n",
       "Submit_Downgrade             176\n",
       "Submit_Upgrade                94\n",
       "Thumbs_Down                   22\n",
       "Thumbs_Up                      5\n",
       "Upgrade                       57\n",
       "dtype: int64"
      ]
     },
     "execution_count": 64,
     "metadata": {},
     "output_type": "execute_result"
    }
   ],
   "source": [
    "# Check if the new dataframe has any nulls\n",
    "df_feature.toPandas().isnull().sum()"
   ]
  },
  {
   "cell_type": "code",
   "execution_count": 65,
   "metadata": {},
   "outputs": [],
   "source": [
    "# Fix the null values in freelevel & paidlevel\n",
    "fix_null = udf(lambda x: 1 if x else 0)\n",
    "df_feature = df_feature.withColumn(\"freelevel\", fix_null(df_feature.freelevel))\n",
    "df_feature = df_feature.withColumn(\"paidlevel\", fix_null(df_feature.paidlevel))"
   ]
  },
  {
   "cell_type": "code",
   "execution_count": 66,
   "metadata": {},
   "outputs": [],
   "source": [
    "# Fill nulls with 0's on all columns\n",
    "df_feature = df_feature.fillna(0)"
   ]
  },
  {
   "cell_type": "code",
   "execution_count": 67,
   "metadata": {},
   "outputs": [
    {
     "data": {
      "text/plain": [
       "userId                       0\n",
       "freelevel                    0\n",
       "paidlevel                    0\n",
       "Day_AM_Count                 0\n",
       "Day_PM_Count                 0\n",
       "FH_Mth_Count                 0\n",
       "SH_Mth_Count                 0\n",
       "Add_Friend                   0\n",
       "Cancellation_Confirmation    0\n",
       "Downgrade                    0\n",
       "NextSong                     0\n",
       "Submit_Downgrade             0\n",
       "Submit_Upgrade               0\n",
       "Thumbs_Down                  0\n",
       "Thumbs_Up                    0\n",
       "Upgrade                      0\n",
       "dtype: int64"
      ]
     },
     "execution_count": 67,
     "metadata": {},
     "output_type": "execute_result"
    }
   ],
   "source": [
    "# Validate if all nulls have been fixed\n",
    "df_feature.toPandas().isnull().sum()"
   ]
  },
  {
   "cell_type": "code",
   "execution_count": 68,
   "metadata": {},
   "outputs": [],
   "source": [
    "# Define Churn based on column 'Cancellation_Confirmation'\n",
    "get_churn = udf(lambda x: 1 if int(x) > 0 else 0)\n",
    "df_feature = df_feature.withColumn(\"Churn\", get_churn(df_feature.Cancellation_Confirmation))"
   ]
  },
  {
   "cell_type": "code",
   "execution_count": 69,
   "metadata": {},
   "outputs": [
    {
     "name": "stdout",
     "output_type": "stream",
     "text": [
      "root\n",
      " |-- userId: string (nullable = true)\n",
      " |-- freelevel: string (nullable = true)\n",
      " |-- paidlevel: string (nullable = true)\n",
      " |-- Day_AM_Count: long (nullable = true)\n",
      " |-- Day_PM_Count: long (nullable = true)\n",
      " |-- FH_Mth_Count: long (nullable = true)\n",
      " |-- SH_Mth_Count: long (nullable = true)\n",
      " |-- Add_Friend: long (nullable = true)\n",
      " |-- Cancellation_Confirmation: long (nullable = true)\n",
      " |-- Downgrade: long (nullable = true)\n",
      " |-- NextSong: long (nullable = true)\n",
      " |-- Submit_Downgrade: long (nullable = true)\n",
      " |-- Submit_Upgrade: long (nullable = true)\n",
      " |-- Thumbs_Down: long (nullable = true)\n",
      " |-- Thumbs_Up: long (nullable = true)\n",
      " |-- Upgrade: long (nullable = true)\n",
      " |-- Churn: string (nullable = true)\n",
      "\n"
     ]
    }
   ],
   "source": [
    "df_feature.printSchema()"
   ]
  },
  {
   "cell_type": "code",
   "execution_count": 70,
   "metadata": {},
   "outputs": [],
   "source": [
    "# convert column (except userId) datatypes to float\n",
    "for c in df_feature.columns[1:]:\n",
    "    df_feature = df_feature.withColumn(c, df_feature[c].cast(\"float\"))"
   ]
  },
  {
   "cell_type": "code",
   "execution_count": 71,
   "metadata": {},
   "outputs": [],
   "source": [
    "# define features for classification\n",
    "featurelist = df_feature.columns\n",
    "featurelist.remove('userId')\n",
    "featurelist.remove('Cancellation_Confirmation')\n",
    "featurelist.remove('Churn')"
   ]
  },
  {
   "cell_type": "code",
   "execution_count": 72,
   "metadata": {},
   "outputs": [],
   "source": [
    "# combine features using VecotrAssembler\n",
    "assembler = VectorAssembler(inputCols=featurelist, outputCol=\"ChurnFeatures\")\n",
    "df_feature = assembler.transform(df_feature)"
   ]
  },
  {
   "cell_type": "code",
   "execution_count": 73,
   "metadata": {},
   "outputs": [],
   "source": [
    "# scale features using Normalizer\n",
    "scaler = Normalizer(inputCol=\"ChurnFeatures\", outputCol=\"NormalizedChurnFeatures\")\n",
    "df_feature = scaler.transform(df_feature)"
   ]
  },
  {
   "cell_type": "code",
   "execution_count": 74,
   "metadata": {},
   "outputs": [
    {
     "name": "stdout",
     "output_type": "stream",
     "text": [
      "+------+--------------------+-----------------------+\n",
      "|userId|       ChurnFeatures|NormalizedChurnFeatures|\n",
      "+------+--------------------+-----------------------+\n",
      "|100010|[1.0,0.0,166.0,21...|   [0.00210382302738...|\n",
      "|200002|[1.0,1.0,108.0,36...|   [0.00155145639183...|\n",
      "|   125|(14,[0,2,4,8],[1....|   (14,[0,2,4,8],[0....|\n",
      "|   124|[0.0,1.0,1974.0,2...|   [0.0,1.5688704788...|\n",
      "|    51|[0.0,1.0,1177.0,1...|   [0.0,2.8273434420...|\n",
      "|     7|[1.0,0.0,109.0,92...|   [0.00384030694188...|\n",
      "|    15|[0.0,1.0,818.0,14...|   [0.0,3.2666022451...|\n",
      "|    54|[1.0,1.0,1407.0,2...|   [2.13998472176201...|\n",
      "|   155|[1.0,1.0,691.0,31...|   [7.55129579016604...|\n",
      "|100014|[0.0,1.0,33.0,277...|   [0.0,0.0022321039...|\n",
      "|   132|[1.0,1.0,889.0,14...|   [3.24601645480006...|\n",
      "|   154|(14,[0,3,4,5,6,8,...|   (14,[0,3,4,5,6,8,...|\n",
      "|   101|[1.0,1.0,1156.0,9...|   [3.22726156603460...|\n",
      "|    11|[1.0,1.0,317.0,53...|   [9.21245106742600...|\n",
      "|   138|[1.0,1.0,1219.0,1...|   [2.82697906462169...|\n",
      "|300017|[0.0,1.0,1434.0,2...|   [0.0,1.6920198135...|\n",
      "|100021|[1.0,0.0,277.0,42...|   [0.00233452502342...|\n",
      "|    29|[1.0,1.0,1466.0,2...|   [2.08871366925235...|\n",
      "|    69|[1.0,1.0,579.0,76...|   [5.64256011407550...|\n",
      "|   112|[1.0,0.0,41.0,251...|   [0.00250035163667...|\n",
      "+------+--------------------+-----------------------+\n",
      "only showing top 20 rows\n",
      "\n"
     ]
    }
   ],
   "source": [
    "df_feature.select('userId', 'ChurnFeatures', 'NormalizedChurnFeatures').show()"
   ]
  },
  {
   "cell_type": "markdown",
   "metadata": {},
   "source": [
    "## Modeling\n",
    "Split the full dataset into train, test, and validation sets. Test out several of the machine learning methods you learned. Evaluate the accuracy of the various models, tuning parameters as necessary. Determine your winning model based on test accuracy and report results on the validation set. Since the churned users are a fairly small subset, I suggest using F1 score as the metric to optimize."
   ]
  },
  {
   "cell_type": "code",
   "execution_count": 75,
   "metadata": {},
   "outputs": [],
   "source": [
    "data = df_feature.select(col(\"Churn\").alias(\"label\"), col(\"NormalizedChurnFeatures\").alias(\"features\"))"
   ]
  },
  {
   "cell_type": "code",
   "execution_count": 91,
   "metadata": {},
   "outputs": [],
   "source": [
    "data.createOrReplaceTempView(\"data_for_Model\")"
   ]
  },
  {
   "cell_type": "code",
   "execution_count": 92,
   "metadata": {},
   "outputs": [
    {
     "name": "stdout",
     "output_type": "stream",
     "text": [
      "+-----+-----+\n",
      "|label|Count|\n",
      "+-----+-----+\n",
      "|  1.0|   52|\n",
      "|  0.0|  173|\n",
      "+-----+-----+\n",
      "\n"
     ]
    }
   ],
   "source": [
    "spark.sql(\"Select label,count(1) as Count from data_for_Model group by label\").show()"
   ]
  },
  {
   "cell_type": "markdown",
   "metadata": {},
   "source": [
    "The data set is not balanced. Most of the models do not work well with an imbalanced data set. Given the whole data set is relatively small, i will oversample (using sampling) the churned data to match to the stayed data set."
   ]
  },
  {
   "cell_type": "code",
   "execution_count": 99,
   "metadata": {},
   "outputs": [],
   "source": [
    "#oversample the churn\n",
    "df_majority = data.where(data.label == '0')\n",
    "df_minority = data.where(data.label == '1')\n",
    "fraction = (data.where(data.label == '0').count()) / (data.where(data.label == '1').count())\n",
    "df_minority_upsample = df_minority.sample(True,fraction,42)"
   ]
  },
  {
   "cell_type": "code",
   "execution_count": 103,
   "metadata": {},
   "outputs": [
    {
     "name": "stdout",
     "output_type": "stream",
     "text": [
      "+-----+-----+\n",
      "|label|count|\n",
      "+-----+-----+\n",
      "|  1.0|  161|\n",
      "|  0.0|  173|\n",
      "+-----+-----+\n",
      "\n"
     ]
    }
   ],
   "source": [
    "df_balanced = df_minority_upsample.unionAll(df_majority)\n",
    "df_balanced = df_balanced.orderBy(rand())\n",
    "df_balanced.groupBy(df_balanced.label).count().show()"
   ]
  },
  {
   "cell_type": "code",
   "execution_count": 105,
   "metadata": {},
   "outputs": [],
   "source": [
    "# Split into Train and Test data set\n",
    "train, test = df_balanced.randomSplit([0.9, 0.1], seed=42)"
   ]
  },
  {
   "cell_type": "code",
   "execution_count": 106,
   "metadata": {},
   "outputs": [],
   "source": [
    "#function to conver row obejct to string\n",
    "convert_row_to_string = lambda x, y: x.asDict()[y]"
   ]
  },
  {
   "cell_type": "code",
   "execution_count": 107,
   "metadata": {},
   "outputs": [],
   "source": [
    "# Define a function to evaluate model metrics\n",
    "def get_metrics(model):\n",
    "    TP, FP, FN, TN = [0 for i in range(4)]\n",
    "    \n",
    "    label = model.select([\"label\"]).collect()\n",
    "    prediction = model.select([\"prediction\"]).collect()\n",
    "    labelList = list(map(convert_row_to_string, label, ['label' for i in range(len(label))]))\n",
    "    predictionList = list(map(convert_row_to_string, prediction, ['prediction' for i in range(len(prediction))]))\n",
    "    \n",
    "    for i, (l, p) in enumerate(zip(labelList, predictionList)):    \n",
    "        if (l == 1) and (p == 1):\n",
    "            TP += 1\n",
    "        elif (l == 0) and (p == 1):\n",
    "            FP += 1\n",
    "        elif (l == 1) and (p == 0):\n",
    "            FN += 1\n",
    "        elif (l == 0) and (p == 0):\n",
    "            TN += 1\n",
    "\n",
    "    accuracy = (TP + TN) / (TP + TN + FP + FN)\n",
    "    precision = TP / (TP + FP)\n",
    "    recall = TP / (TP + FN)\n",
    "    f_score = 2 * (precision * recall) / (precision + recall)\n",
    "    \n",
    "    return accuracy, precision, recall, f_score"
   ]
  },
  {
   "cell_type": "markdown",
   "metadata": {},
   "source": [
    "###### Compare Different Models"
   ]
  },
  {
   "cell_type": "code",
   "execution_count": 108,
   "metadata": {},
   "outputs": [],
   "source": [
    "# define evaluator to evaluate binary classification performance\n",
    "evaluator = BinaryClassificationEvaluator()"
   ]
  },
  {
   "cell_type": "markdown",
   "metadata": {},
   "source": [
    "###### Logistic Regression"
   ]
  },
  {
   "cell_type": "code",
   "execution_count": 109,
   "metadata": {},
   "outputs": [],
   "source": [
    "lr = LogisticRegression()\n",
    "prediction_lr = lr.fit(train).transform(test)\n",
    "lr_result = prediction_lr.select(['prediction', 'label'])"
   ]
  },
  {
   "cell_type": "code",
   "execution_count": 110,
   "metadata": {
    "scrolled": true
   },
   "outputs": [
    {
     "name": "stdout",
     "output_type": "stream",
     "text": [
      "Logistic Regression Metrics:\n",
      "\n",
      "Accuracy = 0.756098\n",
      "Precison = 0.666667\n",
      "Recall = 0.666667\n",
      "F1 Score = 0.666667\n"
     ]
    }
   ],
   "source": [
    "accuracy, precision, recall, f_score = get_metrics(lr_result)\n",
    "\n",
    "print(\"Logistic Regression Metrics:\\n\")\n",
    "print(\"Accuracy = %f\" % accuracy)\n",
    "print(\"Precison = %f\" % precision)\n",
    "print(\"Recall = %f\" % recall)\n",
    "print(\"F1 Score = %f\" % f_score)"
   ]
  },
  {
   "cell_type": "code",
   "execution_count": 111,
   "metadata": {},
   "outputs": [
    {
     "name": "stdout",
     "output_type": "stream",
     "text": [
      "Area Under ROC is: 0.835897\n"
     ]
    }
   ],
   "source": [
    "ROC = evaluator.evaluate(prediction_lr, {evaluator.metricName: \"areaUnderROC\"})\n",
    "print(\"Area Under ROC is: %f\" % ROC)"
   ]
  },
  {
   "cell_type": "markdown",
   "metadata": {},
   "source": [
    "###### Random Forest Classifier"
   ]
  },
  {
   "cell_type": "code",
   "execution_count": 112,
   "metadata": {},
   "outputs": [],
   "source": [
    "rfc = RandomForestClassifier()\n",
    "prediction_rfc = rfc.fit(train).transform(test)\n",
    "rfc_result = prediction_rfc.select(['prediction', 'label'])"
   ]
  },
  {
   "cell_type": "code",
   "execution_count": 113,
   "metadata": {},
   "outputs": [
    {
     "name": "stdout",
     "output_type": "stream",
     "text": [
      "Random Forest Classifier Metrics:\n",
      "\n",
      "Accuracy = 0.878049\n",
      "Precison = 0.777778\n",
      "Recall = 0.933333\n",
      "F1 Score = 0.848485\n"
     ]
    }
   ],
   "source": [
    "accuracy, precision, recall, f_score = get_metrics(rfc_result)\n",
    "\n",
    "print(\"Random Forest Classifier Metrics:\\n\")\n",
    "print(\"Accuracy = %f\" % accuracy)\n",
    "print(\"Precison = %f\" % precision)\n",
    "print(\"Recall = %f\" % recall)\n",
    "print(\"F1 Score = %f\" % f_score)"
   ]
  },
  {
   "cell_type": "code",
   "execution_count": 114,
   "metadata": {},
   "outputs": [
    {
     "name": "stdout",
     "output_type": "stream",
     "text": [
      "Area Under ROC is: 0.961538\n"
     ]
    }
   ],
   "source": [
    "ROC = evaluator.evaluate(prediction_rfc, {evaluator.metricName: \"areaUnderROC\"})\n",
    "print(\"Area Under ROC is: %f\" % ROC)"
   ]
  },
  {
   "cell_type": "markdown",
   "metadata": {},
   "source": [
    "###### Decision Tree Classifier"
   ]
  },
  {
   "cell_type": "code",
   "execution_count": 115,
   "metadata": {},
   "outputs": [],
   "source": [
    "dtc = DecisionTreeClassifier()\n",
    "prediction_dtc = dtc.fit(train).transform(test)\n",
    "dtc_result = prediction_dtc.select(['prediction', 'label'])"
   ]
  },
  {
   "cell_type": "code",
   "execution_count": 116,
   "metadata": {
    "scrolled": true
   },
   "outputs": [
    {
     "name": "stdout",
     "output_type": "stream",
     "text": [
      "Decision Tree Classifier Metrics:\n",
      "\n",
      "Accuracy = 0.780488\n",
      "Precison = 0.666667\n",
      "Recall = 0.800000\n",
      "F1 Score = 0.727273\n"
     ]
    }
   ],
   "source": [
    "accuracy, precision, recall, f_score = get_metrics(dtc_result)\n",
    "\n",
    "print(\"Decision Tree Classifier Metrics:\\n\")\n",
    "print(\"Accuracy = %f\" % accuracy)\n",
    "print(\"Precison = %f\" % precision)\n",
    "print(\"Recall = %f\" % recall)\n",
    "print(\"F1 Score = %f\" % f_score)"
   ]
  },
  {
   "cell_type": "code",
   "execution_count": 117,
   "metadata": {},
   "outputs": [
    {
     "name": "stdout",
     "output_type": "stream",
     "text": [
      "Area Under ROC is: 0.680769\n"
     ]
    }
   ],
   "source": [
    "ROC = evaluator.evaluate(prediction_dtc, {evaluator.metricName: \"areaUnderROC\"})\n",
    "print(\"Area Under ROC is: %f\" % ROC)"
   ]
  },
  {
   "cell_type": "markdown",
   "metadata": {},
   "source": [
    "Looking at the performance metrics of the three models, it is very clear that Random Forest Classifier performs way better than Logistic regression and Decision Tree. The Random Forest model has Accuracy of 87.8% and F1-Score of 84.8%. Also the ROC of 0.96 is impressive as well. Although these values are impressive i will go ahead and play around with the parameters to see if i can further improve the performace with Random Forest Classifier. "
   ]
  },
  {
   "cell_type": "markdown",
   "metadata": {},
   "source": [
    "#### Fine Tune Random Forest Classifier for performance optimization"
   ]
  },
  {
   "cell_type": "code",
   "execution_count": 118,
   "metadata": {},
   "outputs": [],
   "source": [
    "# build param grid\n",
    "\n",
    "paramGrid = ParamGridBuilder()\\\n",
    "    .addGrid(rfc.numTrees,[50, 100])\\\n",
    "    .addGrid(rfc.maxDepth,[10, 30])\\\n",
    "    .build()"
   ]
  },
  {
   "cell_type": "code",
   "execution_count": 119,
   "metadata": {},
   "outputs": [],
   "source": [
    "# Crossvalidation\n",
    "cv = CrossValidator(estimator=rfc, estimatorParamMaps=paramGrid, evaluator=evaluator, numFolds=3)"
   ]
  },
  {
   "cell_type": "code",
   "execution_count": 120,
   "metadata": {},
   "outputs": [],
   "source": [
    "# Model Training\n",
    "cv_model = cv.fit(train)"
   ]
  },
  {
   "cell_type": "code",
   "execution_count": 121,
   "metadata": {},
   "outputs": [],
   "source": [
    "# Model Prediction\n",
    "prediction = cv_model.transform(test)\n",
    "results_cv = prediction.select(['prediction', 'label'])"
   ]
  },
  {
   "cell_type": "code",
   "execution_count": 122,
   "metadata": {},
   "outputs": [
    {
     "name": "stdout",
     "output_type": "stream",
     "text": [
      "Optimized Random Forest Classifier Metrics:\n",
      "\n",
      "Accuracy = 0.951220\n",
      "Precison = 0.933333\n",
      "Recall = 0.933333\n",
      "F1 Score = 0.933333\n"
     ]
    }
   ],
   "source": [
    "accuracy, precision, recall, f_score = get_metrics(results_cv)\n",
    "print(\"Optimized Random Forest Classifier Metrics:\\n\")\n",
    "print(\"Accuracy = %f\" % accuracy)\n",
    "print(\"Precison = %f\" % precision)\n",
    "print(\"Recall = %f\" % recall)\n",
    "print(\"F1 Score = %f\" % f_score)"
   ]
  },
  {
   "cell_type": "code",
   "execution_count": 123,
   "metadata": {
    "scrolled": true
   },
   "outputs": [
    {
     "name": "stdout",
     "output_type": "stream",
     "text": [
      "Area Under ROC is: 0.982051\n"
     ]
    }
   ],
   "source": [
    "ROC = evaluator.evaluate(prediction, {evaluator.metricName: \"areaUnderROC\"})\n",
    "print(\"Area Under ROC is: %f\" % ROC)"
   ]
  },
  {
   "cell_type": "code",
   "execution_count": 126,
   "metadata": {},
   "outputs": [
    {
     "name": "stdout",
     "output_type": "stream",
     "text": [
      "Ideal value for 'numTrees' Parameter = 100.000000\n",
      "Ideal value for 'maxDepth' Parameter = 30.000000\n"
     ]
    }
   ],
   "source": [
    "#finding the ideal parameters for the model\n",
    "Model = cv_model.bestModel\n",
    "print(\"Ideal value for 'numTrees' Parameter = %f\" % Model.getNumTrees)\n",
    "print(\"Ideal value for 'maxDepth' Parameter = %f\" % Model.getOrDefault('maxDepth'))"
   ]
  },
  {
   "cell_type": "markdown",
   "metadata": {},
   "source": [
    "This is a great result for the model. with the parameters of numTrees = 100 and maxDepth = 30, the Random Forest Classifier acheived the near perfect metrics of accuracy = 95.12%, F1-Score of 93.3% coupled with ROC of 0.98. This is the ideal model for this problem. We should be mindfull that these results are based on the mini dataset and when we try to use it with a larger dataset the results could vary and those needs to be addressed as required. "
   ]
  },
  {
   "cell_type": "markdown",
   "metadata": {},
   "source": [
    "# Final Steps\n",
    "Clean up your code, adding comments and renaming variables to make the code easier to read and maintain. Refer to the Spark Project Overview page and Data Scientist Capstone Project Rubric to make sure you are including all components of the capstone project and meet all expectations. Remember, this includes thorough documentation in a README file in a Github repository, as well as a web app or blog post."
   ]
  },
  {
   "cell_type": "code",
   "execution_count": null,
   "metadata": {},
   "outputs": [],
   "source": []
  }
 ],
 "metadata": {
  "kernelspec": {
   "display_name": "Python 3",
   "language": "python",
   "name": "python3"
  },
  "language_info": {
   "codemirror_mode": {
    "name": "ipython",
    "version": 3
   },
   "file_extension": ".py",
   "mimetype": "text/x-python",
   "name": "python",
   "nbconvert_exporter": "python",
   "pygments_lexer": "ipython3",
   "version": "3.6.3"
  }
 },
 "nbformat": 4,
 "nbformat_minor": 2
}
