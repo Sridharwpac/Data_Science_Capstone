{
 "cells": [
  {
   "cell_type": "markdown",
   "metadata": {},
   "source": [
    "# Sparkify Project Workspace\n",
    "This workspace contains a tiny subset (128MB) of the full dataset available (12GB). Feel free to use this workspace to build your project, or to explore a smaller subset with Spark before deploying your cluster on the cloud. Instructions for setting up your Spark cluster is included in the last lesson of the Extracurricular Spark Course content.\n",
    "\n",
    "You can follow the steps below to guide your data analysis and model building portion of this project."
   ]
  },
  {
   "cell_type": "code",
   "execution_count": 78,
   "metadata": {},
   "outputs": [],
   "source": [
    "# import libraries\n",
    "import re\n",
    "import copy\n",
    "import time\n",
    "import datetime\n",
    "import numpy as np\n",
    "import pandas as pd\n",
    "import seaborn as sns\n",
    "import matplotlib.pyplot as plt\n",
    "from statsmodels.stats.proportion import proportions_ztest\n",
    "\n",
    "%matplotlib inline\n",
    "\n",
    "from pyspark.sql import SparkSession, Window\n",
    "from pyspark.sql.functions import avg, stddev, split, udf, isnull, first, col, format_number, rand\n",
    "from pyspark.sql.functions import min as fmin\n",
    "from pyspark.sql.functions import max as fmax\n",
    "from pyspark.sql.types import IntegerType, FloatType\n",
    "\n",
    "from pyspark.ml import Pipeline\n",
    "from pyspark.ml.classification import LogisticRegression, RandomForestClassifier, GBTClassifier\n",
    "from pyspark.ml.feature import StandardScaler, VectorAssembler, Normalizer\n",
    "from pyspark.ml.evaluation import BinaryClassificationEvaluator\n",
    "from pyspark.mllib.evaluation import MulticlassMetrics\n",
    "from pyspark.ml.tuning import CrossValidator, ParamGridBuilder"
   ]
  },
  {
   "cell_type": "code",
   "execution_count": 2,
   "metadata": {},
   "outputs": [],
   "source": [
    "# create a Spark session\n",
    "spark = SparkSession.builder.appName('Spark_local').getOrCreate()"
   ]
  },
  {
   "cell_type": "markdown",
   "metadata": {},
   "source": [
    "# Load and Clean Dataset\n",
    "In this workspace, the mini-dataset file is `mini_sparkify_event_data.json`. Load and clean the dataset, checking for invalid or missing data - for example, records without userids or sessionids. "
   ]
  },
  {
   "cell_type": "code",
   "execution_count": 3,
   "metadata": {},
   "outputs": [
    {
     "name": "stdout",
     "output_type": "stream",
     "text": [
      "+--------------+---------+---------+------+-------------+--------+---------+-----+---------------+------+--------+-------------+---------+---------+------+-------------+--------------------+------+\n",
      "|        artist|     auth|firstName|gender|itemInSession|lastName|   length|level|       location|method|    page| registration|sessionId|     song|status|           ts|           userAgent|userId|\n",
      "+--------------+---------+---------+------+-------------+--------+---------+-----+---------------+------+--------+-------------+---------+---------+------+-------------+--------------------+------+\n",
      "|Martha Tilston|Logged In|    Colin|     M|           50| Freeman|277.89016| paid|Bakersfield, CA|   PUT|NextSong|1538173362000|       29|Rockpools|   200|1538352117000|Mozilla/5.0 (Wind...|    30|\n",
      "+--------------+---------+---------+------+-------------+--------+---------+-----+---------------+------+--------+-------------+---------+---------+------+-------------+--------------------+------+\n",
      "only showing top 1 row\n",
      "\n"
     ]
    }
   ],
   "source": [
    "df = spark.read.json('mini_sparkify_event_data.json')\n",
    "df.show(1)"
   ]
  },
  {
   "cell_type": "code",
   "execution_count": 4,
   "metadata": {},
   "outputs": [
    {
     "name": "stdout",
     "output_type": "stream",
     "text": [
      "(286500, 18)\n"
     ]
    }
   ],
   "source": [
    "print((df.count(), len(df.columns)))"
   ]
  },
  {
   "cell_type": "code",
   "execution_count": 5,
   "metadata": {},
   "outputs": [
    {
     "name": "stdout",
     "output_type": "stream",
     "text": [
      "root\n",
      " |-- artist: string (nullable = true)\n",
      " |-- auth: string (nullable = true)\n",
      " |-- firstName: string (nullable = true)\n",
      " |-- gender: string (nullable = true)\n",
      " |-- itemInSession: long (nullable = true)\n",
      " |-- lastName: string (nullable = true)\n",
      " |-- length: double (nullable = true)\n",
      " |-- level: string (nullable = true)\n",
      " |-- location: string (nullable = true)\n",
      " |-- method: string (nullable = true)\n",
      " |-- page: string (nullable = true)\n",
      " |-- registration: long (nullable = true)\n",
      " |-- sessionId: long (nullable = true)\n",
      " |-- song: string (nullable = true)\n",
      " |-- status: long (nullable = true)\n",
      " |-- ts: long (nullable = true)\n",
      " |-- userAgent: string (nullable = true)\n",
      " |-- userId: string (nullable = true)\n",
      "\n"
     ]
    }
   ],
   "source": [
    "df.printSchema()"
   ]
  },
  {
   "cell_type": "markdown",
   "metadata": {},
   "source": [
    "### Validate below items and cleanse (if required)\n",
    "1. Check for Nulls and Blanks in fields sessoinId and userId.\n",
    "2. Check for the format of the field \"ts\" and modify if needed."
   ]
  },
  {
   "cell_type": "code",
   "execution_count": 6,
   "metadata": {},
   "outputs": [
    {
     "name": "stdout",
     "output_type": "stream",
     "text": [
      "+-------+-----------------+\n",
      "|summary|        sessionId|\n",
      "+-------+-----------------+\n",
      "|  count|           286500|\n",
      "|   mean|1041.526554973822|\n",
      "| stddev|726.7762634630741|\n",
      "|    min|                1|\n",
      "|    max|             2474|\n",
      "+-------+-----------------+\n",
      "\n"
     ]
    }
   ],
   "source": [
    "df.describe('sessionId').show()"
   ]
  },
  {
   "cell_type": "code",
   "execution_count": 7,
   "metadata": {},
   "outputs": [
    {
     "name": "stdout",
     "output_type": "stream",
     "text": [
      "+-------+-----------------+\n",
      "|summary|           userId|\n",
      "+-------+-----------------+\n",
      "|  count|           286500|\n",
      "|   mean|59682.02278593872|\n",
      "| stddev|109091.9499991047|\n",
      "|    min|                 |\n",
      "|    max|               99|\n",
      "+-------+-----------------+\n",
      "\n"
     ]
    }
   ],
   "source": [
    "df.describe('userId').show()"
   ]
  },
  {
   "cell_type": "code",
   "execution_count": 8,
   "metadata": {},
   "outputs": [
    {
     "data": {
      "text/plain": [
       "[Row(ts=1538352117000),\n",
       " Row(ts=1538352180000),\n",
       " Row(ts=1538352394000),\n",
       " Row(ts=1538352416000),\n",
       " Row(ts=1538352676000)]"
      ]
     },
     "execution_count": 8,
     "metadata": {},
     "output_type": "execute_result"
    }
   ],
   "source": [
    "df.select('ts').head(5)"
   ]
  },
  {
   "cell_type": "code",
   "execution_count": 9,
   "metadata": {},
   "outputs": [
    {
     "data": {
      "text/plain": [
       "0"
      ]
     },
     "execution_count": 9,
     "metadata": {},
     "output_type": "execute_result"
    }
   ],
   "source": [
    "df.filter(isnull(df['sessionId'])).count()"
   ]
  },
  {
   "cell_type": "code",
   "execution_count": 10,
   "metadata": {},
   "outputs": [
    {
     "data": {
      "text/plain": [
       "0"
      ]
     },
     "execution_count": 10,
     "metadata": {},
     "output_type": "execute_result"
    }
   ],
   "source": [
    "df.filter(df['sessionId']=='').count()"
   ]
  },
  {
   "cell_type": "markdown",
   "metadata": {},
   "source": [
    "There are no nulls / blanks in sessionId"
   ]
  },
  {
   "cell_type": "code",
   "execution_count": 11,
   "metadata": {},
   "outputs": [
    {
     "data": {
      "text/plain": [
       "0"
      ]
     },
     "execution_count": 11,
     "metadata": {},
     "output_type": "execute_result"
    }
   ],
   "source": [
    "df.filter(isnull(df['userId'])).count()"
   ]
  },
  {
   "cell_type": "code",
   "execution_count": 12,
   "metadata": {},
   "outputs": [
    {
     "data": {
      "text/plain": [
       "8346"
      ]
     },
     "execution_count": 12,
     "metadata": {},
     "output_type": "execute_result"
    }
   ],
   "source": [
    "df.filter(df['userId']=='').count()"
   ]
  },
  {
   "cell_type": "markdown",
   "metadata": {},
   "source": [
    "There 8,346 records with blank values in UserId. These records are to be filtered out."
   ]
  },
  {
   "cell_type": "code",
   "execution_count": 13,
   "metadata": {},
   "outputs": [],
   "source": [
    "# Filter out records where userid is blank\n",
    "df_clean = df.filter(df['userId']!='')"
   ]
  },
  {
   "cell_type": "code",
   "execution_count": 14,
   "metadata": {},
   "outputs": [],
   "source": [
    "# Create a function for formating the timestamp\n",
    "get_time = udf(lambda x: datetime.datetime.fromtimestamp(x / 1000.0).strftime(\"%Y-%m-%d %H:%M:%S\"))"
   ]
  },
  {
   "cell_type": "code",
   "execution_count": 15,
   "metadata": {},
   "outputs": [],
   "source": [
    "#Apply the fix in the dataframe\n",
    "df_clean = df_clean.withColumn(\"time\", get_time(df_clean.ts))"
   ]
  },
  {
   "cell_type": "code",
   "execution_count": 16,
   "metadata": {},
   "outputs": [
    {
     "name": "stdout",
     "output_type": "stream",
     "text": [
      "+--------------+---------+---------+------+-------------+--------+---------+-----+---------------+------+--------+-------------+---------+---------+------+-------------+--------------------+------+-------------------+\n",
      "|        artist|     auth|firstName|gender|itemInSession|lastName|   length|level|       location|method|    page| registration|sessionId|     song|status|           ts|           userAgent|userId|               time|\n",
      "+--------------+---------+---------+------+-------------+--------+---------+-----+---------------+------+--------+-------------+---------+---------+------+-------------+--------------------+------+-------------------+\n",
      "|Martha Tilston|Logged In|    Colin|     M|           50| Freeman|277.89016| paid|Bakersfield, CA|   PUT|NextSong|1538173362000|       29|Rockpools|   200|1538352117000|Mozilla/5.0 (Wind...|    30|2018-10-01 00:01:57|\n",
      "+--------------+---------+---------+------+-------------+--------+---------+-----+---------------+------+--------+-------------+---------+---------+------+-------------+--------------------+------+-------------------+\n",
      "only showing top 1 row\n",
      "\n"
     ]
    }
   ],
   "source": [
    "# check the cleaned data set\n",
    "df_clean.show(1)"
   ]
  },
  {
   "cell_type": "markdown",
   "metadata": {},
   "source": [
    "# Exploratory Data Analysis\n",
    "When you're working with the full dataset, perform EDA by loading a small subset of the data and doing basic manipulations within Spark. In this workspace, you are already provided a small subset of data you can explore."
   ]
  },
  {
   "cell_type": "markdown",
   "metadata": {},
   "source": [
    "##### Preliminary Data Analysis"
   ]
  },
  {
   "cell_type": "code",
   "execution_count": 17,
   "metadata": {},
   "outputs": [],
   "source": [
    "#Create a view to perform SQL operations\n",
    "df_clean.createOrReplaceTempView(\"clean_dataset\")"
   ]
  },
  {
   "cell_type": "code",
   "execution_count": 18,
   "metadata": {},
   "outputs": [
    {
     "name": "stdout",
     "output_type": "stream",
     "text": [
      "+------+-----+\n",
      "|gender|Count|\n",
      "+------+-----+\n",
      "|     F|  104|\n",
      "|     M|  121|\n",
      "+------+-----+\n",
      "\n"
     ]
    }
   ],
   "source": [
    "# Look at user split based on Gender\n",
    "\n",
    "gender_count = spark.sql('''\n",
    "        select gender,count(distinct userId) as Count\n",
    "        from clean_dataset\n",
    "        group by gender\n",
    "''')\n",
    "gender_count.show()"
   ]
  },
  {
   "cell_type": "code",
   "execution_count": 19,
   "metadata": {},
   "outputs": [
    {
     "data": {
      "image/png": "[encoded data removed]",
      "text/plain": [
       "<matplotlib.figure.Figure at 0x7f969fd7c4a8>"
      ]
     },
     "metadata": {
      "needs_background": "light"
     },
     "output_type": "display_data"
    }
   ],
   "source": [
    "sns.barplot(x='gender',y='Count',data=gender_count.toPandas());"
   ]
  },
  {
   "cell_type": "markdown",
   "metadata": {},
   "source": [
    "There are more male users in this data set"
   ]
  },
  {
   "cell_type": "code",
   "execution_count": 20,
   "metadata": {},
   "outputs": [
    {
     "name": "stdout",
     "output_type": "stream",
     "text": [
      "+---------+\n",
      "|     auth|\n",
      "+---------+\n",
      "|Cancelled|\n",
      "|Logged In|\n",
      "+---------+\n",
      "\n"
     ]
    }
   ],
   "source": [
    "spark.sql('''\n",
    "        Select Distinct(auth)\n",
    "        from clean_dataset\n",
    "''').show()"
   ]
  },
  {
   "cell_type": "code",
   "execution_count": 21,
   "metadata": {},
   "outputs": [
    {
     "name": "stdout",
     "output_type": "stream",
     "text": [
      "+---------+-----+\n",
      "|     auth|Count|\n",
      "+---------+-----+\n",
      "|Logged In|  225|\n",
      "|Cancelled|   52|\n",
      "+---------+-----+\n",
      "\n"
     ]
    }
   ],
   "source": [
    "# Find number of users logged in Vs Cancelled\n",
    "user_log = spark.sql('''\n",
    "        Select auth,count(Distinct userId) as Count\n",
    "        from clean_dataset\n",
    "        group by auth\n",
    "        order by Count desc\n",
    "''')\n",
    "user_log.show()"
   ]
  },
  {
   "cell_type": "code",
   "execution_count": 22,
   "metadata": {},
   "outputs": [
    {
     "data": {
      "image/png": "[encoded data removed]",
      "text/plain": [
       "<matplotlib.figure.Figure at 0x7f969fdf7ac8>"
      ]
     },
     "metadata": {
      "needs_background": "light"
     },
     "output_type": "display_data"
    }
   ],
   "source": [
    "sns.barplot(x='auth',y='Count',data=user_log.toPandas());"
   ]
  },
  {
   "cell_type": "markdown",
   "metadata": {},
   "source": [
    "There are 52 users who have cancelled their account. "
   ]
  },
  {
   "cell_type": "code",
   "execution_count": 23,
   "metadata": {},
   "outputs": [
    {
     "name": "stdout",
     "output_type": "stream",
     "text": [
      "+-----+-----+\n",
      "|level|Count|\n",
      "+-----+-----+\n",
      "| free|  195|\n",
      "| paid|  165|\n",
      "+-----+-----+\n",
      "\n"
     ]
    }
   ],
   "source": [
    "# Subcription Type\n",
    "sub_type = spark.sql('''\n",
    "        Select level,count(Distinct userId) as Count\n",
    "        FROM clean_dataset\n",
    "        GROUP BY level\n",
    "        ORDER BY Count Desc\n",
    "''')\n",
    "sub_type.show()"
   ]
  },
  {
   "cell_type": "code",
   "execution_count": 24,
   "metadata": {},
   "outputs": [
    {
     "data": {
      "image/png": "[encoded data removed]",
      "text/plain": [
       "<matplotlib.figure.Figure at 0x7f969fdf7ba8>"
      ]
     },
     "metadata": {
      "needs_background": "light"
     },
     "output_type": "display_data"
    }
   ],
   "source": [
    "sns.barplot(x='level',y='Count',data=sub_type.toPandas());"
   ]
  },
  {
   "cell_type": "markdown",
   "metadata": {},
   "source": [
    "There are 165 paid and 195 free accounts as per the data set."
   ]
  },
  {
   "cell_type": "code",
   "execution_count": 25,
   "metadata": {},
   "outputs": [
    {
     "name": "stdout",
     "output_type": "stream",
     "text": [
      "+--------------------+-----+\n",
      "|            location|Count|\n",
      "+--------------------+-----+\n",
      "|Los Angeles-Long ...|   16|\n",
      "|New York-Newark-J...|   15|\n",
      "|Dallas-Fort Worth...|    7|\n",
      "|Phoenix-Mesa-Scot...|    7|\n",
      "|    St. Louis, MO-IL|    6|\n",
      "|Chicago-Napervill...|    6|\n",
      "|Charlotte-Concord...|    6|\n",
      "|Philadelphia-Camd...|    5|\n",
      "|Miami-Fort Lauder...|    5|\n",
      "|Boston-Cambridge-...|    5|\n",
      "|Atlanta-Sandy Spr...|    4|\n",
      "|Washington-Arling...|    4|\n",
      "|Houston-The Woodl...|    4|\n",
      "|San Diego-Carlsba...|    3|\n",
      "|Las Vegas-Henders...|    3|\n",
      "|New Haven-Milford...|    3|\n",
      "|Providence-Warwic...|    2|\n",
      "|San Antonio-New B...|    2|\n",
      "|Indianapolis-Carm...|    2|\n",
      "|         Jackson, MS|    2|\n",
      "+--------------------+-----+\n",
      "only showing top 20 rows\n",
      "\n"
     ]
    }
   ],
   "source": [
    "# Location wise data\n",
    "loc_count = spark.sql('''\n",
    "        Select location,count(Distinct userId) as Count\n",
    "        from clean_dataset\n",
    "        group by location\n",
    "        order by Count Desc\n",
    "''')\n",
    "loc_count.show()"
   ]
  },
  {
   "cell_type": "code",
   "execution_count": 26,
   "metadata": {},
   "outputs": [],
   "source": [
    "# Split City & State in location\n",
    "loc_df = loc_count.toPandas()\n",
    "loc_split = loc_df.join(loc_df['location'].str.split(',',expand=True).rename(columns={0:'city',1:'state'})).drop('location',axis=1)"
   ]
  },
  {
   "cell_type": "code",
   "execution_count": 27,
   "metadata": {},
   "outputs": [
    {
     "data": {
      "image/png": "[encoded data removed]",
      "text/plain": [
       "<matplotlib.figure.Figure at 0x7f969fbfffd0>"
      ]
     },
     "metadata": {
      "needs_background": "light"
     },
     "output_type": "display_data"
    }
   ],
   "source": [
    "loc_split.groupby('state')['Count'].sum().sort_values(ascending=False).plot(kind='bar',figsize=(15,5));"
   ]
  },
  {
   "cell_type": "markdown",
   "metadata": {},
   "source": [
    "California is the clear leader in terms of number of users compared to other states in the dataset"
   ]
  },
  {
   "cell_type": "code",
   "execution_count": 28,
   "metadata": {},
   "outputs": [],
   "source": [
    "# Split users by Day of the Week\n",
    "week_dict = {0:'Sunday',1:'Monday',2:'Tuesday',3:'Wednesday',4:'Thursday',5:'Friday',6:'Saturday'}\n",
    "\n",
    "filter_data = spark.sql('''\n",
    "        SELECT time,userId\n",
    "        FROM clean_dataset\n",
    "''').toPandas()"
   ]
  },
  {
   "cell_type": "code",
   "execution_count": 29,
   "metadata": {},
   "outputs": [],
   "source": [
    "filter_data['time'] = pd.to_datetime(filter_data['time'])\n",
    "filter_data['weekday'] = filter_data['time'].dt.weekday.map(week_dict)"
   ]
  },
  {
   "cell_type": "code",
   "execution_count": 30,
   "metadata": {},
   "outputs": [
    {
     "data": {
      "image/png": "[encoded data removed]",
      "text/plain": [
       "<matplotlib.figure.Figure at 0x7f969d226cc0>"
      ]
     },
     "metadata": {
      "needs_background": "light"
     },
     "output_type": "display_data"
    }
   ],
   "source": [
    "filter_data.groupby('weekday')['userId'].count().loc[list(week_dict.values())].plot(kind='bar');"
   ]
  },
  {
   "cell_type": "markdown",
   "metadata": {},
   "source": [
    "Users use Sparkify more often during weekdays compared to weekends, specifically there is a big dip in the numbers on friday and Saturday."
   ]
  },
  {
   "cell_type": "code",
   "execution_count": 31,
   "metadata": {},
   "outputs": [],
   "source": [
    "# User Agent\n",
    "useragent_count = spark.sql('''\n",
    "        Select userAgent,count(Distinct userId) AS Count\n",
    "        from clean_dataset\n",
    "        group by userAgent\n",
    "        order by Count desc\n",
    "''').toPandas()"
   ]
  },
  {
   "cell_type": "code",
   "execution_count": 32,
   "metadata": {},
   "outputs": [],
   "source": [
    "# Define a function to assign browser names\n",
    "def get_browser(x):\n",
    "    if 'Firefox' in x:\n",
    "        return 'Firefox'\n",
    "    elif 'Safari' in x:\n",
    "        if 'Chrome' in x:\n",
    "            return 'Chrome'\n",
    "        else:\n",
    "            return 'Safari'\n",
    "    elif 'Trident' in x:\n",
    "        return 'Explorer'\n",
    "    else:\n",
    "        return np.NaN"
   ]
  },
  {
   "cell_type": "code",
   "execution_count": 33,
   "metadata": {},
   "outputs": [],
   "source": [
    "useragent_count['browser'] = useragent_count['userAgent'].apply(get_browser)"
   ]
  },
  {
   "cell_type": "code",
   "execution_count": 34,
   "metadata": {},
   "outputs": [
    {
     "data": {
      "image/png": "[encoded data removed]",
      "text/plain": [
       "<matplotlib.figure.Figure at 0x7f96a04dc630>"
      ]
     },
     "metadata": {
      "needs_background": "light"
     },
     "output_type": "display_data"
    }
   ],
   "source": [
    "useragent_count.groupby('browser')['Count'].sum().sort_values().plot(kind='bar');"
   ]
  },
  {
   "cell_type": "markdown",
   "metadata": {},
   "source": [
    "Majority of users use Chrome compared to other browsers."
   ]
  },
  {
   "cell_type": "code",
   "execution_count": 35,
   "metadata": {},
   "outputs": [],
   "source": [
    "# Define a function to assign browser names\n",
    "def get_platform(x):\n",
    "    if 'Windows' in x:\n",
    "        return 'Windows'\n",
    "    if 'compatible' in x:\n",
    "        return 'Windows'\n",
    "    elif 'Mac' in x:\n",
    "        return 'Mac'\n",
    "    elif 'X11' in x:\n",
    "        return 'Linux'\n",
    "    elif 'iPad' in x:\n",
    "        return 'Mobile Devices'\n",
    "    elif 'iPhone' in x:\n",
    "        return 'Mobile Devices'\n",
    "    else:\n",
    "        return np.NaN"
   ]
  },
  {
   "cell_type": "code",
   "execution_count": 36,
   "metadata": {},
   "outputs": [],
   "source": [
    "useragent_count['platform'] = useragent_count['userAgent'].str.extract(r'\\(([^\\)]*)\\)')[0].str.split(';').str[0].apply(get_platform)"
   ]
  },
  {
   "cell_type": "code",
   "execution_count": 37,
   "metadata": {},
   "outputs": [
    {
     "data": {
      "image/png": "[encoded data removed]",
      "text/plain": [
       "<matplotlib.figure.Figure at 0x7f969d219588>"
      ]
     },
     "metadata": {
      "needs_background": "light"
     },
     "output_type": "display_data"
    }
   ],
   "source": [
    "useragent_count.groupby('platform')['Count'].sum().sort_values().plot(kind='bar');"
   ]
  },
  {
   "cell_type": "markdown",
   "metadata": {},
   "source": [
    "Surprisingly there are large number of users using Windows / Mac compared to Mobile devices."
   ]
  },
  {
   "cell_type": "markdown",
   "metadata": {},
   "source": [
    "### Define Churn\n",
    "\n",
    "Once you've done some preliminary analysis, create a column `Churn` to use as the label for your model. I suggest using the `Cancellation Confirmation` events to define your churn, which happen for both paid and free users. As a bonus task, you can also look into the `Downgrade` events.\n",
    "\n",
    "### Explore Data\n",
    "Once you've defined churn, perform some exploratory data analysis to observe the behavior for users who stayed vs users who churned. You can start by exploring aggregates on these two groups of users, observing how much of a specific action they experienced per a certain time unit or number of songs played."
   ]
  },
  {
   "cell_type": "code",
   "execution_count": 38,
   "metadata": {},
   "outputs": [
    {
     "data": {
      "text/plain": [
       "[Row(page='Cancel'),\n",
       " Row(page='Submit Downgrade'),\n",
       " Row(page='Thumbs Down'),\n",
       " Row(page='Home'),\n",
       " Row(page='Downgrade'),\n",
       " Row(page='Roll Advert'),\n",
       " Row(page='Logout'),\n",
       " Row(page='Save Settings'),\n",
       " Row(page='Cancellation Confirmation'),\n",
       " Row(page='About'),\n",
       " Row(page='Settings'),\n",
       " Row(page='Add to Playlist'),\n",
       " Row(page='Add Friend'),\n",
       " Row(page='NextSong'),\n",
       " Row(page='Thumbs Up'),\n",
       " Row(page='Help'),\n",
       " Row(page='Upgrade'),\n",
       " Row(page='Error'),\n",
       " Row(page='Submit Upgrade')]"
      ]
     },
     "execution_count": 38,
     "metadata": {},
     "output_type": "execute_result"
    }
   ],
   "source": [
    "#Identify a flag event\n",
    "\n",
    "df_clean.select('page').dropDuplicates().collect()"
   ]
  },
  {
   "cell_type": "code",
   "execution_count": 39,
   "metadata": {},
   "outputs": [],
   "source": [
    "#Define Churn\n",
    "\n",
    "flag_event = udf(lambda x : 1 if x=='Cancellation Confirmation' else 0, IntegerType())\n",
    "df_clean_cancel = df_clean.withColumn('Churn_Event',flag_event('page'))"
   ]
  },
  {
   "cell_type": "code",
   "execution_count": 40,
   "metadata": {},
   "outputs": [],
   "source": [
    "user = Window.partitionBy('userId').rangeBetween(Window.unboundedPreceding,Window.unboundedFollowing)\n",
    "df_clean_cancel = df_clean_cancel.withColumn('Churn',fmax('Churn_Event').over(user))"
   ]
  },
  {
   "cell_type": "code",
   "execution_count": 41,
   "metadata": {},
   "outputs": [
    {
     "data": {
      "text/plain": [
       "[Row(artist='Sleeping With Sirens', auth='Logged In', firstName='Darianna', gender='F', itemInSession=0, lastName='Carpenter', length=202.97098, level='free', location='Bridgeport-Stamford-Norwalk, CT', method='PUT', page='NextSong', registration=1538016340000, sessionId=31, song='Captain Tyin Knots VS Mr Walkway (No Way)', status=200, ts=1539003534000, userAgent='\"Mozilla/5.0 (iPhone; CPU iPhone OS 7_1_2 like Mac OS X) AppleWebKit/537.51.2 (KHTML, like Gecko) Version/7.0 Mobile/11D257 Safari/9537.53\"', userId='100010', time='2018-10-08 12:58:54', Churn_Event=0, Churn=0)]"
      ]
     },
     "execution_count": 41,
     "metadata": {},
     "output_type": "execute_result"
    }
   ],
   "source": [
    "df_clean_cancel.take(1)"
   ]
  },
  {
   "cell_type": "code",
   "execution_count": 42,
   "metadata": {},
   "outputs": [
    {
     "data": {
      "text/plain": [
       "[Row(Churn=1, count=52), Row(Churn=0, count=173)]"
      ]
     },
     "execution_count": 42,
     "metadata": {},
     "output_type": "execute_result"
    }
   ],
   "source": [
    "# identify counts of churn vs not churn\n",
    "df_clean_cancel.dropDuplicates(['userId']).select('Churn').groupby('Churn').count().collect()"
   ]
  },
  {
   "cell_type": "markdown",
   "metadata": {},
   "source": [
    "The rate of churn is less than 25% of the total which means this is an unblanced dataset. \n",
    "\n",
    "The next step is to identify churns across different variables like Gender, Auth, location etc..."
   ]
  },
  {
   "cell_type": "code",
   "execution_count": 43,
   "metadata": {},
   "outputs": [
    {
     "name": "stdout",
     "output_type": "stream",
     "text": [
      "+-----+------+-----+\n",
      "|Churn|gender|count|\n",
      "+-----+------+-----+\n",
      "|    0|     M|   89|\n",
      "|    0|     F|   84|\n",
      "|    1|     F|   20|\n",
      "|    1|     M|   32|\n",
      "+-----+------+-----+\n",
      "\n"
     ]
    }
   ],
   "source": [
    "# Churn based on Gender\n",
    "df_clean_cancel.dropDuplicates([\"userId\", \"gender\"]).groupby([\"Churn\", \"gender\"]).count().sort(\"Churn\").show()"
   ]
  },
  {
   "cell_type": "code",
   "execution_count": 44,
   "metadata": {},
   "outputs": [
    {
     "data": {
      "text/plain": [
       "(1.2800974409737422, 0.20051086855629463)"
      ]
     },
     "execution_count": 44,
     "metadata": {},
     "output_type": "execute_result"
    }
   ],
   "source": [
    "proportions_ztest([32,20],[121,104],alternative='two-sided')"
   ]
  },
  {
   "cell_type": "markdown",
   "metadata": {},
   "source": [
    "Looking just at the Churn rate, Males seem to be have a slightly better rate than females (0.264 vs 0.191) but \n",
    "a p-value of 0.20 indicates Gender doesnt play a role on Churn or Not Churn."
   ]
  },
  {
   "cell_type": "code",
   "execution_count": 45,
   "metadata": {},
   "outputs": [
    {
     "name": "stdout",
     "output_type": "stream",
     "text": [
      "+-----+---------+-----+\n",
      "|Churn|     auth|count|\n",
      "+-----+---------+-----+\n",
      "|    0|Logged In|  173|\n",
      "|    1|Logged In|   52|\n",
      "+-----+---------+-----+\n",
      "\n"
     ]
    }
   ],
   "source": [
    "# Churn based on Auth\n",
    "df_clean_cancel.dropDuplicates([\"userId\"]).groupby([\"Churn\", \"auth\"]).count().sort(\"Churn\").show()"
   ]
  },
  {
   "cell_type": "markdown",
   "metadata": {},
   "source": [
    "Auth has no effect on Churn"
   ]
  },
  {
   "cell_type": "code",
   "execution_count": 46,
   "metadata": {},
   "outputs": [],
   "source": [
    "# Churn based on Location\n",
    "split_city_state = split(df_clean_cancel['location'], ',')\n",
    "df_clean_cancel = df_clean_cancel.withColumn('state',split_city_state.getItem(1))\n",
    "\n",
    "state_data = df_clean_cancel.dropDuplicates([\"userId\"]).groupby([\"state\",\"Churn\"]).count().sort(\"state\").toPandas()"
   ]
  },
  {
   "cell_type": "code",
   "execution_count": 47,
   "metadata": {},
   "outputs": [],
   "source": [
    "# Normalize dataset\n",
    "def normalize_dataset(input_data):\n",
    "    series = input_data.set_index(list(input_data.columns[:2]))\n",
    "    temp = series.unstack('Churn').fillna(0)\n",
    "    df = pd.DataFrame(((temp - temp.min()) / (temp.max() - temp.min())).stack()).reset_index()\n",
    "    df = df.rename(columns={df.columns[-1]:'result'})\n",
    "    return df"
   ]
  },
  {
   "cell_type": "code",
   "execution_count": 48,
   "metadata": {},
   "outputs": [],
   "source": [
    "state_data = normalize_dataset(state_data)"
   ]
  },
  {
   "cell_type": "code",
   "execution_count": 49,
   "metadata": {},
   "outputs": [
    {
     "data": {
      "image/png": "[encoded data removed]",
      "text/plain": [
       "<matplotlib.figure.Figure at 0x7f96a783d9e8>"
      ]
     },
     "metadata": {
      "needs_background": "light"
     },
     "output_type": "display_data"
    }
   ],
   "source": [
    "fig, ax = plt.subplots(figsize=(10,15))\n",
    "sns.barplot( x=\"result\",y=\"state\", hue=\"Churn\", data=state_data,ax=ax);"
   ]
  },
  {
   "cell_type": "code",
   "execution_count": 50,
   "metadata": {},
   "outputs": [],
   "source": [
    "# Churn based on Time\n",
    "get_hour = udf(lambda x: datetime.datetime.fromtimestamp(x / 1000.0).hour)\n",
    "get_day = udf(lambda x: datetime.datetime.fromtimestamp(x / 1000.0).day)\n",
    "get_weekday = udf(lambda x: datetime.datetime.fromtimestamp(x / 1000.0).strftime('%a'))\n",
    "get_weekdaynum = udf(lambda x: datetime.datetime.fromtimestamp(x / 1000.0).strftime('%w'))"
   ]
  },
  {
   "cell_type": "code",
   "execution_count": 51,
   "metadata": {},
   "outputs": [],
   "source": [
    "df_clean_cancel = df_clean_cancel.withColumn('hour', get_hour(df_clean_cancel.ts))\n",
    "df_clean_cancel = df_clean_cancel.withColumn('day', get_day(df_clean_cancel.ts))\n",
    "df_clean_cancel = df_clean_cancel.withColumn('weekday', get_weekday(df_clean_cancel.ts))\n",
    "df_clean_cancel =  df_clean_cancel.withColumn('weekdaynum', get_weekdaynum(df_clean_cancel.ts))"
   ]
  },
  {
   "cell_type": "code",
   "execution_count": 52,
   "metadata": {},
   "outputs": [],
   "source": [
    "hour = df_clean_cancel.select([\"Churn\", \"hour\"]).groupby([\"Churn\", \"hour\"]).count().sort(\"hour\").toPandas()\n",
    "day = df_clean_cancel.select([\"Churn\", \"day\"]).groupby([\"Churn\", \"day\"]).count().sort(\"day\").toPandas()\n",
    "weekday = df_clean_cancel.select([\"Churn\", \"weekday\"]).groupby([\"Churn\", \"weekday\"]).count().sort(\"weekday\").toPandas()"
   ]
  },
  {
   "cell_type": "code",
   "execution_count": 53,
   "metadata": {},
   "outputs": [],
   "source": [
    "hour = normalize_dataset(hour)"
   ]
  },
  {
   "cell_type": "code",
   "execution_count": 54,
   "metadata": {},
   "outputs": [
    {
     "data": {
      "image/png": "[encoded data removed]",
      "text/plain": [
       "<matplotlib.figure.Figure at 0x7f96a04d7240>"
      ]
     },
     "metadata": {
      "needs_background": "light"
     },
     "output_type": "display_data"
    }
   ],
   "source": [
    "fig, ax = plt.subplots(figsize=(10,5))\n",
    "sns.barplot( x=\"hour\",y=\"result\", hue=\"Churn\", data=hour,ax=ax,order=list(map(lambda x: str(x),range(23))));"
   ]
  },
  {
   "cell_type": "code",
   "execution_count": 55,
   "metadata": {},
   "outputs": [],
   "source": [
    "day = normalize_dataset(day)"
   ]
  },
  {
   "cell_type": "code",
   "execution_count": 56,
   "metadata": {},
   "outputs": [
    {
     "data": {
      "image/png": "[encoded data removed]",
      "text/plain": [
       "<matplotlib.figure.Figure at 0x7f96962ef550>"
      ]
     },
     "metadata": {
      "needs_background": "light"
     },
     "output_type": "display_data"
    }
   ],
   "source": [
    "fig, ax = plt.subplots(figsize=(20,6))\n",
    "sns.barplot( x=\"day\",y=\"result\", hue=\"Churn\", data=day,ax=ax,order=list(map(lambda x: str(x),range(1,32))));"
   ]
  },
  {
   "cell_type": "code",
   "execution_count": 57,
   "metadata": {},
   "outputs": [],
   "source": [
    "weekday = normalize_dataset(weekday)"
   ]
  },
  {
   "cell_type": "code",
   "execution_count": 58,
   "metadata": {},
   "outputs": [
    {
     "data": {
      "image/png": "[encoded data removed]",
      "text/plain": [
       "<matplotlib.figure.Figure at 0x7f969c7b8128>"
      ]
     },
     "metadata": {
      "needs_background": "light"
     },
     "output_type": "display_data"
    }
   ],
   "source": [
    "fig, ax = plt.subplots(figsize=(10,5))\n",
    "sns.barplot( x=\"weekday\",y=\"result\", hue=\"Churn\", data=weekday,ax=ax);"
   ]
  },
  {
   "cell_type": "code",
   "execution_count": 59,
   "metadata": {},
   "outputs": [],
   "source": [
    "# Churn based on Browser Type\n",
    "browser = udf(lambda x : get_browser(x))"
   ]
  },
  {
   "cell_type": "code",
   "execution_count": 60,
   "metadata": {},
   "outputs": [],
   "source": [
    "df_clean_cancel = df_clean_cancel.withColumn('browser',browser(df_clean_cancel.userAgent))\n",
    "df_browser = df_clean_cancel.select([\"browser\",\"Churn\"]).groupby([ \"browser\",\"Churn\"]).count().sort(\"browser\").toPandas()\n",
    "df_browser = normalize_dataset(df_browser)"
   ]
  },
  {
   "cell_type": "code",
   "execution_count": 61,
   "metadata": {},
   "outputs": [
    {
     "data": {
      "image/png": "[encoded data removed]",
      "text/plain": [
       "<matplotlib.figure.Figure at 0x7f969cc9ef60>"
      ]
     },
     "metadata": {
      "needs_background": "light"
     },
     "output_type": "display_data"
    }
   ],
   "source": [
    "fig, ax = plt.subplots(figsize=(8,8))\n",
    "sns.barplot( x=\"result\",y=\"browser\", hue=\"Churn\", data=df_browser,ax=ax);"
   ]
  },
  {
   "cell_type": "code",
   "execution_count": 62,
   "metadata": {},
   "outputs": [],
   "source": [
    "#Churn based on Platform used\n",
    "platform_dict = {'compatible': 'Windows',  'iPad': 'iPad',  'iPhone': 'iPhone',  \n",
    "          'Macintosh': 'Mac',  'Windows NT 5.1': 'Windows','Windows NT 6.0': 'Windows', 'Windows NT 6.1': 'Windows',  \n",
    "          'Windows NT 6.2': 'Windows',  'Windows NT 6.3': 'Windows', 'X11': 'Linux'}\n",
    "\n",
    "platform = udf(lambda x: platform_dict[re.findall(r'\\(([^\\)]*)\\)',x)[0].split(';')[0]])\n",
    "df_clean_cancel = df_clean_cancel.withColumn('platform',platform(df_clean_cancel.userAgent))"
   ]
  },
  {
   "cell_type": "code",
   "execution_count": 63,
   "metadata": {},
   "outputs": [
    {
     "data": {
      "image/png": "[encoded data removed]",
      "text/plain": [
       "<matplotlib.figure.Figure at 0x7f9693f0c978>"
      ]
     },
     "metadata": {
      "needs_background": "light"
     },
     "output_type": "display_data"
    }
   ],
   "source": [
    "df_platform = df_clean_cancel.select([\"platform\",\"Churn\"]).groupby([ \"platform\",\"Churn\"]).count().sort(\"platform\").toPandas()\n",
    "df_platform = normalize_dataset(df_platform)\n",
    "\n",
    "\n",
    "fig, ax = plt.subplots(figsize=(8,8))\n",
    "sns.barplot( x=\"result\",y=\"platform\", hue=\"Churn\", data=df_platform,ax=ax);"
   ]
  },
  {
   "cell_type": "markdown",
   "metadata": {},
   "source": [
    "# Feature Engineering\n",
    "Once you've familiarized yourself with the data, build out the features you find promising to train your model on. To work with the full dataset, you can follow the following steps.\n",
    "- Write a script to extract the necessary features from the smaller subset of data\n",
    "- Ensure that your script is scalable, using the best practices discussed in Lesson 3\n",
    "- Try your script on the full data set, debugging your script if necessary\n",
    "\n",
    "If you are working in the classroom workspace, you can just extract features based on the small subset of data contained here. Be sure to transfer over this work to the larger dataset when you work on your Spark cluster."
   ]
  },
  {
   "cell_type": "code",
   "execution_count": 64,
   "metadata": {},
   "outputs": [
    {
     "name": "stdout",
     "output_type": "stream",
     "text": [
      "root\n",
      " |-- artist: string (nullable = true)\n",
      " |-- auth: string (nullable = true)\n",
      " |-- firstName: string (nullable = true)\n",
      " |-- gender: string (nullable = true)\n",
      " |-- itemInSession: long (nullable = true)\n",
      " |-- lastName: string (nullable = true)\n",
      " |-- length: double (nullable = true)\n",
      " |-- level: string (nullable = true)\n",
      " |-- location: string (nullable = true)\n",
      " |-- method: string (nullable = true)\n",
      " |-- page: string (nullable = true)\n",
      " |-- registration: long (nullable = true)\n",
      " |-- sessionId: long (nullable = true)\n",
      " |-- song: string (nullable = true)\n",
      " |-- status: long (nullable = true)\n",
      " |-- ts: long (nullable = true)\n",
      " |-- userAgent: string (nullable = true)\n",
      " |-- userId: string (nullable = true)\n",
      " |-- time: string (nullable = true)\n",
      " |-- Churn_Event: integer (nullable = true)\n",
      " |-- Churn: integer (nullable = true)\n",
      " |-- state: string (nullable = true)\n",
      " |-- hour: string (nullable = true)\n",
      " |-- day: string (nullable = true)\n",
      " |-- weekday: string (nullable = true)\n",
      " |-- weekdaynum: string (nullable = true)\n",
      " |-- browser: string (nullable = true)\n",
      " |-- platform: string (nullable = true)\n",
      "\n"
     ]
    }
   ],
   "source": [
    "df_clean_cancel.printSchema()"
   ]
  },
  {
   "cell_type": "markdown",
   "metadata": {},
   "source": [
    "Based on the EDA, we can work with the below Categorical and numerical features.\n",
    "\n",
    "    . Categorical Features\n",
    "        1. Gender\n",
    "        2. Level\n",
    "        3. Browser\n",
    "        4. Platform\n",
    "    . Numerical Features\n",
    "        1. mean,max,min and std dev of length of users\n",
    "        2. number of these items in a page (NextSong, ThumbsUp, ThumbsDown, AddtoPlaylist, AddFriend, RollAdvert)\n",
    "        2. number of unique songs and total songs of users\n",
    "        3. number of unique artists of users\n",
    "        4. percentage of operations towards starting of the month (first 10 days)\n",
    "        5. percentage of operations in a working day"
   ]
  },
  {
   "cell_type": "code",
   "execution_count": 65,
   "metadata": {},
   "outputs": [],
   "source": [
    "# Encoding Categorical features to a number\n",
    "def label_encoding(col_name):\n",
    "    temp = df_clean_cancel.select([col_name]).dropDuplicates().toPandas()\n",
    "    label_dict = {val:str(idx) for idx,val in enumerate(temp[col_name].tolist())}\n",
    "    result = df_clean_cancel.dropDuplicates(['userId']).select(['userId',col_name]).replace(label_dict,subset=col_name)\n",
    "    return result"
   ]
  },
  {
   "cell_type": "code",
   "execution_count": 66,
   "metadata": {},
   "outputs": [],
   "source": [
    "# Combine the categorical features\n",
    "def get_cat_features():\n",
    "    feature_gender = label_encoding('gender')\n",
    "    feature_level = label_encoding('level')\n",
    "    feature_browser = label_encoding('browser')\n",
    "    feature_platform = label_encoding('platform')\n",
    "    \n",
    "    result = feature_gender.join(feature_level,on='userId',how='inner').\\\n",
    "                            join(feature_browser,on='userId',how='inner').\\\n",
    "                            join(feature_platform,on='userId',how='inner')\n",
    "    return result"
   ]
  },
  {
   "cell_type": "code",
   "execution_count": 67,
   "metadata": {},
   "outputs": [
    {
     "name": "stdout",
     "output_type": "stream",
     "text": [
      "+------+------+-----+-------+--------+\n",
      "|userId|gender|level|browser|platform|\n",
      "+------+------+-----+-------+--------+\n",
      "|100010|     0|    0|      1|       1|\n",
      "|200002|     1|    0|      1|       1|\n",
      "+------+------+-----+-------+--------+\n",
      "only showing top 2 rows\n",
      "\n"
     ]
    }
   ],
   "source": [
    "cat_feature = get_cat_features()\n",
    "cat_feature.show(2)"
   ]
  },
  {
   "cell_type": "code",
   "execution_count": 68,
   "metadata": {},
   "outputs": [],
   "source": [
    "# Combine Numerical Features\n",
    "def get_num_features():\n",
    "    #length\n",
    "    feature_length = df_clean_cancel.select([\"userId\", \"length\"]).groupby([\"userId\"]).agg(avg('length').alias('mean_length'), \n",
    "                                                                     stddev('length').alias('stdev_length'),\n",
    "                                                                    fmax('length').alias('max_length'),\n",
    "                                                                    fmin('length').alias('min_length'))\n",
    "    \n",
    "    #page\n",
    "    page_count = df_clean_cancel.select([\"userId\",\"page\"]).groupby([\"userId\",\"page\"]).count()\n",
    "    # create the pivot table\n",
    "    temp1 = page_count.groupby('userId').pivot('page').agg(first('count')).fillna(0)\n",
    "    # filter columns\n",
    "    temp1 = temp1.select(['userId','NextSong','Thumbs Up', 'Thumbs Down', 'Add to Playlist', 'Add Friend', 'Roll Advert'])\n",
    "    # column names used to sum up for total\n",
    "    cols = temp1.columns[1:]\n",
    "    # calculate the total \n",
    "    feature_page = temp1.withColumn('total', sum([col(c) for c in cols]))  \n",
    "    \n",
    "    #number of unique songs\n",
    "    feature_nunique_song = df_clean_cancel.filter(df_clean_cancel.page=='NextSong').select([\"userId\",\"song\"]).\\\n",
    "                                             dropDuplicates([\"userId\",\"song\"]).groupby([\"userId\"]).count()\n",
    "    \n",
    "    feature_nunique_song = feature_nunique_song.selectExpr(\"userId as userId\",\"count as nunique_song\")\n",
    "    \n",
    "    #number of total songs\n",
    "    feature_ntotal_song = df_clean_cancel.filter(df_clean_cancel.page=='NextSong').select([\"userId\",\"song\"]).\\\n",
    "                                             groupby([\"userId\"]).count()\n",
    "    \n",
    "    feature_ntotal_song = feature_ntotal_song.selectExpr(\"userId as userId\",\"count as ntotal_song\")\n",
    "    \n",
    "    #number of unique artists\n",
    "    feature_nunique_artist = df_clean_cancel.filter(df_clean_cancel.page=='NextSong').select([\"userId\",\"artist\"]).\\\n",
    "                                               dropDuplicates([\"userId\",\"artist\"]).groupby([\"userId\"]).count()\n",
    "    \n",
    "    feature_nunique_artist = feature_nunique_artist.selectExpr(\"userId as userId\",\"count as nunique_artist\")\n",
    "    \n",
    "    #percentage of operations\n",
    "    day_count = df_clean_cancel.filter(df_clean_cancel.day<=10).select(['userId']).groupby([\"userId\"]).count()\n",
    "    day_count = day_count.selectExpr(\"userId as userId\",\"count as day_count\")\n",
    "    \n",
    "    total_count = df_clean_cancel.select(['userId']).groupby([\"userId\"]).count()\n",
    "    total_count = total_count.selectExpr(\"userId as userId\",\"count as total_count\")\n",
    "    \n",
    "    dayofweek_count = df_clean_cancel.filter(df_clean_cancel.weekdaynum<5).select(['userId']).groupby([\"userId\"]).count()\n",
    "    dayofweek_count = dayofweek_count.selectExpr(\"userId as userId\",\"count as dayofweek_count\")\n",
    "    \n",
    "    feature_percentage_month = (total_count.alias(\"total\").join(day_count.alias(\"day\"), [\"userId\"]).\\\n",
    "                              select(col(\"userId\"), (col(\"day.day_count\") / col(\"total.total_count\")).alias(\"month_percentage\")))\n",
    "    \n",
    "    feature_percentage_week = (total_count.alias(\"total\").join(dayofweek_count.alias(\"day\"), [\"userId\"]).\\\n",
    "                          select(col(\"userId\"), (col(\"day.dayofweek_count\") / col(\"total.total_count\")).alias(\"week_percentage\")))\n",
    "    \n",
    "    #merge together\n",
    "    result = feature_length.join(feature_page,on='userId',how='inner').\\\n",
    "                        join(feature_percentage_month,on='userId',how='inner').\\\n",
    "                        join(feature_nunique_song,on='userId',how='inner').\\\n",
    "                        join(feature_ntotal_song,on='userId',how='inner').\\\n",
    "                        join(feature_nunique_artist,on='userId',how='inner').\\\n",
    "                        join(feature_percentage_week,on='userId',how='inner')\n",
    "    \n",
    "    return result"
   ]
  },
  {
   "cell_type": "code",
   "execution_count": 69,
   "metadata": {},
   "outputs": [],
   "source": [
    "label = df_clean_cancel.select(['userId','Churn']).dropDuplicates()"
   ]
  },
  {
   "cell_type": "code",
   "execution_count": 70,
   "metadata": {},
   "outputs": [],
   "source": [
    "# Merge \n",
    "def get_data_for_train():\n",
    "    cat_feature = get_cat_features()\n",
    "    num_feature = get_num_features()\n",
    "    label = df_clean_cancel.select(['userId','Churn']).dropDuplicates()\n",
    "    result = cat_feature.join(num_feature,on='userId',how='inner').join(label,on='userId',how='inner')\n",
    "    \n",
    "    # Convert Data type\n",
    "    for col_name in result.columns[1:5]:\n",
    "        result = result.withColumn(col_name, result[col_name].cast(IntegerType()))\n",
    "    \n",
    "    for col_name in result.columns[5:-1]:\n",
    "        result = result.withColumn(col_name, result[col_name].cast(FloatType()))\n",
    "        \n",
    "    #fill NaN\n",
    "    result = result.na.fill(0)\n",
    "    \n",
    "  \n",
    "    return result"
   ]
  },
  {
   "cell_type": "code",
   "execution_count": 71,
   "metadata": {},
   "outputs": [],
   "source": [
    "final_data = get_data_for_train()"
   ]
  },
  {
   "cell_type": "code",
   "execution_count": 72,
   "metadata": {},
   "outputs": [],
   "source": [
    "data_columns = final_data.columns\n",
    "data_columns.remove('Churn')\n",
    "data_columns.remove('userId')"
   ]
  },
  {
   "cell_type": "code",
   "execution_count": 73,
   "metadata": {},
   "outputs": [],
   "source": [
    "cat_features = ['gender','level','browser','platform']\n",
    "num_features = [col_name for col_name in data_columns if col_name not in cat_features]"
   ]
  },
  {
   "cell_type": "code",
   "execution_count": 74,
   "metadata": {},
   "outputs": [],
   "source": [
    "df = final_data.toPandas()"
   ]
  },
  {
   "cell_type": "code",
   "execution_count": 75,
   "metadata": {},
   "outputs": [
    {
     "data": {
      "text/plain": [
       "(209, 22)"
      ]
     },
     "execution_count": 75,
     "metadata": {},
     "output_type": "execute_result"
    }
   ],
   "source": [
    "df.shape"
   ]
  },
  {
   "cell_type": "code",
   "execution_count": 76,
   "metadata": {},
   "outputs": [],
   "source": [
    "# combine features using VecotrAssembler\n",
    "assembler = VectorAssembler(inputCols=data_columns, outputCol=\"ChurnFeatures\")\n",
    "df_processed = assembler.transform(final_data)"
   ]
  },
  {
   "cell_type": "code",
   "execution_count": 79,
   "metadata": {},
   "outputs": [],
   "source": [
    "# scale features using Normalizer\n",
    "scaler = Normalizer(inputCol=\"ChurnFeatures\", outputCol=\"NormedChurnFeatures\")\n",
    "df_processed = scaler.transform(df_processed)"
   ]
  },
  {
   "cell_type": "code",
   "execution_count": 80,
   "metadata": {},
   "outputs": [
    {
     "name": "stdout",
     "output_type": "stream",
     "text": [
      "+------+--------------------+--------------------+\n",
      "|userId|       ChurnFeatures| NormedChurnFeatures|\n",
      "+------+--------------------+--------------------+\n",
      "|100010|[0.0,0.0,1.0,1.0,...|[0.0,0.0,0.001133...|\n",
      "|200002|[1.0,0.0,1.0,1.0,...|[9.27921075044845...|\n",
      "|   124|[0.0,1.0,3.0,3.0,...|[0.0,1.1525900864...|\n",
      "|    51|[1.0,1.0,3.0,4.0,...|[1.94502303786280...|\n",
      "|     7|[1.0,0.0,0.0,4.0,...|[0.00101560922056...|\n",
      "|    15|[1.0,1.0,3.0,4.0,...|[2.33670021068194...|\n",
      "|    54|[0.0,1.0,0.0,4.0,...|[0.0,1.6390178435...|\n",
      "|   155|[0.0,0.0,3.0,4.0,...|[0.0,0.0,0.001562...|\n",
      "|100014|[1.0,1.0,3.0,4.0,...|[3.73509518660709...|\n",
      "|   132|[0.0,0.0,1.0,3.0,...|[0.0,0.0,2.343707...|\n",
      "|   154|[0.0,0.0,3.0,4.0,...|[0.0,0.0,0.004093...|\n",
      "|   101|[1.0,0.0,0.0,4.0,...|[2.04944263738551...|\n",
      "|    11|[0.0,0.0,2.0,4.0,...|[0.0,0.0,0.001127...|\n",
      "|   138|[1.0,0.0,1.0,0.0,...|[2.14258573594542...|\n",
      "|300017|[0.0,1.0,1.0,3.0,...|[0.0,1.2894338444...|\n",
      "|100021|[1.0,0.0,1.0,3.0,...|[0.00121852336221...|\n",
      "|    29|[1.0,0.0,1.0,3.0,...|[1.47564993865294...|\n",
      "|    69|[0.0,0.0,3.0,4.0,...|[0.0,0.0,0.001011...|\n",
      "|   112|[1.0,0.0,0.0,4.0,...|[7.33312924355595...|\n",
      "|    42|[0.0,0.0,3.0,4.0,...|[0.0,0.0,4.004865...|\n",
      "+------+--------------------+--------------------+\n",
      "only showing top 20 rows\n",
      "\n"
     ]
    }
   ],
   "source": [
    "df_processed.select('userId', 'ChurnFeatures', 'NormedChurnFeatures').show()"
   ]
  },
  {
   "cell_type": "markdown",
   "metadata": {},
   "source": [
    "# Modeling\n",
    "Split the full dataset into train, test, and validation sets. Test out several of the machine learning methods you learned. Evaluate the accuracy of the various models, tuning parameters as necessary. Determine your winning model based on test accuracy and report results on the validation set. Since the churned users are a fairly small subset, I suggest using F1 score as the metric to optimize."
   ]
  },
  {
   "cell_type": "code",
   "execution_count": 84,
   "metadata": {},
   "outputs": [],
   "source": [
    "data = df_processed.select(col(\"Churn\").alias(\"label\"), col(\"NormedChurnFeatures\").alias(\"features\"))"
   ]
  },
  {
   "cell_type": "code",
   "execution_count": 85,
   "metadata": {},
   "outputs": [],
   "source": [
    "# Check for Churned vs Not churned. Not Churned is considered stayed users\n",
    "numberOfStayedUsers = data.filter(data.label == 0).count()\n",
    "numberOfChurnUsers = data.filter(data.label == 1).count()"
   ]
  },
  {
   "cell_type": "code",
   "execution_count": 86,
   "metadata": {},
   "outputs": [
    {
     "name": "stdout",
     "output_type": "stream",
     "text": [
      "# of stayed users in model dataset:  161\n",
      "# of churned users in model dataset:  48\n",
      "% of stayed users in model dataset:  0.7703349282296651\n",
      "% of churned users in model dataset:  0.22966507177033493\n"
     ]
    }
   ],
   "source": [
    "print(\"# of stayed users in model dataset: \", numberOfStayedUsers)\n",
    "print(\"# of churned users in model dataset: \", numberOfChurnUsers)\n",
    "print(\"% of stayed users in model dataset: \", numberOfStayedUsers/data.count())\n",
    "print(\"% of churned users in model dataset: \", numberOfChurnUsers/data.count())"
   ]
  },
  {
   "cell_type": "code",
   "execution_count": 93,
   "metadata": {},
   "outputs": [],
   "source": [
    "# Split into Train and Test data set\n",
    "\n",
    "train, test = data.randomSplit([0.8, 0.2], seed=30)"
   ]
  },
  {
   "cell_type": "code",
   "execution_count": 94,
   "metadata": {},
   "outputs": [
    {
     "data": {
      "text/plain": [
       "36"
      ]
     },
     "execution_count": 94,
     "metadata": {},
     "output_type": "execute_result"
    }
   ],
   "source": [
    "test.count()"
   ]
  },
  {
   "cell_type": "code",
   "execution_count": 90,
   "metadata": {},
   "outputs": [],
   "source": [
    "convert_row_to_string = lambda x, y: x.asDict()[y]"
   ]
  },
  {
   "cell_type": "markdown",
   "metadata": {},
   "source": [
    "###### Compare Different Models"
   ]
  },
  {
   "cell_type": "code",
   "execution_count": 95,
   "metadata": {},
   "outputs": [],
   "source": [
    "# function for calculating and returning metrics needed for model performance evaluation\n",
    "def get_metrics(results, beta=1):\n",
    "    tp, fp, fn, tn = [0 for i in range(4)]\n",
    "    cm = []\n",
    "    \n",
    "    label = results.select([\"label\"]).collect()\n",
    "    pred = results.select([\"prediction\"]).collect()\n",
    "    labelList = list(map(convert_row_to_string, label, ['label' for i in range(len(label))]))\n",
    "    predList = list(map(convert_row_to_string, pred, ['prediction' for i in range(len(pred))]))\n",
    "    \n",
    "    for i, (l, p) in enumerate(zip(labelList, predList)):    \n",
    "        if (l == 1) and (p == 1):\n",
    "            tp += 1\n",
    "        elif (l == 0) and (p == 1):\n",
    "            fp += 1\n",
    "        elif (l == 1) and (p == 0):\n",
    "            fn += 1\n",
    "        elif (l == 0) and (p == 0):\n",
    "            tn += 1\n",
    "        \n",
    "    cm = [[tp, fp], [fn, tn]]\n",
    "\n",
    "    # accuracy = (true pos + true neg) / dataset size \n",
    "    accuracy = (cm[0][0] + cm[1][1]) / (sum(cm[0]) + sum(cm[1]))\n",
    "    \n",
    "    if cm[0][0] == 0 and cm[0][1] == 0 and cm[1][0] == 0:\n",
    "        precision, recall, f_score = [1 for i in range(3)]\n",
    "    elif (cm[0][0] == 0 and cm[0][1] == 0) or (cm[0][0] == 0 and cm[1][0] == 0):\n",
    "        precision, recall, f_score = [0 for i in range(3)]\n",
    "    else:\n",
    "        # precision = true pos / (true pos + false neg)\n",
    "        precision = cm[0][0] / (cm[0][0] + cm[0][1])\n",
    "        # recall = true pos / (true pos + false neg)\n",
    "        recall = cm[0][0] / (cm[0][0] + cm[1][0])\n",
    "        # f_score = (1 + beta^2) * (precision * recall) / ((beta^2 * precision) + recall)\n",
    "        f_score = (1 + beta*beta) * (precision * recall) / ((beta*beta * precision) + recall)\n",
    "    \n",
    "    return accuracy, precision, recall, f_score"
   ]
  },
  {
   "cell_type": "code",
   "execution_count": 96,
   "metadata": {},
   "outputs": [],
   "source": [
    "evaluator= BinaryClassificationEvaluator()"
   ]
  },
  {
   "cell_type": "markdown",
   "metadata": {},
   "source": [
    "###### Logistic Regression"
   ]
  },
  {
   "cell_type": "code",
   "execution_count": 97,
   "metadata": {},
   "outputs": [],
   "source": [
    "clf_LR = LogisticRegression(maxIter=10, regParam=0.0, elasticNetParam=0)\n",
    "pred_lr = clf_LR.fit(train).transform(test)\n",
    "results_lr = pred_lr.select(['prediction', 'label'])"
   ]
  },
  {
   "cell_type": "code",
   "execution_count": 98,
   "metadata": {},
   "outputs": [
    {
     "name": "stdout",
     "output_type": "stream",
     "text": [
      "Logistic Regression Metrics:\n",
      "\n",
      "Accuracy = 0.722222\n",
      "Precison = 1.000000\n",
      "Recall = 0.090909\n",
      "F1 Score = 0.166667\n"
     ]
    }
   ],
   "source": [
    "accuracy, precision, recall, f_score = get_metrics(results_lr)\n",
    "\n",
    "print(\"Logistic Regression Metrics:\\n\")\n",
    "print(\"Accuracy = %f\" % accuracy)\n",
    "print(\"Precison = %f\" % precision)\n",
    "print(\"Recall = %f\" % recall)\n",
    "print(\"F1 Score = %f\" % f_score)"
   ]
  },
  {
   "cell_type": "code",
   "execution_count": 99,
   "metadata": {
    "scrolled": true
   },
   "outputs": [
    {
     "name": "stdout",
     "output_type": "stream",
     "text": [
      "Area Under ROC: 0.552727\n"
     ]
    }
   ],
   "source": [
    "areaUnderROC = evaluator.evaluate(pred_lr, {evaluator.metricName: \"areaUnderROC\"})\n",
    "print(\"Area Under ROC: %f\" % areaUnderROC)"
   ]
  },
  {
   "cell_type": "markdown",
   "metadata": {},
   "source": [
    "###### Random Forest Classifier"
   ]
  },
  {
   "cell_type": "code",
   "execution_count": 100,
   "metadata": {},
   "outputs": [],
   "source": [
    "clf_RFC = RandomForestClassifier()\n",
    "pred_rfc = clf_RFC.fit(train).transform(test)\n",
    "results_rfc = pred_rfc.select(['prediction', 'label'])"
   ]
  },
  {
   "cell_type": "code",
   "execution_count": 101,
   "metadata": {},
   "outputs": [
    {
     "name": "stdout",
     "output_type": "stream",
     "text": [
      "Random Forest Classifier Metrics:\n",
      "\n",
      "Accuracy = 0.750000\n",
      "Precison = 1.000000\n",
      "Recall = 0.181818\n",
      "F1 Score = 0.307692\n"
     ]
    }
   ],
   "source": [
    "accuracy, precision, recall, f_score = get_metrics(results_rfc)\n",
    "\n",
    "print(\"Random Forest Classifier Metrics:\\n\")\n",
    "print(\"Accuracy = %f\" % accuracy)\n",
    "print(\"Precison = %f\" % precision)\n",
    "print(\"Recall = %f\" % recall)\n",
    "print(\"F1 Score = %f\" % f_score)"
   ]
  },
  {
   "cell_type": "code",
   "execution_count": 102,
   "metadata": {},
   "outputs": [
    {
     "name": "stdout",
     "output_type": "stream",
     "text": [
      "Area Under ROC: 0.643636\n"
     ]
    }
   ],
   "source": [
    "areaUnderROC = evaluator.evaluate(pred_rfc, {evaluator.metricName: \"areaUnderROC\"})\n",
    "print(\"Area Under ROC: %f\" % areaUnderROC)"
   ]
  },
  {
   "cell_type": "markdown",
   "metadata": {},
   "source": [
    "###### Gradient-Boosted Tree Classifier"
   ]
  },
  {
   "cell_type": "code",
   "execution_count": 103,
   "metadata": {},
   "outputs": [],
   "source": [
    "gbt = GBTClassifier(maxIter=10)\n",
    "pred_gbt = gbt.fit(train).transform(test)\n",
    "results_gbt = pred_gbt.select(['prediction', 'label'])"
   ]
  },
  {
   "cell_type": "code",
   "execution_count": 104,
   "metadata": {},
   "outputs": [
    {
     "name": "stdout",
     "output_type": "stream",
     "text": [
      "Gradient-Boosted Tree Classifier Metrics:\n",
      "\n",
      "Accuracy = 0.638889\n",
      "Precison = 0.375000\n",
      "Recall = 0.272727\n",
      "F1 Score = 0.315789\n"
     ]
    }
   ],
   "source": [
    "accuracy, precision, recall, f_score = get_metrics(results_gbt)\n",
    "\n",
    "print(\"Gradient-Boosted Tree Classifier Metrics:\\n\")\n",
    "print(\"Accuracy = %f\" % accuracy)\n",
    "print(\"Precison = %f\" % precision)\n",
    "print(\"Recall = %f\" % recall)\n",
    "print(\"F1 Score = %f\" % f_score)"
   ]
  },
  {
   "cell_type": "code",
   "execution_count": 105,
   "metadata": {},
   "outputs": [
    {
     "name": "stdout",
     "output_type": "stream",
     "text": [
      "Area Under ROC: 0.629091\n"
     ]
    }
   ],
   "source": [
    "areaUnderROC = evaluator.evaluate(pred_gbt, {evaluator.metricName: \"areaUnderROC\"})\n",
    "print(\"Area Under ROC: %f\" % areaUnderROC)"
   ]
  },
  {
   "cell_type": "markdown",
   "metadata": {},
   "source": [
    "From the metrics calculated above, it looks like Logistic Regression and Random forest classifier performs better. I have decided to take up Logistic regression and tune it to see if the metrics can be improved."
   ]
  },
  {
   "cell_type": "markdown",
   "metadata": {},
   "source": [
    "###### Tune logistic regression model to optimize performance"
   ]
  },
  {
   "cell_type": "code",
   "execution_count": 106,
   "metadata": {},
   "outputs": [],
   "source": [
    "# deal with unbalanced dataset by under-sampling the stayed users in the dataset  \n",
    "# and treating churned users with higher weights\n",
    "numChurned = train.filter(train.label == 1).count()\n",
    "trainSize = train.count()\n",
    "balancingRatio = (trainSize - numChurned)/ trainSize"
   ]
  },
  {
   "cell_type": "code",
   "execution_count": 107,
   "metadata": {},
   "outputs": [],
   "source": [
    "calculate_weights = udf(lambda x: balancingRatio if x == 1 else 1-balancingRatio)\n",
    "weighted_train = train.withColumn('classWeights', calculate_weights(data.label))\n",
    "weighted_train = weighted_train.withColumn('classWeights', col('classWeights').cast(\"float\"))"
   ]
  },
  {
   "cell_type": "code",
   "execution_count": 108,
   "metadata": {},
   "outputs": [
    {
     "name": "stdout",
     "output_type": "stream",
     "text": [
      "+-----+--------------------+------------+\n",
      "|label|            features|classWeights|\n",
      "+-----+--------------------+------------+\n",
      "|    0|[0.0,0.0,0.001133...|  0.21387284|\n",
      "|    0|[9.27921075044845...|  0.21387284|\n",
      "|    0|[0.0,1.1525900864...|  0.21387284|\n",
      "|    0|[0.00101560922056...|  0.21387284|\n",
      "|    1|[1.94502303786280...|  0.78612715|\n",
      "|    0|[2.33670021068194...|  0.21387284|\n",
      "|    0|[0.0,0.0,0.001562...|  0.21387284|\n",
      "|    0|[0.0,0.0,0.004093...|  0.21387284|\n",
      "|    1|[3.73509518660709...|  0.78612715|\n",
      "|    0|[0.0,0.0,0.001127...|  0.21387284|\n",
      "|    1|[2.04944263738551...|  0.78612715|\n",
      "|    0|[0.0,1.2894338444...|  0.21387284|\n",
      "|    0|[2.14258573594542...|  0.21387284|\n",
      "|    0|[0.0,0.0,0.001011...|  0.21387284|\n",
      "|    1|[1.47564993865294...|  0.78612715|\n",
      "|    1|[0.00121852336221...|  0.78612715|\n",
      "|    0|[0.0,0.0,4.004865...|  0.21387284|\n",
      "|    1|[5.17311779702764...|  0.78612715|\n",
      "|    0|[0.0,0.0,0.0,0.00...|  0.21387284|\n",
      "|    0|[0.00145873989972...|  0.21387284|\n",
      "+-----+--------------------+------------+\n",
      "only showing top 20 rows\n",
      "\n"
     ]
    }
   ],
   "source": [
    "weighted_train.show()"
   ]
  },
  {
   "cell_type": "code",
   "execution_count": 109,
   "metadata": {},
   "outputs": [],
   "source": [
    "lr = LogisticRegression(labelCol=\"label\", featuresCol=\"features\", weightCol=\"classWeights\")\n",
    "\n",
    "paramGrid = ParamGridBuilder() \\\n",
    "    .addGrid(lr.maxIter, [10, 50])\\\n",
    "    .addGrid(lr.regParam,[0.0, 0.1, 0.5]) \\\n",
    "    .addGrid(lr.elasticNetParam,[0.0, 0.5, 1.0]) \\\n",
    "    .build()\n",
    "\n",
    "crossval_lr = CrossValidator(estimator=lr,\n",
    "                          estimatorParamMaps=paramGrid,\n",
    "                          evaluator=BinaryClassificationEvaluator(),\n",
    "                          numFolds=3)\n",
    "\n",
    "cv_lr = crossval_lr.fit(weighted_train)"
   ]
  },
  {
   "cell_type": "code",
   "execution_count": 110,
   "metadata": {},
   "outputs": [],
   "source": [
    "cv_lr_preds = cv_lr.transform(test)\n",
    "results_cvModel = cv_lr_preds.select(['prediction', 'label'])"
   ]
  },
  {
   "cell_type": "code",
   "execution_count": 111,
   "metadata": {},
   "outputs": [],
   "source": [
    "accuracy, precision, recall, f_score = get_metrics(results_cvModel)"
   ]
  },
  {
   "cell_type": "code",
   "execution_count": 112,
   "metadata": {
    "scrolled": true
   },
   "outputs": [
    {
     "name": "stdout",
     "output_type": "stream",
     "text": [
      "Optimized Logistic Regression Metrics:\n",
      "\n",
      "Accuracy = 0.666667\n",
      "Precison = 0.473684\n",
      "Recall = 0.818182\n",
      "F1 Score = 0.600000\n"
     ]
    }
   ],
   "source": [
    "print(\"Optimized Logistic Regression Metrics:\\n\")\n",
    "print(\"Accuracy = %f\" % accuracy)\n",
    "print(\"Precison = %f\" % precision)\n",
    "print(\"Recall = %f\" % recall)\n",
    "print(\"F1 Score = %f\" % f_score)"
   ]
  },
  {
   "cell_type": "code",
   "execution_count": 113,
   "metadata": {},
   "outputs": [
    {
     "name": "stdout",
     "output_type": "stream",
     "text": [
      "Area Under ROC: 0.647273\n"
     ]
    }
   ],
   "source": [
    "areaUnderROC = evaluator.evaluate(cv_lr_preds, {evaluator.metricName: \"areaUnderROC\"})\n",
    "print(\"Area Under ROC: %f\" % areaUnderROC)"
   ]
  },
  {
   "cell_type": "markdown",
   "metadata": {},
   "source": [
    "In order to optimize the model, I tuned the hyperparameters of the logistic regression, as well as made the training dataset more balanced by adding more weights to the churned users. As a result, the tuned and optmized logistic regression model scored an improved F1 score of 60% against the original F1 score of 16%."
   ]
  },
  {
   "cell_type": "markdown",
   "metadata": {},
   "source": [
    "# Final Steps\n",
    "Clean up your code, adding comments and renaming variables to make the code easier to read and maintain. Refer to the Spark Project Overview page and Data Scientist Capstone Project Rubric to make sure you are including all components of the capstone project and meet all expectations. Remember, this includes thorough documentation in a README file in a Github repository, as well as a web app or blog post."
   ]
  },
  {
   "cell_type": "code",
   "execution_count": null,
   "metadata": {},
   "outputs": [],
   "source": []
  }
 ],
 "metadata": {
  "kernelspec": {
   "display_name": "Python 3",
   "language": "python",
   "name": "python3"
  },
  "language_info": {
   "codemirror_mode": {
    "name": "ipython",
    "version": 3
   },
   "file_extension": ".py",
   "mimetype": "text/x-python",
   "name": "python",
   "nbconvert_exporter": "python",
   "pygments_lexer": "ipython3",
   "version": "3.6.3"
  }
 },
 "nbformat": 4,
 "nbformat_minor": 2
}
