{
 "cells": [
  {
   "cell_type": "markdown",
   "metadata": {},
   "source": [
    "# Sparkify Project Workspace\n",
    "This workspace contains a tiny subset (128MB) of the full dataset available (12GB). Feel free to use this workspace to build your project, or to explore a smaller subset with Spark before deploying your cluster on the cloud. Instructions for setting up your Spark cluster is included in the last lesson of the Extracurricular Spark Course content.\n",
    "\n",
    "You can follow the steps below to guide your data analysis and model building portion of this project."
   ]
  },
  {
   "cell_type": "code",
   "execution_count": 225,
   "metadata": {},
   "outputs": [],
   "source": [
    "# import libraries\n",
    "import re\n",
    "import copy\n",
    "import time\n",
    "import datetime\n",
    "import numpy as np\n",
    "import pandas as pd\n",
    "import seaborn as sns\n",
    "import matplotlib.pyplot as plt\n",
    "from statsmodels.stats.proportion import proportions_ztest\n",
    "\n",
    "%matplotlib inline\n",
    "\n",
    "from pyspark.sql import SparkSession, Window\n",
    "from pyspark.sql.functions import avg, stddev, split, udf, isnull, first, col, format_number, rand\n",
    "from pyspark.sql.functions import min as fmin\n",
    "from pyspark.sql.functions import max as fmax\n",
    "from pyspark.sql.types import IntegerType, FloatType\n",
    "\n",
    "from pyspark.ml import Pipeline\n",
    "from pyspark.ml.classification import LogisticRegression, RandomForestClassifier, LinearSVC\n",
    "from pyspark.ml.feature import StandardScaler, VectorAssembler, Normalizer\n",
    "from pyspark.ml.evaluation import BinaryClassificationEvaluator\n",
    "from pyspark.mllib.evaluation import MulticlassMetrics\n",
    "from pyspark.ml.tuning import CrossValidator, ParamGridBuilder"
   ]
  },
  {
   "cell_type": "code",
   "execution_count": 137,
   "metadata": {},
   "outputs": [],
   "source": [
    "# create a Spark session\n",
    "spark = SparkSession.builder.appName('Capstone Project').getOrCreate()"
   ]
  },
  {
   "cell_type": "markdown",
   "metadata": {},
   "source": [
    "# Load and Clean Dataset\n",
    "In this workspace, the mini-dataset file is `mini_sparkify_event_data.json`. Load and clean the dataset, checking for invalid or missing data - for example, records without userids or sessionids. "
   ]
  },
  {
   "cell_type": "code",
   "execution_count": 138,
   "metadata": {},
   "outputs": [
    {
     "name": "stdout",
     "output_type": "stream",
     "text": [
      "+--------------+---------+---------+------+-------------+--------+---------+-----+---------------+------+--------+-------------+---------+---------+------+-------------+--------------------+------+\n",
      "|        artist|     auth|firstName|gender|itemInSession|lastName|   length|level|       location|method|    page| registration|sessionId|     song|status|           ts|           userAgent|userId|\n",
      "+--------------+---------+---------+------+-------------+--------+---------+-----+---------------+------+--------+-------------+---------+---------+------+-------------+--------------------+------+\n",
      "|Martha Tilston|Logged In|    Colin|     M|           50| Freeman|277.89016| paid|Bakersfield, CA|   PUT|NextSong|1538173362000|       29|Rockpools|   200|1538352117000|Mozilla/5.0 (Wind...|    30|\n",
      "+--------------+---------+---------+------+-------------+--------+---------+-----+---------------+------+--------+-------------+---------+---------+------+-------------+--------------------+------+\n",
      "only showing top 1 row\n",
      "\n"
     ]
    }
   ],
   "source": [
    "df = spark.read.json('mini_sparkify_event_data.json')\n",
    "df.createOrReplaceTempView(\"spark_table\")\n",
    "df.show(1)"
   ]
  },
  {
   "cell_type": "code",
   "execution_count": 139,
   "metadata": {},
   "outputs": [
    {
     "name": "stdout",
     "output_type": "stream",
     "text": [
      "(286500, 18)\n"
     ]
    }
   ],
   "source": [
    "print((df.count(), len(df.columns)))"
   ]
  },
  {
   "cell_type": "code",
   "execution_count": 140,
   "metadata": {},
   "outputs": [
    {
     "name": "stdout",
     "output_type": "stream",
     "text": [
      "root\n",
      " |-- artist: string (nullable = true)\n",
      " |-- auth: string (nullable = true)\n",
      " |-- firstName: string (nullable = true)\n",
      " |-- gender: string (nullable = true)\n",
      " |-- itemInSession: long (nullable = true)\n",
      " |-- lastName: string (nullable = true)\n",
      " |-- length: double (nullable = true)\n",
      " |-- level: string (nullable = true)\n",
      " |-- location: string (nullable = true)\n",
      " |-- method: string (nullable = true)\n",
      " |-- page: string (nullable = true)\n",
      " |-- registration: long (nullable = true)\n",
      " |-- sessionId: long (nullable = true)\n",
      " |-- song: string (nullable = true)\n",
      " |-- status: long (nullable = true)\n",
      " |-- ts: long (nullable = true)\n",
      " |-- userAgent: string (nullable = true)\n",
      " |-- userId: string (nullable = true)\n",
      "\n"
     ]
    }
   ],
   "source": [
    "df.printSchema()"
   ]
  },
  {
   "cell_type": "code",
   "execution_count": 141,
   "metadata": {},
   "outputs": [
    {
     "name": "stdout",
     "output_type": "stream",
     "text": [
      "+-------+------+\n",
      "|summary| level|\n",
      "+-------+------+\n",
      "|  count|286500|\n",
      "|   mean|  null|\n",
      "| stddev|  null|\n",
      "|    min|  free|\n",
      "|    max|  paid|\n",
      "+-------+------+\n",
      "\n"
     ]
    }
   ],
   "source": [
    "# Check for missing values in Level\n",
    "df.describe('level').show()"
   ]
  },
  {
   "cell_type": "markdown",
   "metadata": {},
   "source": [
    "There are no missing values in the field \"level\"."
   ]
  },
  {
   "cell_type": "code",
   "execution_count": 142,
   "metadata": {},
   "outputs": [
    {
     "name": "stdout",
     "output_type": "stream",
     "text": [
      "+-------+-----------------+\n",
      "|summary|           userId|\n",
      "+-------+-----------------+\n",
      "|  count|           286500|\n",
      "|   mean|59682.02278593872|\n",
      "| stddev|109091.9499991047|\n",
      "|    min|                 |\n",
      "|    max|               99|\n",
      "+-------+-----------------+\n",
      "\n"
     ]
    }
   ],
   "source": [
    "# Check for missing values in userId\n",
    "df.describe('userId').show()"
   ]
  },
  {
   "cell_type": "markdown",
   "metadata": {},
   "source": [
    "It looks like there are missing values in userId. Lets check the count of missing values and remove these records from the data set."
   ]
  },
  {
   "cell_type": "code",
   "execution_count": 143,
   "metadata": {},
   "outputs": [
    {
     "name": "stdout",
     "output_type": "stream",
     "text": [
      "+--------+\n",
      "|count(1)|\n",
      "+--------+\n",
      "|    8346|\n",
      "+--------+\n",
      "\n"
     ]
    }
   ],
   "source": [
    "spark.sql(\"Select count(1) from spark_table where userId = ''\").show()"
   ]
  },
  {
   "cell_type": "code",
   "execution_count": 144,
   "metadata": {},
   "outputs": [],
   "source": [
    "# Remove these 8,346 records from the data set\n",
    "df = df.filter(df['userId']!='')"
   ]
  },
  {
   "cell_type": "code",
   "execution_count": 145,
   "metadata": {},
   "outputs": [
    {
     "name": "stdout",
     "output_type": "stream",
     "text": [
      "+--------+\n",
      "|count(1)|\n",
      "+--------+\n",
      "|       0|\n",
      "+--------+\n",
      "\n"
     ]
    }
   ],
   "source": [
    "# check to confirm is there are any more missing values in user id\n",
    "df.createOrReplaceTempView(\"spark_table\")\n",
    "spark.sql(\"Select count(1) from spark_table where (userId = '' or userId is null)\").show()"
   ]
  },
  {
   "cell_type": "code",
   "execution_count": 146,
   "metadata": {},
   "outputs": [
    {
     "name": "stdout",
     "output_type": "stream",
     "text": [
      "+-------------------+\n",
      "|Distinct_User_Count|\n",
      "+-------------------+\n",
      "|                225|\n",
      "+-------------------+\n",
      "\n"
     ]
    }
   ],
   "source": [
    "# Check for distinct users in the data set\n",
    "spark.sql(\"select count(distinct userId) as Distinct_User_Count from spark_table\").show()"
   ]
  },
  {
   "cell_type": "code",
   "execution_count": 147,
   "metadata": {},
   "outputs": [
    {
     "name": "stdout",
     "output_type": "stream",
     "text": [
      "+-------+------------------+\n",
      "|summary|         sessionId|\n",
      "+-------+------------------+\n",
      "|  count|            278154|\n",
      "|   mean|1042.5616241362698|\n",
      "| stddev| 726.5010362219813|\n",
      "|    min|                 1|\n",
      "|    max|              2474|\n",
      "+-------+------------------+\n",
      "\n"
     ]
    }
   ],
   "source": [
    "# Check for missing values in SessionId\n",
    "df.describe('sessionId').show()"
   ]
  },
  {
   "cell_type": "markdown",
   "metadata": {},
   "source": [
    "There are no nulls / blanks in sessionId"
   ]
  },
  {
   "cell_type": "code",
   "execution_count": 148,
   "metadata": {},
   "outputs": [
    {
     "name": "stdout",
     "output_type": "stream",
     "text": [
      "+--------------+---------+---------+------+-------------+--------+---------+-----+---------------+------+--------+-------------+---------+---------+------+-------------+--------------------+------+\n",
      "|        artist|     auth|firstName|gender|itemInSession|lastName|   length|level|       location|method|    page| registration|sessionId|     song|status|           ts|           userAgent|userId|\n",
      "+--------------+---------+---------+------+-------------+--------+---------+-----+---------------+------+--------+-------------+---------+---------+------+-------------+--------------------+------+\n",
      "|Martha Tilston|Logged In|    Colin|     M|           50| Freeman|277.89016| paid|Bakersfield, CA|   PUT|NextSong|1538173362000|       29|Rockpools|   200|1538352117000|Mozilla/5.0 (Wind...|    30|\n",
      "+--------------+---------+---------+------+-------------+--------+---------+-----+---------------+------+--------+-------------+---------+---------+------+-------------+--------------------+------+\n",
      "only showing top 1 row\n",
      "\n"
     ]
    }
   ],
   "source": [
    "# check the cleaned data set\n",
    "df.show(1)"
   ]
  },
  {
   "cell_type": "markdown",
   "metadata": {},
   "source": [
    "# Exploratory Data Analysis\n",
    "When you're working with the full dataset, perform EDA by loading a small subset of the data and doing basic manipulations within Spark. In this workspace, you are already provided a small subset of data you can explore."
   ]
  },
  {
   "cell_type": "markdown",
   "metadata": {},
   "source": [
    "##### Preliminary Data Analysis"
   ]
  },
  {
   "cell_type": "code",
   "execution_count": 149,
   "metadata": {},
   "outputs": [],
   "source": [
    "#Create a view to perform SQL operations\n",
    "df.createOrReplaceTempView(\"spark_table_clean\")"
   ]
  },
  {
   "cell_type": "code",
   "execution_count": 150,
   "metadata": {},
   "outputs": [
    {
     "name": "stdout",
     "output_type": "stream",
     "text": [
      "+------+-----+\n",
      "|gender|Count|\n",
      "+------+-----+\n",
      "|     F|  104|\n",
      "|     M|  121|\n",
      "+------+-----+\n",
      "\n"
     ]
    }
   ],
   "source": [
    "# Look at user split based on Gender\n",
    "\n",
    "gender_count = spark.sql('''\n",
    "        select gender,count(distinct userId) as Count\n",
    "        from spark_table_clean\n",
    "        group by gender\n",
    "''')\n",
    "gender_count.show()"
   ]
  },
  {
   "cell_type": "code",
   "execution_count": 151,
   "metadata": {},
   "outputs": [
    {
     "data": {
      "image/png": "[encoded data removed]",
      "text/plain": [
       "<matplotlib.figure.Figure at 0x7fda9787f978>"
      ]
     },
     "metadata": {
      "needs_background": "light"
     },
     "output_type": "display_data"
    }
   ],
   "source": [
    "sns.barplot(x='gender',y='Count',data=gender_count.toPandas());"
   ]
  },
  {
   "cell_type": "markdown",
   "metadata": {},
   "source": [
    "There are more male users in this data set"
   ]
  },
  {
   "cell_type": "code",
   "execution_count": 152,
   "metadata": {},
   "outputs": [
    {
     "name": "stdout",
     "output_type": "stream",
     "text": [
      "+---------+-----+\n",
      "|     Auth|Count|\n",
      "+---------+-----+\n",
      "|Cancelled|   52|\n",
      "|Logged In|  225|\n",
      "+---------+-----+\n",
      "\n"
     ]
    }
   ],
   "source": [
    "# Check for values on Auth by user count\n",
    "auth_count = spark.sql(\"Select Auth, count(distinct userId) as Count from spark_table_clean group by Auth\")\n",
    "auth_count.show()"
   ]
  },
  {
   "cell_type": "code",
   "execution_count": 153,
   "metadata": {},
   "outputs": [
    {
     "data": {
      "image/png": "[encoded data removed]",
      "text/plain": [
       "<matplotlib.figure.Figure at 0x7fda978dceb8>"
      ]
     },
     "metadata": {
      "needs_background": "light"
     },
     "output_type": "display_data"
    }
   ],
   "source": [
    "sns.barplot(x='Auth',y='Count',data=auth_count.toPandas());"
   ]
  },
  {
   "cell_type": "markdown",
   "metadata": {},
   "source": [
    "It looks like out of the 225 users, 52 of them have cancelled the service."
   ]
  },
  {
   "cell_type": "code",
   "execution_count": 154,
   "metadata": {},
   "outputs": [
    {
     "name": "stdout",
     "output_type": "stream",
     "text": [
      "+-----+-----+\n",
      "|level|Count|\n",
      "+-----+-----+\n",
      "| free|  195|\n",
      "| paid|  165|\n",
      "+-----+-----+\n",
      "\n"
     ]
    }
   ],
   "source": [
    "#user count by subscription type (at any point of time)\n",
    "sub_type = spark.sql('''\n",
    "        Select level,count(Distinct userId) as Count\n",
    "        FROM spark_table_clean\n",
    "        GROUP BY level\n",
    "''')\n",
    "sub_type.show()"
   ]
  },
  {
   "cell_type": "code",
   "execution_count": 155,
   "metadata": {},
   "outputs": [
    {
     "data": {
      "image/png": "[encoded data removed]",
      "text/plain": [
       "<matplotlib.figure.Figure at 0x7fda97907240>"
      ]
     },
     "metadata": {
      "needs_background": "light"
     },
     "output_type": "display_data"
    }
   ],
   "source": [
    "sns.barplot(x='level',y='Count',data=sub_type.toPandas());"
   ]
  },
  {
   "cell_type": "code",
   "execution_count": 156,
   "metadata": {},
   "outputs": [
    {
     "name": "stdout",
     "output_type": "stream",
     "text": [
      "+-----+-----+\n",
      "|level|Count|\n",
      "+-----+-----+\n",
      "| free|   80|\n",
      "| paid|  145|\n",
      "+-----+-----+\n",
      "\n"
     ]
    }
   ],
   "source": [
    "# User count by current subscription Type \n",
    "sub_type = spark.sql('''\n",
    "        Select A.level,count(Distinct A.userId) as Count\n",
    "        FROM spark_table_clean A\n",
    "        inner join (select UserId,max(ts) as max_ts from spark_table_clean group by userId) B\n",
    "        on A.userId = B.userId\n",
    "        and A.ts = B.max_ts\n",
    "        GROUP BY A.level\n",
    "''')\n",
    "sub_type.show()"
   ]
  },
  {
   "cell_type": "code",
   "execution_count": 157,
   "metadata": {},
   "outputs": [
    {
     "data": {
      "image/png": "[encoded data removed]",
      "text/plain": [
       "<matplotlib.figure.Figure at 0x7fda97852860>"
      ]
     },
     "metadata": {
      "needs_background": "light"
     },
     "output_type": "display_data"
    }
   ],
   "source": [
    "sns.barplot(x='level',y='Count',data=sub_type.toPandas());"
   ]
  },
  {
   "cell_type": "markdown",
   "metadata": {},
   "source": [
    "At any point in time, the number of users with Paid subscription was 165 and with free subscription was 195. When i looked at the current state (i.e the latest record for each user) it looks like some people have downgraded from Paid to Free over a period of time as the count users with Paid subscription is 145 (reduced from 165)."
   ]
  },
  {
   "cell_type": "code",
   "execution_count": 158,
   "metadata": {},
   "outputs": [
    {
     "name": "stdout",
     "output_type": "stream",
     "text": [
      "+--------------------+-----+\n",
      "|            location|Count|\n",
      "+--------------------+-----+\n",
      "|Los Angeles-Long ...|   16|\n",
      "|New York-Newark-J...|   15|\n",
      "|Dallas-Fort Worth...|    7|\n",
      "|Phoenix-Mesa-Scot...|    7|\n",
      "|    St. Louis, MO-IL|    6|\n",
      "|Chicago-Napervill...|    6|\n",
      "|Charlotte-Concord...|    6|\n",
      "|Philadelphia-Camd...|    5|\n",
      "|Miami-Fort Lauder...|    5|\n",
      "|Boston-Cambridge-...|    5|\n",
      "|Atlanta-Sandy Spr...|    4|\n",
      "|Washington-Arling...|    4|\n",
      "|Houston-The Woodl...|    4|\n",
      "|San Diego-Carlsba...|    3|\n",
      "|Las Vegas-Henders...|    3|\n",
      "|New Haven-Milford...|    3|\n",
      "|Providence-Warwic...|    2|\n",
      "|San Antonio-New B...|    2|\n",
      "|Indianapolis-Carm...|    2|\n",
      "|         Jackson, MS|    2|\n",
      "+--------------------+-----+\n",
      "only showing top 20 rows\n",
      "\n"
     ]
    }
   ],
   "source": [
    "# Location wise data\n",
    "loc_count = spark.sql('''\n",
    "        Select location,count(Distinct userId) as Count\n",
    "        from spark_table_clean\n",
    "        group by location\n",
    "        order by Count Desc\n",
    "''')\n",
    "loc_count.show()"
   ]
  },
  {
   "cell_type": "markdown",
   "metadata": {},
   "source": [
    "Looks like Location field has both City and State information. lets split this into two fields."
   ]
  },
  {
   "cell_type": "code",
   "execution_count": 159,
   "metadata": {},
   "outputs": [],
   "source": [
    "# Split location into City & State\n",
    "df = df.withColumn(\"City\",split(col(\"location\"),\",\").getItem(0)) \\\n",
    "        .withColumn(\"State\",split(col(\"location\"),\",\").getItem(1)) \\\n",
    "        .drop(\"location\")"
   ]
  },
  {
   "cell_type": "code",
   "execution_count": 160,
   "metadata": {},
   "outputs": [],
   "source": [
    "# replace view\n",
    "df.createOrReplaceTempView(\"spark_table_clean\")"
   ]
  },
  {
   "cell_type": "code",
   "execution_count": 161,
   "metadata": {},
   "outputs": [
    {
     "name": "stdout",
     "output_type": "stream",
     "text": [
      "+------------+-----+\n",
      "|       state|Count|\n",
      "+------------+-----+\n",
      "|          CA|   33|\n",
      "|          TX|   16|\n",
      "|    NY-NJ-PA|   15|\n",
      "|          FL|   14|\n",
      "|          AZ|    7|\n",
      "|          CT|    7|\n",
      "|    IL-IN-WI|    6|\n",
      "|       MO-IL|    6|\n",
      "|       NC-SC|    6|\n",
      "|          NC|    6|\n",
      "|          MI|    5|\n",
      "|          NY|    5|\n",
      "| PA-NJ-DE-MD|    5|\n",
      "|       MA-NH|    5|\n",
      "|          GA|    4|\n",
      "| DC-VA-MD-WV|    4|\n",
      "|          CO|    4|\n",
      "|          WA|    4|\n",
      "|          AL|    4|\n",
      "|          NV|    3|\n",
      "+------------+-----+\n",
      "only showing top 20 rows\n",
      "\n"
     ]
    }
   ],
   "source": [
    "# State Wise count of users\n",
    "state_count = spark.sql(\"Select state,count(distinct userId) as Count \\\n",
    "                        from spark_table_clean group by state \\\n",
    "                        order by Count desc\")\n",
    "\n",
    "state_count.show()"
   ]
  },
  {
   "cell_type": "code",
   "execution_count": 162,
   "metadata": {},
   "outputs": [
    {
     "data": {
      "image/png": "[encoded data removed]",
      "text/plain": [
       "<matplotlib.figure.Figure at 0x7fda94db2fd0>"
      ]
     },
     "metadata": {
      "needs_background": "light"
     },
     "output_type": "display_data"
    }
   ],
   "source": [
    "plt.figure(figsize=(15,10))\n",
    "sns.barplot(x='Count',y='state',data=state_count.toPandas());"
   ]
  },
  {
   "cell_type": "markdown",
   "metadata": {},
   "source": [
    "California is the clear leader in terms of number of users compared to other states in the dataset"
   ]
  },
  {
   "cell_type": "code",
   "execution_count": 163,
   "metadata": {},
   "outputs": [],
   "source": [
    "# Split timestamp into Hour, Day and Weekday\n",
    "get_hour = udf(lambda x: datetime.datetime.fromtimestamp(x / 1000.0). strftime(\"%H\"))\n",
    "get_day = udf(lambda x: datetime.datetime.fromtimestamp(x / 1000.0). strftime(\"%d\"))\n",
    "get_weekday = udf(lambda x: datetime.datetime.fromtimestamp(x / 1000.0). strftime(\"%A\"))\n"
   ]
  },
  {
   "cell_type": "code",
   "execution_count": 164,
   "metadata": {},
   "outputs": [],
   "source": [
    "df = df.withColumn(\"hour\", get_hour(df.ts)) \\\n",
    "        .withColumn(\"day\", get_day(df.ts)) \\\n",
    "        .withColumn(\"weekday\", get_weekday(df.ts)) \\\n",
    "        .drop(\"ts\")"
   ]
  },
  {
   "cell_type": "code",
   "execution_count": 165,
   "metadata": {},
   "outputs": [],
   "source": [
    "# Replace view\n",
    "df.createOrReplaceTempView(\"spark_table_clean\")"
   ]
  },
  {
   "cell_type": "code",
   "execution_count": 166,
   "metadata": {},
   "outputs": [
    {
     "name": "stdout",
     "output_type": "stream",
     "text": [
      "+----+-----+\n",
      "|hour|Count|\n",
      "+----+-----+\n",
      "|  00|  173|\n",
      "|  01|  172|\n",
      "|  02|  177|\n",
      "|  03|  171|\n",
      "|  04|  172|\n",
      "|  05|  172|\n",
      "|  06|  175|\n",
      "|  07|  174|\n",
      "|  08|  165|\n",
      "|  09|  166|\n",
      "|  10|  170|\n",
      "|  11|  174|\n",
      "|  12|  182|\n",
      "|  13|  187|\n",
      "|  14|  189|\n",
      "|  15|  194|\n",
      "|  16|  189|\n",
      "|  17|  188|\n",
      "|  18|  185|\n",
      "|  19|  184|\n",
      "+----+-----+\n",
      "only showing top 20 rows\n",
      "\n"
     ]
    }
   ],
   "source": [
    "#User count by the hour of the day\n",
    "users_by_hour = spark.sql(\"Select hour,count(distinct userId) as Count \\\n",
    "                        from spark_table_clean group by hour \\\n",
    "                        order by hour\")\n",
    "\n",
    "users_by_hour.show()"
   ]
  },
  {
   "cell_type": "code",
   "execution_count": 167,
   "metadata": {},
   "outputs": [
    {
     "data": {
      "image/png": "[encoded data removed]",
      "text/plain": [
       "<matplotlib.figure.Figure at 0x7fda94eac1d0>"
      ]
     },
     "metadata": {
      "needs_background": "light"
     },
     "output_type": "display_data"
    }
   ],
   "source": [
    "sns.barplot(x='hour',y='Count',data=users_by_hour.toPandas());"
   ]
  },
  {
   "cell_type": "markdown",
   "metadata": {},
   "source": [
    "users generally seem to be using sparkify more after 13:00 hrs."
   ]
  },
  {
   "cell_type": "code",
   "execution_count": 168,
   "metadata": {},
   "outputs": [],
   "source": [
    "#User count by the day of the month\n",
    "users_by_days = spark.sql(\"Select day,count(distinct userId) as Count \\\n",
    "                        from spark_table_clean group by day \\\n",
    "                        order by day\")"
   ]
  },
  {
   "cell_type": "code",
   "execution_count": 169,
   "metadata": {},
   "outputs": [
    {
     "data": {
      "image/png": "[encoded data removed]",
      "text/plain": [
       "<matplotlib.figure.Figure at 0x7fda94eac160>"
      ]
     },
     "metadata": {
      "needs_background": "light"
     },
     "output_type": "display_data"
    }
   ],
   "source": [
    "plt.figure(figsize=(10,7))\n",
    "sns.barplot(x='day',y='Count',data=users_by_days.toPandas());"
   ]
  },
  {
   "cell_type": "markdown",
   "metadata": {},
   "source": [
    "Though there doesnt seem to be a set pattern on the number of users based on the different days, it looks like there are more users around the beginning of the month compared to later half."
   ]
  },
  {
   "cell_type": "code",
   "execution_count": 170,
   "metadata": {},
   "outputs": [],
   "source": [
    "#User count by the weekday\n",
    "users_by_weekday = spark.sql(\"Select weekday,count(distinct userId) as Count \\\n",
    "                        from spark_table_clean group by weekday \\\n",
    "                        order by weekday\")"
   ]
  },
  {
   "cell_type": "code",
   "execution_count": 171,
   "metadata": {},
   "outputs": [
    {
     "data": {
      "image/png": "[encoded data removed]",
      "text/plain": [
       "<matplotlib.figure.Figure at 0x7fda94eb70b8>"
      ]
     },
     "metadata": {
      "needs_background": "light"
     },
     "output_type": "display_data"
    }
   ],
   "source": [
    "plt.figure(figsize=(7,5))\n",
    "sns.barplot(x='weekday',y='Count',data=users_by_weekday.toPandas());"
   ]
  },
  {
   "cell_type": "markdown",
   "metadata": {},
   "source": [
    "Looks like the users use sparkify more often during weekdays compared to weekend."
   ]
  },
  {
   "cell_type": "markdown",
   "metadata": {},
   "source": [
    "### Define Churn\n",
    "\n",
    "Once you've done some preliminary analysis, create a column `Churn` to use as the label for your model. I suggest using the `Cancellation Confirmation` events to define your churn, which happen for both paid and free users. As a bonus task, you can also look into the `Downgrade` events.\n",
    "\n",
    "### Explore Data\n",
    "Once you've defined churn, perform some exploratory data analysis to observe the behavior for users who stayed vs users who churned. You can start by exploring aggregates on these two groups of users, observing how much of a specific action they experienced per a certain time unit or number of songs played."
   ]
  },
  {
   "cell_type": "code",
   "execution_count": 172,
   "metadata": {},
   "outputs": [
    {
     "data": {
      "text/plain": [
       "[Row(page='Cancel'),\n",
       " Row(page='Submit Downgrade'),\n",
       " Row(page='Thumbs Down'),\n",
       " Row(page='Home'),\n",
       " Row(page='Downgrade'),\n",
       " Row(page='Roll Advert'),\n",
       " Row(page='Logout'),\n",
       " Row(page='Save Settings'),\n",
       " Row(page='Cancellation Confirmation'),\n",
       " Row(page='About'),\n",
       " Row(page='Settings'),\n",
       " Row(page='Add to Playlist'),\n",
       " Row(page='Add Friend'),\n",
       " Row(page='NextSong'),\n",
       " Row(page='Thumbs Up'),\n",
       " Row(page='Help'),\n",
       " Row(page='Upgrade'),\n",
       " Row(page='Error'),\n",
       " Row(page='Submit Upgrade')]"
      ]
     },
     "execution_count": 172,
     "metadata": {},
     "output_type": "execute_result"
    }
   ],
   "source": [
    "#Identify a flag event\n",
    "\n",
    "df.select('page').dropDuplicates().collect()"
   ]
  },
  {
   "cell_type": "code",
   "execution_count": 173,
   "metadata": {},
   "outputs": [],
   "source": [
    "#Define Churn\n",
    "\n",
    "define_churn = udf(lambda x : 1 if x=='Cancellation Confirmation' else 0, IntegerType())\n",
    "df_churn = df.withColumn('Churn_Event',define_churn('page'))"
   ]
  },
  {
   "cell_type": "code",
   "execution_count": 174,
   "metadata": {},
   "outputs": [],
   "source": [
    "user = Window.partitionBy('userId').rangeBetween(Window.unboundedPreceding,Window.unboundedFollowing)\n",
    "df_churn = df_churn.withColumn('Churn',fmax('Churn_Event').over(user))"
   ]
  },
  {
   "cell_type": "code",
   "execution_count": 175,
   "metadata": {},
   "outputs": [
    {
     "data": {
      "text/plain": [
       "Row(artist='Sleeping With Sirens', auth='Logged In', firstName='Darianna', gender='F', itemInSession=0, lastName='Carpenter', length=202.97098, level='free', method='PUT', page='NextSong', registration=1538016340000, sessionId=31, song='Captain Tyin Knots VS Mr Walkway (No Way)', status=200, userAgent='\"Mozilla/5.0 (iPhone; CPU iPhone OS 7_1_2 like Mac OS X) AppleWebKit/537.51.2 (KHTML, like Gecko) Version/7.0 Mobile/11D257 Safari/9537.53\"', userId='100010', City='Bridgeport-Stamford-Norwalk', State=' CT', hour='12', day='08', weekday='Monday', Churn_Event=0, Churn=0)"
      ]
     },
     "execution_count": 175,
     "metadata": {},
     "output_type": "execute_result"
    }
   ],
   "source": [
    "df_churn.head()"
   ]
  },
  {
   "cell_type": "code",
   "execution_count": 176,
   "metadata": {},
   "outputs": [
    {
     "name": "stdout",
     "output_type": "stream",
     "text": [
      "+-----+----+\n",
      "|Churn|User|\n",
      "+-----+----+\n",
      "|    1|  52|\n",
      "|    0| 173|\n",
      "+-----+----+\n",
      "\n"
     ]
    }
   ],
   "source": [
    "# identify counts of churn vs not churn\n",
    "df_churn.createOrReplaceTempView(\"spark_table_churn\")\n",
    "spark.sql(\"Select Churn,count(Distinct UserId) as User from spark_table_churn \\\n",
    "                    group by Churn\").show()"
   ]
  },
  {
   "cell_type": "markdown",
   "metadata": {},
   "source": [
    "The rate of churn is about 23% of the total. \n",
    "\n",
    "The next step is to identify churns across different variables like Gender, Auth, location etc..."
   ]
  },
  {
   "cell_type": "code",
   "execution_count": 177,
   "metadata": {},
   "outputs": [
    {
     "name": "stdout",
     "output_type": "stream",
     "text": [
      "+-----+------+----------------------+\n",
      "|Churn|gender|count(DISTINCT userId)|\n",
      "+-----+------+----------------------+\n",
      "|    1|     F|                    20|\n",
      "|    0|     M|                    89|\n",
      "|    1|     M|                    32|\n",
      "|    0|     F|                    84|\n",
      "+-----+------+----------------------+\n",
      "\n"
     ]
    }
   ],
   "source": [
    "# Churn based on Gender\n",
    "spark.sql(\"Select Churn,gender, count(distinct userId) from spark_table_churn group by Churn, gender\").show()"
   ]
  },
  {
   "cell_type": "markdown",
   "metadata": {},
   "source": [
    "Looks like Gender doesnt seem to play a major role in churn."
   ]
  },
  {
   "cell_type": "code",
   "execution_count": 178,
   "metadata": {},
   "outputs": [
    {
     "name": "stdout",
     "output_type": "stream",
     "text": [
      "+-----+---------+----------------------+\n",
      "|Churn|     Auth|count(DISTINCT userId)|\n",
      "+-----+---------+----------------------+\n",
      "|    1|Cancelled|                    52|\n",
      "|    0|Logged In|                   173|\n",
      "|    1|Logged In|                    52|\n",
      "+-----+---------+----------------------+\n",
      "\n"
     ]
    }
   ],
   "source": [
    "# Churn based on Auth\n",
    "spark.sql(\"Select Churn, Auth, count(distinct userId) from spark_table_churn group by Churn, Auth\").show()"
   ]
  },
  {
   "cell_type": "code",
   "execution_count": 179,
   "metadata": {},
   "outputs": [],
   "source": [
    "# Churn based on Location\n",
    "state_data = spark.sql(\"Select Churn, state, count (Distinct UserId) as Count \\\n",
    "                        from spark_table_churn group by Churn, state \\\n",
    "                        order by state\")"
   ]
  },
  {
   "cell_type": "code",
   "execution_count": 180,
   "metadata": {
    "scrolled": true
   },
   "outputs": [
    {
     "data": {
      "image/png": "[encoded data removed]",
      "text/plain": [
       "<matplotlib.figure.Figure at 0x7fda948a7e10>"
      ]
     },
     "metadata": {
      "needs_background": "light"
     },
     "output_type": "display_data"
    }
   ],
   "source": [
    "fig, ax = plt.subplots(figsize=(10,15))\n",
    "sns.barplot( x=\"Count\",y=\"state\", hue=\"Churn\", data=state_data.toPandas(),ax=ax);"
   ]
  },
  {
   "cell_type": "code",
   "execution_count": 181,
   "metadata": {},
   "outputs": [],
   "source": [
    "# Churn based on Hour \n",
    "hour_data = spark.sql (\"Select Churn, hour, Count(distinct userId) as Count \\\n",
    "                        from spark_table_Churn group by Churn, hour \\\n",
    "                        order by hour\")"
   ]
  },
  {
   "cell_type": "code",
   "execution_count": 182,
   "metadata": {},
   "outputs": [
    {
     "data": {
      "image/png": "[encoded data removed]",
      "text/plain": [
       "<matplotlib.figure.Figure at 0x7fda97858d30>"
      ]
     },
     "metadata": {
      "needs_background": "light"
     },
     "output_type": "display_data"
    }
   ],
   "source": [
    "fig, ax = plt.subplots(figsize=(10,5))\n",
    "sns.barplot( x=\"hour\",y=\"Count\", hue=\"Churn\", data=hour_data.toPandas(),ax=ax);"
   ]
  },
  {
   "cell_type": "code",
   "execution_count": 183,
   "metadata": {},
   "outputs": [],
   "source": [
    "# CHurn based on Day of the month\n",
    "days_of_month_data = spark.sql(\"Select Churn, day, count(distinct userId) as Count \\\n",
    "                        from spark_table_churn group by churn, day \\\n",
    "                        order by day\")"
   ]
  },
  {
   "cell_type": "code",
   "execution_count": 184,
   "metadata": {},
   "outputs": [
    {
     "data": {
      "image/png": "[encoded data removed]",
      "text/plain": [
       "<matplotlib.figure.Figure at 0x7fda8efa8860>"
      ]
     },
     "metadata": {
      "needs_background": "light"
     },
     "output_type": "display_data"
    }
   ],
   "source": [
    "fig, ax = plt.subplots(figsize=(20,6))\n",
    "sns.barplot(x=\"day\",y=\"Count\", hue=\"Churn\", data=days_of_month_data.toPandas(),ax=ax);"
   ]
  },
  {
   "cell_type": "code",
   "execution_count": 185,
   "metadata": {},
   "outputs": [],
   "source": [
    "# Churn based on weekday\n",
    "weekday_data = spark.sql(\"Select Churn, weekday, count(distinct userId) as Count\\\n",
    "                from spark_table_churn group by Churn, weekday \\\n",
    "                order by weekday\")"
   ]
  },
  {
   "cell_type": "code",
   "execution_count": 186,
   "metadata": {},
   "outputs": [
    {
     "data": {
      "image/png": "[encoded data removed]",
      "text/plain": [
       "<matplotlib.figure.Figure at 0x7fda94d34860>"
      ]
     },
     "metadata": {
      "needs_background": "light"
     },
     "output_type": "display_data"
    }
   ],
   "source": [
    "fig, ax = plt.subplots(figsize=(10,5))\n",
    "sns.barplot( x=\"weekday\",y=\"Count\", hue=\"Churn\", data=weekday_data.toPandas(),ax=ax);"
   ]
  },
  {
   "cell_type": "markdown",
   "metadata": {},
   "source": [
    "# Feature Engineering\n",
    "Once you've familiarized yourself with the data, build out the features you find promising to train your model on. To work with the full dataset, you can follow the following steps.\n",
    "- Write a script to extract the necessary features from the smaller subset of data\n",
    "- Ensure that your script is scalable, using the best practices discussed in Lesson 3\n",
    "- Try your script on the full data set, debugging your script if necessary\n",
    "\n",
    "If you are working in the classroom workspace, you can just extract features based on the small subset of data contained here. Be sure to transfer over this work to the larger dataset when you work on your Spark cluster."
   ]
  },
  {
   "cell_type": "code",
   "execution_count": 187,
   "metadata": {},
   "outputs": [],
   "source": [
    "# Define feature (Categorical) based on Level (Paid Vs Free)\n",
    "df_feature = spark.sql(\"Select main.userId, freelvl.freelevel, paidlvl.paidlevel from \\\n",
    "            (select distinct userId from spark_table_churn) main left outer join \\\n",
    "            (Select userId, level as freelevel from spark_table_churn \\\n",
    "            where level = 'free' group by userId, level) freelvl on \\\n",
    "            main.userId = freelvl.userId Left outer join \\\n",
    "            (Select userId, level as paidlevel from spark_table_churn \\\n",
    "            where level = 'paid' group by userId, level) paidlvl \\\n",
    "            on main.userId = paidlvl.userId\")"
   ]
  },
  {
   "cell_type": "markdown",
   "metadata": {},
   "source": [
    "Define few Numerical Features"
   ]
  },
  {
   "cell_type": "code",
   "execution_count": 188,
   "metadata": {},
   "outputs": [],
   "source": [
    "# calculate frequency of user visits by AM/PM of the day\n",
    "hourfList = []\n",
    "hour_split = spark.sql(\"select userId,sum(case when hour between '00' and '11' Then 1 Else 0 End) as Day_AM_Count \\\n",
    "        ,sum(case when hour between '12' and '23' Then 1 Else 0 End) as Day_PM_Count \\\n",
    "        from spark_table_Churn group by userId\")\n",
    "\n",
    "for c in hour_split.columns[1:]:\n",
    "    hour_dtl = hour_split.select([\"userId\",c])\n",
    "    hourfList.append(hour_dtl)"
   ]
  },
  {
   "cell_type": "code",
   "execution_count": 189,
   "metadata": {},
   "outputs": [],
   "source": [
    "# calculate frequency of user visits by First half / second half of month\n",
    "monthfList = []\n",
    "month_split = spark.sql(\"select userId,sum(case when day between '01' and '15' Then 1 Else 0 End) as FH_Mth_Count \\\n",
    "        ,sum(case when day > '15' Then 1 Else 0 End) as SH_Mth_Count \\\n",
    "        from spark_table_Churn group by userId\")\n",
    "\n",
    "for c in month_split.columns[1:]:\n",
    "    month_dtl = month_split.select([\"userId\",c])\n",
    "    monthfList.append(month_dtl)"
   ]
  },
  {
   "cell_type": "code",
   "execution_count": 190,
   "metadata": {},
   "outputs": [],
   "source": [
    "# Calculate frequency of user visits by Weekdays and weekdays\n",
    "weekfList = []\n",
    "week_split = spark.sql(\"select userId,sum(case when weekday in ('Sunday','Saturday') Then 1 Else 0 End) as Weekend_Count \\\n",
    "        ,sum(case when weekday not in ('Sunday','Saturday') Then 1 Else 0 End) as Weekdays_Count \\\n",
    "        from spark_table_Churn group by userId\")\n",
    "\n",
    "for c in week_split.columns[1:]:\n",
    "    week_dtl = week_split.select([\"userId\",c])\n",
    "    weekfList.append(week_dtl)"
   ]
  },
  {
   "cell_type": "code",
   "execution_count": 191,
   "metadata": {},
   "outputs": [],
   "source": [
    "# Calculate number of visits to each page by user\n",
    "df_page = spark.sql(\"Select userId, page, count(*) as Count from spark_table_churn \\\n",
    "            group by userId, page\")\n",
    "\n",
    "df_page_list = df_page.groupby(\"userId\").pivot(\"page\").sum(\"Count\")\n",
    "page_split = df_page_list.select([col(c).alias(c.replace(' ', '_')) for c in df_page_list.columns])"
   ]
  },
  {
   "cell_type": "code",
   "execution_count": 192,
   "metadata": {},
   "outputs": [],
   "source": [
    "pagefList = []\n",
    "for c in page_split.columns[1:]:\n",
    "    each_page = page_split.select([\"userId\",c])\n",
    "    pagefList.append(each_page)"
   ]
  },
  {
   "cell_type": "code",
   "execution_count": 193,
   "metadata": {},
   "outputs": [],
   "source": [
    "# consolidate the numerical features\n",
    "numfeaturesList = []\n",
    "for f in [hourfList, monthfList, weekfList, pagefList]:\n",
    "    numfeaturesList.extend(f)"
   ]
  },
  {
   "cell_type": "code",
   "execution_count": 194,
   "metadata": {},
   "outputs": [
    {
     "data": {
      "text/plain": [
       "[DataFrame[userId: string, Day_AM_Count: bigint],\n",
       " DataFrame[userId: string, Day_PM_Count: bigint],\n",
       " DataFrame[userId: string, FH_Mth_Count: bigint],\n",
       " DataFrame[userId: string, SH_Mth_Count: bigint],\n",
       " DataFrame[userId: string, Weekend_Count: bigint],\n",
       " DataFrame[userId: string, Weekdays_Count: bigint],\n",
       " DataFrame[userId: string, About: bigint],\n",
       " DataFrame[userId: string, Add_Friend: bigint],\n",
       " DataFrame[userId: string, Add_to_Playlist: bigint],\n",
       " DataFrame[userId: string, Cancel: bigint],\n",
       " DataFrame[userId: string, Cancellation_Confirmation: bigint],\n",
       " DataFrame[userId: string, Downgrade: bigint],\n",
       " DataFrame[userId: string, Error: bigint],\n",
       " DataFrame[userId: string, Help: bigint],\n",
       " DataFrame[userId: string, Home: bigint],\n",
       " DataFrame[userId: string, Logout: bigint],\n",
       " DataFrame[userId: string, NextSong: bigint],\n",
       " DataFrame[userId: string, Roll_Advert: bigint],\n",
       " DataFrame[userId: string, Save_Settings: bigint],\n",
       " DataFrame[userId: string, Settings: bigint],\n",
       " DataFrame[userId: string, Submit_Downgrade: bigint],\n",
       " DataFrame[userId: string, Submit_Upgrade: bigint],\n",
       " DataFrame[userId: string, Thumbs_Down: bigint],\n",
       " DataFrame[userId: string, Thumbs_Up: bigint],\n",
       " DataFrame[userId: string, Upgrade: bigint]]"
      ]
     },
     "execution_count": 194,
     "metadata": {},
     "output_type": "execute_result"
    }
   ],
   "source": [
    "numfeaturesList"
   ]
  },
  {
   "cell_type": "code",
   "execution_count": 195,
   "metadata": {},
   "outputs": [],
   "source": [
    "# Create a new dataframe with Categorical (Level) feature and numerical feature\n",
    "for f in numfeaturesList:\n",
    "    df_feature = df_feature.join(f, ['userId'], how='full')"
   ]
  },
  {
   "cell_type": "code",
   "execution_count": 196,
   "metadata": {},
   "outputs": [
    {
     "name": "stdout",
     "output_type": "stream",
     "text": [
      "+------+---------+---------+------------+------------+------------+------------+-------------+--------------+-----+----------+---------------+------+-------------------------+---------+-----+----+----+------+--------+-----------+-------------+--------+----------------+--------------+-----------+---------+-------+\n",
      "|userId|freelevel|paidlevel|Day_AM_Count|Day_PM_Count|FH_Mth_Count|SH_Mth_Count|Weekend_Count|Weekdays_Count|About|Add_Friend|Add_to_Playlist|Cancel|Cancellation_Confirmation|Downgrade|Error|Help|Home|Logout|NextSong|Roll_Advert|Save_Settings|Settings|Submit_Downgrade|Submit_Upgrade|Thumbs_Down|Thumbs_Up|Upgrade|\n",
      "+------+---------+---------+------------+------------+------------+------------+-------------+--------------+-----+----------+---------------+------+-------------------------+---------+-----+----+----+------+--------+-----------+-------------+--------+----------------+--------------+-----------+---------+-------+\n",
      "|100010|     free|     null|         166|         215|         233|         148|           60|           321|    1|         4|              7|  null|                     null|     null| null|   2|  11|     5|     275|         52|         null|    null|            null|          null|          5|       17|      2|\n",
      "|200002|     free|     paid|         108|         366|         177|         297|            0|           474|    3|         4|              8|  null|                     null|        5| null|   2|  20|     5|     387|          7|         null|       3|            null|             1|          6|       21|      2|\n",
      "|   125|     free|     null|          11|           0|          11|           0|            0|            11| null|      null|           null|     1|                        1|     null| null|null|null|  null|       8|          1|         null|    null|            null|          null|       null|     null|   null|\n",
      "|   124|     null|     paid|        1974|        2851|        2791|        2034|          581|          4244|    7|        74|            118|  null|                     null|       41|    6|  23| 176|    59|    4079|          4|            6|      20|            null|          null|         41|      171|   null|\n",
      "|    51|     null|     paid|        1177|        1287|        2223|         241|          170|          2294|    2|        28|             52|     1|                        1|       23|    1|  12|  75|    24|    2111|       null|            1|      12|            null|          null|         21|      100|   null|\n",
      "|     7|     free|     null|         109|          92|          52|         149|            0|           201| null|         1|              5|  null|                     null|     null|    1|   1|  10|     3|     150|         16|            1|       3|            null|          null|          1|        7|      2|\n",
      "|    15|     null|     paid|         818|        1460|        1529|         749|          540|          1738|    2|        31|             59|  null|                     null|       28|    2|   8|  93|    27|    1914|          1|            2|      16|            null|          null|         14|       81|   null|\n",
      "|    54|     free|     paid|        1407|        2030|        2648|         789|          696|          2741|    5|        33|             72|     1|                        1|       39|    1|  17| 129|    36|    2841|         47|            3|      17|               1|             1|         29|      163|      1|\n",
      "|   155|     free|     paid|         691|         311|         474|         528|            0|          1002|    2|        11|             24|  null|                     null|       12|    3|   9|  30|    14|     820|          8|         null|       5|            null|             1|          3|       58|      2|\n",
      "|100014|     null|     paid|          33|         277|          90|         220|           53|           257| null|         6|              7|     1|                        1|        3| null|   2|   7|     3|     257|          2|         null|       1|            null|          null|          3|       17|   null|\n",
      "|   132|     free|     paid|         889|        1415|        1549|         755|          146|          2158|    4|        41|             38|  null|                     null|       19|    3|  16|  83|    34|    1928|          2|            4|      17|            null|             1|         17|       96|      1|\n",
      "|   154|     free|     null|           0|         118|          88|          30|           64|            54| null|         3|              1|  null|                     null|     null| null|   1|   6|     2|      84|         10|         null|    null|            null|          null|       null|       11|   null|\n",
      "|   101|     free|     paid|        1156|         993|        2005|         144|          205|          1944|    2|        29|             61|     1|                        1|       22|    3|  12|  74|    24|    1797|          8|            2|       9|            null|             1|         16|       86|      1|\n",
      "|    11|     free|     paid|         317|         531|         335|         513|          100|           748|    7|         6|             20|  null|                     null|        5|    1|   3|  37|    14|     647|         39|            2|       6|               1|             2|          9|       40|      9|\n",
      "|   138|     free|     paid|        1219|        1250|         205|        2264|          455|          2014|    8|        41|             67|  null|                     null|       21|    1|  13|  71|    18|    2070|         17|            4|      17|            null|             1|         24|       95|      1|\n",
      "|300017|     null|     paid|        1434|        2994|        2853|        1575|          980|          3448|    3|        63|            113|  null|                     null|       25|    5|  27| 151|    41|    3632|         11|            3|      23|            null|          null|         28|      303|   null|\n",
      "|100021|     free|     null|         277|          42|         137|         182|          286|            33|    1|         7|              7|     1|                        1|     null|    2|null|  15|     7|     230|         30|         null|    null|            null|          null|          5|       11|      2|\n",
      "|    29|     free|     paid|        1466|        2137|        2311|        1292|          352|          3251|    2|        47|             89|     1|                        1|       18| null|  28| 121|    41|    3028|         22|            4|      19|            null|             1|         22|      154|      5|\n",
      "|    69|     free|     paid|         579|         763|         510|         832|           87|          1255|    3|        12|             33|  null|                     null|        9|    4|   7|  49|    10|    1125|          3|            1|       3|            null|             1|          9|       72|      1|\n",
      "|   112|     free|     null|          41|         251|         202|          90|           28|           264|    1|         7|              7|  null|                     null|     null| null|   1|  16|     3|     215|         21|            3|       4|            null|          null|          3|        9|      2|\n",
      "+------+---------+---------+------------+------------+------------+------------+-------------+--------------+-----+----------+---------------+------+-------------------------+---------+-----+----+----+------+--------+-----------+-------------+--------+----------------+--------------+-----------+---------+-------+\n",
      "only showing top 20 rows\n",
      "\n"
     ]
    }
   ],
   "source": [
    "df_feature.show()"
   ]
  },
  {
   "cell_type": "code",
   "execution_count": 197,
   "metadata": {},
   "outputs": [
    {
     "data": {
      "text/plain": [
       "userId                         0\n",
       "freelevel                     30\n",
       "paidlevel                     60\n",
       "Day_AM_Count                   0\n",
       "Day_PM_Count                   0\n",
       "FH_Mth_Count                   0\n",
       "SH_Mth_Count                   0\n",
       "Weekend_Count                  0\n",
       "Weekdays_Count                 0\n",
       "About                         70\n",
       "Add_Friend                    19\n",
       "Add_to_Playlist               10\n",
       "Cancel                       173\n",
       "Cancellation_Confirmation    173\n",
       "Downgrade                     71\n",
       "Error                        108\n",
       "Help                          33\n",
       "Home                           2\n",
       "Logout                        12\n",
       "NextSong                       0\n",
       "Roll_Advert                   18\n",
       "Save_Settings                 93\n",
       "Settings                      30\n",
       "Submit_Downgrade             176\n",
       "Submit_Upgrade                94\n",
       "Thumbs_Down                   22\n",
       "Thumbs_Up                      5\n",
       "Upgrade                       57\n",
       "dtype: int64"
      ]
     },
     "execution_count": 197,
     "metadata": {},
     "output_type": "execute_result"
    }
   ],
   "source": [
    "# Check if the new dataframe has any nulls\n",
    "df_feature.toPandas().isnull().sum()"
   ]
  },
  {
   "cell_type": "code",
   "execution_count": 198,
   "metadata": {},
   "outputs": [],
   "source": [
    "# Fill nulls with 0's on all columns except freelevel & paidlevel\n",
    "df_feature = df_feature.fillna(0)"
   ]
  },
  {
   "cell_type": "code",
   "execution_count": 199,
   "metadata": {},
   "outputs": [],
   "source": [
    "# Fix the null values in freelevel & paidlevel\n",
    "fix_null = udf(lambda x: 1 if x else 0)\n",
    "df_feature = df_feature.withColumn(\"freelevel\", fix_null(df_feature.freelevel))\n",
    "df_feature = df_feature.withColumn(\"paidlevel\", fix_null(df_feature.paidlevel))"
   ]
  },
  {
   "cell_type": "code",
   "execution_count": 200,
   "metadata": {},
   "outputs": [
    {
     "data": {
      "text/plain": [
       "userId                       0\n",
       "freelevel                    0\n",
       "paidlevel                    0\n",
       "Day_AM_Count                 0\n",
       "Day_PM_Count                 0\n",
       "FH_Mth_Count                 0\n",
       "SH_Mth_Count                 0\n",
       "Weekend_Count                0\n",
       "Weekdays_Count               0\n",
       "About                        0\n",
       "Add_Friend                   0\n",
       "Add_to_Playlist              0\n",
       "Cancel                       0\n",
       "Cancellation_Confirmation    0\n",
       "Downgrade                    0\n",
       "Error                        0\n",
       "Help                         0\n",
       "Home                         0\n",
       "Logout                       0\n",
       "NextSong                     0\n",
       "Roll_Advert                  0\n",
       "Save_Settings                0\n",
       "Settings                     0\n",
       "Submit_Downgrade             0\n",
       "Submit_Upgrade               0\n",
       "Thumbs_Down                  0\n",
       "Thumbs_Up                    0\n",
       "Upgrade                      0\n",
       "dtype: int64"
      ]
     },
     "execution_count": 200,
     "metadata": {},
     "output_type": "execute_result"
    }
   ],
   "source": [
    "# check if all nulls have been fixed\n",
    "df_feature.toPandas().isnull().sum()"
   ]
  },
  {
   "cell_type": "code",
   "execution_count": 201,
   "metadata": {},
   "outputs": [],
   "source": [
    "# Define Churn based on column 'Cancellation_Confirmation'\n",
    "get_churn = udf(lambda x: 1 if int(x) > 0 else 0)\n",
    "df_feature = df_feature.withColumn(\"Churn\", get_churn(df_feature.Cancellation_Confirmation))"
   ]
  },
  {
   "cell_type": "code",
   "execution_count": 202,
   "metadata": {},
   "outputs": [
    {
     "name": "stdout",
     "output_type": "stream",
     "text": [
      "root\n",
      " |-- userId: string (nullable = true)\n",
      " |-- freelevel: string (nullable = true)\n",
      " |-- paidlevel: string (nullable = true)\n",
      " |-- Day_AM_Count: long (nullable = true)\n",
      " |-- Day_PM_Count: long (nullable = true)\n",
      " |-- FH_Mth_Count: long (nullable = true)\n",
      " |-- SH_Mth_Count: long (nullable = true)\n",
      " |-- Weekend_Count: long (nullable = true)\n",
      " |-- Weekdays_Count: long (nullable = true)\n",
      " |-- About: long (nullable = true)\n",
      " |-- Add_Friend: long (nullable = true)\n",
      " |-- Add_to_Playlist: long (nullable = true)\n",
      " |-- Cancel: long (nullable = true)\n",
      " |-- Cancellation_Confirmation: long (nullable = true)\n",
      " |-- Downgrade: long (nullable = true)\n",
      " |-- Error: long (nullable = true)\n",
      " |-- Help: long (nullable = true)\n",
      " |-- Home: long (nullable = true)\n",
      " |-- Logout: long (nullable = true)\n",
      " |-- NextSong: long (nullable = true)\n",
      " |-- Roll_Advert: long (nullable = true)\n",
      " |-- Save_Settings: long (nullable = true)\n",
      " |-- Settings: long (nullable = true)\n",
      " |-- Submit_Downgrade: long (nullable = true)\n",
      " |-- Submit_Upgrade: long (nullable = true)\n",
      " |-- Thumbs_Down: long (nullable = true)\n",
      " |-- Thumbs_Up: long (nullable = true)\n",
      " |-- Upgrade: long (nullable = true)\n",
      " |-- Churn: string (nullable = true)\n",
      "\n"
     ]
    }
   ],
   "source": [
    "df_feature.printSchema()"
   ]
  },
  {
   "cell_type": "code",
   "execution_count": 203,
   "metadata": {},
   "outputs": [],
   "source": [
    "# convert column (except userId) datatypes to float\n",
    "for c in df_feature.columns[1:]:\n",
    "    df_feature = df_feature.withColumn(c, df_feature[c].cast(FloatType()))"
   ]
  },
  {
   "cell_type": "code",
   "execution_count": 204,
   "metadata": {},
   "outputs": [],
   "source": [
    "# define features for classification\n",
    "featurelist = df_feature.columns\n",
    "featurelist.remove('userId')\n",
    "featurelist.remove('Cancellation_Confirmation')\n",
    "featurelist.remove('Churn')"
   ]
  },
  {
   "cell_type": "code",
   "execution_count": 205,
   "metadata": {},
   "outputs": [],
   "source": [
    "# combine features using VecotrAssembler\n",
    "assembler = VectorAssembler(inputCols=featurelist, outputCol=\"ChurnFeatures\")\n",
    "df_feature = assembler.transform(df_feature)"
   ]
  },
  {
   "cell_type": "code",
   "execution_count": 206,
   "metadata": {},
   "outputs": [],
   "source": [
    "# scale features using Normalizer\n",
    "scaler = Normalizer(inputCol=\"ChurnFeatures\", outputCol=\"NormalizedChurnFeatures\")\n",
    "df_feature = scaler.transform(df_feature)"
   ]
  },
  {
   "cell_type": "code",
   "execution_count": 207,
   "metadata": {},
   "outputs": [
    {
     "name": "stdout",
     "output_type": "stream",
     "text": [
      "+------+--------------------+-----------------------+\n",
      "|userId|       ChurnFeatures|NormalizedChurnFeatures|\n",
      "+------+--------------------+-----------------------+\n",
      "|100010|[1.0,0.0,166.0,21...|   [0.00172650297129...|\n",
      "|200002|[1.0,1.0,108.0,36...|   [0.00124932866621...|\n",
      "|   125|(26,[0,2,4,7,11,1...|   (26,[0,2,4,7,11,1...|\n",
      "|   124|[0.0,1.0,1974.0,2...|   [0.0,1.3015959638...|\n",
      "|    51|[0.0,1.0,1177.0,1...|   [0.0,2.3695538191...|\n",
      "|     7|[1.0,0.0,109.0,92...|   [0.00303435991463...|\n",
      "|    15|[0.0,1.0,818.0,14...|   [0.0,2.8064100913...|\n",
      "|    54|[1.0,1.0,1407.0,2...|   [1.83002544066986...|\n",
      "|   155|[1.0,1.0,691.0,31...|   [6.01976596608954...|\n",
      "|100014|[0.0,1.0,33.0,277...|   [0.0,0.0019256209...|\n",
      "|   132|[1.0,1.0,889.0,14...|   [2.65568272156413...|\n",
      "|   154|(26,[0,3,4,5,6,7,...|   (26,[0,3,4,5,6,7,...|\n",
      "|   101|[1.0,1.0,1156.0,9...|   [2.72847720993037...|\n",
      "|    11|[1.0,1.0,317.0,53...|   [7.55632795996455...|\n",
      "|   138|[1.0,1.0,1219.0,1...|   [2.44071561822727...|\n",
      "|300017|[0.0,1.0,1434.0,2...|   [0.0,1.4461347734...|\n",
      "|100021|[1.0,0.0,277.0,42...|   [0.00193311168256...|\n",
      "|    29|[1.0,1.0,1466.0,2...|   [1.72413144761539...|\n",
      "|    69|[1.0,1.0,579.0,76...|   [4.59940048882047...|\n",
      "|   112|[1.0,0.0,41.0,251...|   [0.00207964937072...|\n",
      "+------+--------------------+-----------------------+\n",
      "only showing top 20 rows\n",
      "\n"
     ]
    }
   ],
   "source": [
    "df_feature.select('userId', 'ChurnFeatures', 'NormalizedChurnFeatures').show()"
   ]
  },
  {
   "cell_type": "markdown",
   "metadata": {},
   "source": [
    "# Modeling\n",
    "Split the full dataset into train, test, and validation sets. Test out several of the machine learning methods you learned. Evaluate the accuracy of the various models, tuning parameters as necessary. Determine your winning model based on test accuracy and report results on the validation set. Since the churned users are a fairly small subset, I suggest using F1 score as the metric to optimize."
   ]
  },
  {
   "cell_type": "code",
   "execution_count": 208,
   "metadata": {},
   "outputs": [],
   "source": [
    "data = df_feature.select(col(\"Churn\").alias(\"label\"), col(\"NormalizedChurnFeatures\").alias(\"features\"))"
   ]
  },
  {
   "cell_type": "code",
   "execution_count": 209,
   "metadata": {},
   "outputs": [],
   "source": [
    "# Check for Churned vs Not churned. Not Churned is considered stayed users\n",
    "users_stayed = data.filter(data.label == 0).count()\n",
    "users_churned = data.filter(data.label == 1).count()"
   ]
  },
  {
   "cell_type": "code",
   "execution_count": 210,
   "metadata": {},
   "outputs": [
    {
     "name": "stdout",
     "output_type": "stream",
     "text": [
      "Number of stayed users in model dataset:  173\n",
      "Number of churned users in model dataset:  52\n",
      "Percentage of stayed users in model dataset:  0.7688888888888888\n",
      "Percentage of churned users in model dataset:  0.2311111111111111\n"
     ]
    }
   ],
   "source": [
    "print(\"Number of stayed users in model dataset: \", users_stayed)\n",
    "print(\"Number of churned users in model dataset: \", users_churned)\n",
    "print(\"Percentage of stayed users in model dataset: \", users_stayed/data.count())\n",
    "print(\"Percentage of churned users in model dataset: \", users_churned/data.count())"
   ]
  },
  {
   "cell_type": "code",
   "execution_count": 211,
   "metadata": {},
   "outputs": [],
   "source": [
    "# Split into Train and Test data set\n",
    "train, test = data.randomSplit([0.7, 0.3], seed=42)"
   ]
  },
  {
   "cell_type": "code",
   "execution_count": 212,
   "metadata": {},
   "outputs": [],
   "source": [
    "#function to conver row obejct to string\n",
    "convert_row_to_string = lambda x, y: x.asDict()[y]"
   ]
  },
  {
   "cell_type": "code",
   "execution_count": 213,
   "metadata": {},
   "outputs": [],
   "source": [
    "# Define a function to evaluate model metrics\n",
    "def get_metrics(model):\n",
    "    tp, fp, fn, tn = [0 for i in range(4)]\n",
    "    val = []\n",
    "    \n",
    "    label = model.select([\"label\"]).collect()\n",
    "    prediction = model.select([\"prediction\"]).collect()\n",
    "    labelList = list(map(convert_row_to_string, label, ['label' for i in range(len(label))]))\n",
    "    predictionList = list(map(convert_row_to_string, prediction, ['prediction' for i in range(len(prediction))]))\n",
    "    \n",
    "    for i, (l, p) in enumerate(zip(labelList, predictionList)):    \n",
    "        if (l == 1) and (p == 1):\n",
    "            tp += 1\n",
    "        elif (l == 0) and (p == 1):\n",
    "            fp += 1\n",
    "        elif (l == 1) and (p == 0):\n",
    "            fn += 1\n",
    "        elif (l == 0) and (p == 0):\n",
    "            tn += 1\n",
    "        \n",
    "    val = [[tp, fp], [fn, tn]]\n",
    "\n",
    "    accuracy = (val[0][0] + val[1][1]) / (sum(val[0]) + sum(val[1]))\n",
    "    \n",
    "    if val[0][0] == 0 and val[0][1] == 0 and val[1][0] == 0:\n",
    "        precision, recall, f_score = [1 for i in range(3)]\n",
    "    elif (val[0][0] == 0 and val[0][1] == 0) or (val[0][0] == 0 and val[1][0] == 0):\n",
    "        precision, recall, f_score = [0 for i in range(3)]\n",
    "    else:\n",
    "        precision = val[0][0] / (val[0][0] +val[0][1])\n",
    "        recall = val[0][0] / (val[0][0] + val[1][0])\n",
    "        f_score = 2 * (precision * recall) / (precision + recall)\n",
    "    \n",
    "    return accuracy, precision, recall, f_score"
   ]
  },
  {
   "cell_type": "markdown",
   "metadata": {},
   "source": [
    "###### Compare Different Models"
   ]
  },
  {
   "cell_type": "code",
   "execution_count": 214,
   "metadata": {},
   "outputs": [],
   "source": [
    "# define evaluator to evaluate binary classification performance\n",
    "evaluator = BinaryClassificationEvaluator()"
   ]
  },
  {
   "cell_type": "markdown",
   "metadata": {},
   "source": [
    "###### Logistic Regression"
   ]
  },
  {
   "cell_type": "code",
   "execution_count": 215,
   "metadata": {},
   "outputs": [],
   "source": [
    "clf_LR = LogisticRegression(maxIter=5)\n",
    "prediction_lr = clf_LR.fit(train).transform(test)\n",
    "lr_result = prediction_lr.select(['prediction', 'label'])"
   ]
  },
  {
   "cell_type": "code",
   "execution_count": 216,
   "metadata": {
    "scrolled": false
   },
   "outputs": [
    {
     "name": "stdout",
     "output_type": "stream",
     "text": [
      "Logistic Regression Metrics:\n",
      "\n",
      "Accuracy = 0.774194\n",
      "Precison = 0.555556\n",
      "Recall = 0.333333\n",
      "F1 Score = 0.416667\n"
     ]
    }
   ],
   "source": [
    "accuracy, precision, recall, f_score = get_metrics(lr_result)\n",
    "\n",
    "print(\"Logistic Regression Metrics:\\n\")\n",
    "print(\"Accuracy = %f\" % accuracy)\n",
    "print(\"Precison = %f\" % precision)\n",
    "print(\"Recall = %f\" % recall)\n",
    "print(\"F1 Score = %f\" % f_score)"
   ]
  },
  {
   "cell_type": "code",
   "execution_count": 217,
   "metadata": {},
   "outputs": [
    {
     "name": "stdout",
     "output_type": "stream",
     "text": [
      "Test Area Under ROC is: 0.727660\n"
     ]
    }
   ],
   "source": [
    "areaUnderROC = evaluator.evaluate(prediction_lr, {evaluator.metricName: \"areaUnderROC\"})\n",
    "print(\"Test Area Under ROC is: %f\" % areaUnderROC)"
   ]
  },
  {
   "cell_type": "markdown",
   "metadata": {},
   "source": [
    "###### Random Forest Classifier"
   ]
  },
  {
   "cell_type": "code",
   "execution_count": 233,
   "metadata": {},
   "outputs": [],
   "source": [
    "rfc = RandomForestClassifier()\n",
    "prediction_rfc = rfc.fit(train).transform(test)\n",
    "rfc_result = prediction_rfc.select(['prediction', 'label'])"
   ]
  },
  {
   "cell_type": "code",
   "execution_count": 234,
   "metadata": {},
   "outputs": [
    {
     "name": "stdout",
     "output_type": "stream",
     "text": [
      "Random Forest Classifier Metrics:\n",
      "\n",
      "Accuracy = 1.000000\n",
      "Precison = 1.000000\n",
      "Recall = 1.000000\n",
      "F1 Score = 1.000000\n"
     ]
    }
   ],
   "source": [
    "accuracy, precision, recall, f_score = get_metrics(rfc_result)\n",
    "\n",
    "print(\"Random Forest Classifier Metrics:\\n\")\n",
    "print(\"Accuracy = %f\" % accuracy)\n",
    "print(\"Precison = %f\" % precision)\n",
    "print(\"Recall = %f\" % recall)\n",
    "print(\"F1 Score = %f\" % f_score)"
   ]
  },
  {
   "cell_type": "code",
   "execution_count": 235,
   "metadata": {},
   "outputs": [
    {
     "name": "stdout",
     "output_type": "stream",
     "text": [
      "Test Area Under ROC is: 1.000000\n"
     ]
    }
   ],
   "source": [
    "areaUnderROC = evaluator.evaluate(prediction_rfc, {evaluator.metricName: \"areaUnderROC\"})\n",
    "print(\"Test Area Under ROC is: %f\" % areaUnderROC)"
   ]
  },
  {
   "cell_type": "markdown",
   "metadata": {},
   "source": [
    "###### Linear SVC"
   ]
  },
  {
   "cell_type": "code",
   "execution_count": 237,
   "metadata": {},
   "outputs": [],
   "source": [
    "svc = LinearSVC()\n",
    "prediction_svc = svc.fit(train).transform(test)\n",
    "svc_result = prediction_svc.select(['prediction', 'label'])"
   ]
  },
  {
   "cell_type": "code",
   "execution_count": 238,
   "metadata": {},
   "outputs": [
    {
     "name": "stdout",
     "output_type": "stream",
     "text": [
      "Linear SVC Metrics:\n",
      "\n",
      "Accuracy = 1.000000\n",
      "Precison = 1.000000\n",
      "Recall = 1.000000\n",
      "F1 Score = 1.000000\n"
     ]
    }
   ],
   "source": [
    "accuracy, precision, recall, f_score = get_metrics(svc_result)\n",
    "\n",
    "print(\"Linear SVC Metrics:\\n\")\n",
    "print(\"Accuracy = %f\" % accuracy)\n",
    "print(\"Precison = %f\" % precision)\n",
    "print(\"Recall = %f\" % recall)\n",
    "print(\"F1 Score = %f\" % f_score)"
   ]
  },
  {
   "cell_type": "code",
   "execution_count": 239,
   "metadata": {},
   "outputs": [
    {
     "name": "stdout",
     "output_type": "stream",
     "text": [
      "Test Area Under ROC is: 1.000000\n"
     ]
    }
   ],
   "source": [
    "areaUnderROC = evaluator.evaluate(prediction_svc, {evaluator.metricName: \"areaUnderROC\"})\n",
    "print(\"Test Area Under ROC is: %f\" % areaUnderROC)"
   ]
  },
  {
   "cell_type": "markdown",
   "metadata": {},
   "source": [
    "# Final Steps\n",
    "Clean up your code, adding comments and renaming variables to make the code easier to read and maintain. Refer to the Spark Project Overview page and Data Scientist Capstone Project Rubric to make sure you are including all components of the capstone project and meet all expectations. Remember, this includes thorough documentation in a README file in a Github repository, as well as a web app or blog post."
   ]
  },
  {
   "cell_type": "code",
   "execution_count": null,
   "metadata": {},
   "outputs": [],
   "source": []
  }
 ],
 "metadata": {
  "kernelspec": {
   "display_name": "Python 3",
   "language": "python",
   "name": "python3"
  },
  "language_info": {
   "codemirror_mode": {
    "name": "ipython",
    "version": 3
   },
   "file_extension": ".py",
   "mimetype": "text/x-python",
   "name": "python",
   "nbconvert_exporter": "python",
   "pygments_lexer": "ipython3",
   "version": "3.6.3"
  }
 },
 "nbformat": 4,
 "nbformat_minor": 2
}
